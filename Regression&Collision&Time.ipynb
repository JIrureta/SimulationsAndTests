{
 "cells": [
  {
   "cell_type": "code",
   "execution_count": 1,
   "id": "f2fddcd6",
   "metadata": {},
   "outputs": [],
   "source": [
    "from scipy.optimize import fsolve\n",
    "import numpy as np\n",
    "import matplotlib.pyplot as plt\n",
    "from sklearn import linear_model\n",
    "from sklearn.preprocessing import PolynomialFeatures\n",
    "import warnings\n",
    "\n",
    "warnings.filterwarnings(\"error\")"
   ]
  },
  {
   "cell_type": "markdown",
   "id": "d7ed4c33",
   "metadata": {},
   "source": [
    "Define the function to get the paths from past points:"
   ]
  },
  {
   "cell_type": "code",
   "execution_count": 2,
   "id": "1f8af2b2",
   "metadata": {},
   "outputs": [],
   "source": [
    "def calculatePaths (xPoints, yPoints):\n",
    "    xArray = np.array([])\n",
    "\n",
    "    for x in xPoints:\n",
    "        xArray = np.append(xArray, x)\n",
    "\n",
    "    polynomial = PolynomialFeatures(degree=3, include_bias=False)\n",
    "    polynomial_features = polynomial.fit_transform(xArray.reshape(-1, 1))\n",
    "    polynomial_regression_model = linear_model.LinearRegression()\n",
    "\n",
    "    model = polynomial_regression_model.fit(polynomial_features, yPoints)\n",
    "\n",
    "    return model.coef_, model.intercept_"
   ]
  },
  {
   "cell_type": "markdown",
   "id": "b4276bba",
   "metadata": {},
   "source": [
    "Define the function to calculate paths have a common point:"
   ]
  },
  {
   "cell_type": "code",
   "execution_count": 3,
   "id": "02a225f0",
   "metadata": {},
   "outputs": [],
   "source": [
    "def findIntercept (lowerRange, upperRange, coeffRobot, interRobot, coeffPerson, interPerson): #f,\n",
    "    def f(xy):\n",
    "        x, y = xy\n",
    "        z = np.array([y-coeffRobot[2]*x**3-coeffRobot[1]*x**2-coeffRobot[0]*x-interRobot, y-coeffPerson[2]*x**3-coeffPerson[1]*x**2-coeffPerson[0]*x-interPerson])\n",
    "        return z\n",
    "    return (fsolve(f, [lowerRange, upperRange]))"
   ]
  },
  {
   "cell_type": "markdown",
   "id": "09d51370",
   "metadata": {},
   "source": [
    "Define the function to calculate moving agent's distance to the collision point:"
   ]
  },
  {
   "cell_type": "code",
   "execution_count": 4,
   "id": "7e84f91d",
   "metadata": {},
   "outputs": [],
   "source": [
    "def calculate_Distance_to_Collision(coef_array, intercept, origin_point_x,origin_point_y, collision_point_x, collision_point_y): #input current positions and predictions, output time and or distance until collision\n",
    "       \n",
    "    if origin_point_x <  collision_point_x:\n",
    "        larger=collision_point_x\n",
    "        smaller=origin_point_x\n",
    "        y_coordinate_previous=origin_point_y\n",
    "        x_coordinate_previous=origin_point_x\n",
    "        \n",
    "    else:\n",
    "        larger=origin_point_x\n",
    "        smaller=collision_point_x\n",
    "        y_coordinate_previous=collision_point_y\n",
    "        x_coordinate_previous=collision_point_x\n",
    "        \n",
    "    step=float(larger-smaller)/200\n",
    "    x=0\n",
    "    y_coordinate=0\n",
    "    x_coordinate=0\n",
    "    distance_y=0\n",
    "    distance_x=0\n",
    "    total_distance=0\n",
    "    while((smaller+x*step)<=larger):\n",
    "        y_coordinate=coef_array[2]*(smaller+x*step)**3+coef_array[1]*(smaller+x*step)**2+coef_array[0]*(smaller+x*step)+intercept\n",
    "        distance_y=y_coordinate-y_coordinate_previous \n",
    "        y_coordinate_previous=y_coordinate\n",
    "        x_coordinate=smaller+x*step\n",
    "        distance_x=x_coordinate-x_coordinate_previous\n",
    "        x_coordinate_previous=x_coordinate\n",
    "        total_distance=total_distance + np.sqrt((distance_y**2)+(distance_x**2))\n",
    "        x=x+1\n",
    "    return total_distance\n"
   ]
  },
  {
   "cell_type": "markdown",
   "id": "42982ed0",
   "metadata": {},
   "source": [
    "Define the function to calculate the speed of the moving agents:"
   ]
  },
  {
   "cell_type": "code",
   "execution_count": 5,
   "id": "9c3db03a",
   "metadata": {},
   "outputs": [],
   "source": [
    "def calculateCurrentSpeed (Xpositionlist = [], Ypositionlist=[], *args):\n",
    "\n",
    "    total_Xdistance_in_1_sec= Xpositionlist[-1]-Xpositionlist[-4] # Only a subtraction among the two points is done assuming linearity.\n",
    "    total_Ydistance_in_1_sec= Ypositionlist[-1]-Ypositionlist[-4] # Since its 1 second it should not be a problem.\n",
    "\n",
    "    current_Xspeed = total_Xdistance_in_1_sec  # V=distance/time [m/s]; time is 1s \n",
    "    current_Yspeed = total_Ydistance_in_1_sec\n",
    "\n",
    "    current_speed = np.sqrt(((current_Xspeed**2)+(current_Yspeed**2)))\n",
    "    return current_speed"
   ]
  },
  {
   "cell_type": "markdown",
   "id": "5417b0e0",
   "metadata": {},
   "source": [
    "Define the function to calculate the time until the collision:"
   ]
  },
  {
   "cell_type": "code",
   "execution_count": 6,
   "id": "dccd5415",
   "metadata": {},
   "outputs": [],
   "source": [
    "def calculateTimeToCollision(distanceToCollision, speed): #input current positions and predictions, output time and or distance until collision\n",
    "    time_to_collision=distanceToCollision/speed\n",
    "    return time_to_collision"
   ]
  },
  {
   "cell_type": "markdown",
   "id": "3252dd53",
   "metadata": {},
   "source": [
    "Define the function to check if the possible collision must be taken into account:"
   ]
  },
  {
   "cell_type": "code",
   "execution_count": 7,
   "id": "8ec390c4",
   "metadata": {},
   "outputs": [],
   "source": [
    "def takeCrossingIntoAccount (interception, xRobot, yRobot, xPerson, yPerson):\n",
    "    if (xRobot[0]<xRobot[-1]):\n",
    "        xRobotSmall = xRobot[0]\n",
    "        xRobotBig = xRobot[-1]\n",
    "    else:\n",
    "        xRobotSmall = xRobot[-1]\n",
    "        xRobotBig = xRobot[0]\n",
    "        \n",
    "    if (xPerson [0] < xPerson[-1]):\n",
    "        xPersonSmall = xPerson[0]\n",
    "        xPersonBig = xPerson[-1]\n",
    "    else:\n",
    "        xPersonSmall = xPerson[-1]\n",
    "        xPersonBig = xPerson[0]\n",
    "    \n",
    "    if ((((xRobot[0]-interception[0])**2+(yRobot[0]-interception[1])**2) < ((xRobot[-1]-interception[0])**2+(yRobot[-1]-interception[1])**2)) or (((xPerson[0]-interception[0])**2+(yPerson[0]-interception[1])**2) < ((xPerson[-1]-interception[0])**2+(yPerson[-1]-interception[1])**2)) or (xRobotSmall < interception[0] < xRobotBig) or (xPersonSmall < interception[0] < xPersonBig)): #If collision point was closer in t-4 than in the latest position, the robot is going away from the collision point->No need to take it into account\n",
    "        return False\n",
    "    else: #collision must be taken into account\n",
    "        return True "
   ]
  },
  {
   "cell_type": "markdown",
   "id": "7ee3ce14",
   "metadata": {},
   "source": [
    "Define the function to check if collision time are similar enough to represent a dangerous situation:"
   ]
  },
  {
   "cell_type": "code",
   "execution_count": 8,
   "id": "d165307e",
   "metadata": {},
   "outputs": [],
   "source": [
    "def areCollisionTimesClose (robotTimeToCollide, personTimeToCollide, delta):\n",
    "    if (((robotTimeToCollide+delta) >= personTimeToCollide) and ((robotTimeToCollide-delta) <= personTimeToCollide)):\n",
    "        return True\n",
    "    else:\n",
    "        return False"
   ]
  },
  {
   "cell_type": "markdown",
   "id": "e2cfdbaf",
   "metadata": {},
   "source": [
    "# Test 1:"
   ]
  },
  {
   "cell_type": "markdown",
   "id": "80410823",
   "metadata": {},
   "source": [
    "Define paths to try the functions out:"
   ]
  },
  {
   "cell_type": "code",
   "execution_count": 9,
   "id": "4d28f180",
   "metadata": {},
   "outputs": [
    {
     "data": {
      "image/png": "[encoded data removed]",
      "text/plain": [
       "<Figure size 432x288 with 1 Axes>"
      ]
     },
     "metadata": {
      "needs_background": "light"
     },
     "output_type": "display_data"
    }
   ],
   "source": [
    "xPerson = [1, 2, 3, 4, 5, 6, 7, 8, 9, 10, 11, 12]\n",
    "yPerson = [3, 6, 9, 12, 15, 18, 21, 24, 27, 30, 33, 36]\n",
    "xRobot = [5, 6, 7, 8, 9, 10, 11, 12, 13, 14, 15, 16]\n",
    "yRobot = [1, 2, 3, 4, 5, 6, 7, 8, 9, 10, 11, 12]\n",
    "\n",
    "plt.figure()\n",
    "plt.grid(\"True\")\n",
    "plt.xlabel(\"X position\")\n",
    "plt.ylabel(\"Y position\")\n",
    "plt.title(\"Data from position\")\n",
    "plt.scatter(xPerson, yPerson, label=\"Person\")\n",
    "plt.scatter(xRobot, yRobot, label=\"Robot\")\n",
    "plt.legend()\n",
    "plt.show()"
   ]
  },
  {
   "cell_type": "markdown",
   "id": "4e3383fd",
   "metadata": {},
   "source": [
    "Notice how there is an interception from the mathematical POV but in reality the moving agents are getting further. We should predict that no collision is going to happen."
   ]
  },
  {
   "cell_type": "code",
   "execution_count": 10,
   "id": "3f63b812",
   "metadata": {},
   "outputs": [
    {
     "name": "stdout",
     "output_type": "stream",
     "text": [
      "No collision danger. Moving agents are moving away from intercept.\n"
     ]
    }
   ],
   "source": [
    "robotCoefs, robotIntercept = calculatePaths (xRobot, yRobot)\n",
    "personCoefs, personIntercept = calculatePaths (xPerson, yPerson)\n",
    "\n",
    "try:\n",
    "    intercept = findIntercept (0, 50, robotCoefs, robotIntercept, personCoefs, personIntercept)\n",
    "    \n",
    "except RuntimeWarning:\n",
    "    intercept = -1\n",
    "\n",
    "if (type(intercept) == int):\n",
    "    print(\"No collision danger. There is no intercept.\")\n",
    "else:    \n",
    "    if (not takeCrossingIntoAccount (intercept, xRobot, yRobot, xPerson, yPerson)):\n",
    "        print(\"No collision danger. Moving agents are moving away from intercept.\")\n",
    "    else:\n",
    "        robotDistanceCollision = calculate_Distance_to_Collision(robotCoefs, robotIntercept, xRobot[-1], yRobot[-1], intercept[0], intercept[1])\n",
    "        personDistanceCollision = calculate_Distance_to_Collision(personCoefs, personIntercept, xPerson[-1], yPerson[-1], intercept[0], intercept[1])\n",
    "        \n",
    "        robotSpeed = calculateCurrentSpeed (xRobot, yRobot)\n",
    "        personSpeed = calculateCurrentSpeed (xPerson, yPerson)\n",
    "        \n",
    "        robotTimeCollision = calculateTimeToCollision (robotDistanceCollision, robotSpeed)\n",
    "        personTimeCollision = calculateTimeToCollision (personDistanceCollision, personSpeed)\n",
    "        \n",
    "        if(areCollisionTimesClose(robotTimeCollision, personTimeCollision, 5)):\n",
    "            print(\"The collision must be taken into account. Robot time to collision: \" + str(robotTimeCollision) + \"Person time to collision: \" + str(personTimeCollision))\n",
    "        else:\n",
    "            print(\"Time difference is greater than defined delta. It is considered that there is no danger.\")"
   ]
  },
  {
   "cell_type": "markdown",
   "id": "a766e179",
   "metadata": {},
   "source": [
    "# Test 2:"
   ]
  },
  {
   "cell_type": "code",
   "execution_count": 11,
   "id": "d7d8a71a",
   "metadata": {},
   "outputs": [
    {
     "data": {
      "image/png": "[encoded data removed]",
      "text/plain": [
       "<Figure size 432x288 with 1 Axes>"
      ]
     },
     "metadata": {
      "needs_background": "light"
     },
     "output_type": "display_data"
    }
   ],
   "source": [
    "xPerson = [12, 11, 10, 9, 8, 7, 6, 5, 4, 3, 2, 1]\n",
    "yPerson = [36, 33, 30, 27, 24, 21, 18, 15, 12, 9, 6, 3]\n",
    "xRobot = [16, 15, 14, 13, 12, 11, 10, 9, 8, 7, 6, 5]\n",
    "yRobot = [12, 11, 10, 9, 8, 7, 6, 5, 4, 3, 2, 1]\n",
    "\n",
    "plt.figure()\n",
    "plt.grid(\"True\")\n",
    "plt.xlabel(\"X position\")\n",
    "plt.ylabel(\"Y position\")\n",
    "plt.title(\"Data from position\")\n",
    "plt.scatter(xPerson, yPerson, label=\"Person\")\n",
    "plt.scatter(xRobot, yRobot, label=\"Robot\")\n",
    "plt.legend()\n",
    "plt.show()"
   ]
  },
  {
   "cell_type": "markdown",
   "id": "268170fd",
   "metadata": {},
   "source": [
    "The plot is identical to the one in \"case 1\", but in this case the moving agents are getting closer to the intercept."
   ]
  },
  {
   "cell_type": "code",
   "execution_count": 12,
   "id": "8b1d48d9",
   "metadata": {},
   "outputs": [
    {
     "name": "stdout",
     "output_type": "stream",
     "text": [
      "The collision must be taken into account. Robot time to intercept: 2.3333333333333193. Person time to intercept: 0.9999999999999926\n"
     ]
    }
   ],
   "source": [
    "robotCoefs, robotIntercept = calculatePaths (xRobot, yRobot)\n",
    "personCoefs, personIntercept = calculatePaths (xPerson, yPerson)\n",
    "\n",
    "try:\n",
    "    intercept = findIntercept (0, 50, robotCoefs, robotIntercept, personCoefs, personIntercept)\n",
    "    \n",
    "except RuntimeWarning:\n",
    "    intercept = -1\n",
    "\n",
    "if (type(intercept) == int):\n",
    "    print(\"No collision danger. There is no intercept.\")\n",
    "else:    \n",
    "    if (not takeCrossingIntoAccount (intercept, xRobot, yRobot, xPerson, yPerson)):\n",
    "        print(\"No collision danger. Moving agents are moving away from intercept.\")\n",
    "    else:\n",
    "        robotDistanceCollision = calculate_Distance_to_Collision(robotCoefs, robotIntercept, xRobot[-1], yRobot[-1], intercept[0], intercept[1])\n",
    "        personDistanceCollision = calculate_Distance_to_Collision(personCoefs, personIntercept, xPerson[-1], yPerson[-1], intercept[0], intercept[1])\n",
    "        \n",
    "        robotSpeed = calculateCurrentSpeed (xRobot, yRobot)\n",
    "        personSpeed = calculateCurrentSpeed (xPerson, yPerson)\n",
    "        \n",
    "        robotTimeCollision = calculateTimeToCollision (robotDistanceCollision, robotSpeed)\n",
    "        personTimeCollision = calculateTimeToCollision (personDistanceCollision, personSpeed)\n",
    "        \n",
    "        if(areCollisionTimesClose(robotTimeCollision, personTimeCollision, 5)):\n",
    "            print(\"The collision must be taken into account. Robot time to intercept: \" + str(robotTimeCollision) + \". Person time to intercept: \" + str(personTimeCollision))\n",
    "        else:\n",
    "            print(\"Time difference is greater than defined delta. It is considered that there is no danger.\")\n",
    "    "
   ]
  },
  {
   "cell_type": "markdown",
   "id": "0716a884",
   "metadata": {},
   "source": [
    "# Test 3:"
   ]
  },
  {
   "cell_type": "code",
   "execution_count": 13,
   "id": "79854fcb",
   "metadata": {},
   "outputs": [
    {
     "data": {
      "image/png": "[encoded data removed]",
      "text/plain": [
       "<Figure size 432x288 with 1 Axes>"
      ]
     },
     "metadata": {
      "needs_background": "light"
     },
     "output_type": "display_data"
    }
   ],
   "source": [
    "xPerson = [-8, -7, -6, -5, -4, -3, -2, -1, 0, 1, 2, 3]\n",
    "yPerson = [-8, -7, -6, -5, -4, -3, -2, -1, 0, 1, 2, 3]\n",
    "xRobot = [-11, -10, -9, -8, -7, -6, -5, -4, -3, -2, -1, 0]\n",
    "yRobot = [17, 16, 15, 14, 13, 12, 11, 10, 9, 8, 7, 6]\n",
    "\n",
    "plt.figure()\n",
    "plt.grid(\"True\")\n",
    "plt.xlabel(\"X position\")\n",
    "plt.ylabel(\"Y position\")\n",
    "plt.title(\"Data from position\")\n",
    "plt.scatter(xPerson, yPerson, label=\"Person\")\n",
    "plt.scatter(xRobot, yRobot, label=\"Robot\")\n",
    "plt.legend()\n",
    "plt.show()"
   ]
  },
  {
   "cell_type": "code",
   "execution_count": 14,
   "id": "3419eef1",
   "metadata": {},
   "outputs": [
    {
     "name": "stdout",
     "output_type": "stream",
     "text": [
      "The collision must be taken into account. Robot time to intercept: 1.0000000000000036. Person time to intercept: 2.8918399387615934e-15\n"
     ]
    }
   ],
   "source": [
    "robotCoefs, robotIntercept = calculatePaths (xRobot, yRobot)\n",
    "personCoefs, personIntercept = calculatePaths (xPerson, yPerson)\n",
    "\n",
    "try:\n",
    "    intercept = findIntercept (0, 50, robotCoefs, robotIntercept, personCoefs, personIntercept)\n",
    "    \n",
    "except RuntimeWarning:\n",
    "    intercept = -1\n",
    "\n",
    "if (type(intercept) == int):\n",
    "    print(\"No collision danger. There is no intercept.\")\n",
    "else:    \n",
    "    if (not takeCrossingIntoAccount (intercept, xRobot, yRobot, xPerson, yPerson)):\n",
    "        print(\"No collision danger. Moving agents are moving away from intercept.\")\n",
    "    else:\n",
    "        robotDistanceCollision = calculate_Distance_to_Collision(robotCoefs, robotIntercept, xRobot[-1], yRobot[-1], intercept[0], intercept[1])\n",
    "        personDistanceCollision = calculate_Distance_to_Collision(personCoefs, personIntercept, xPerson[-1], yPerson[-1], intercept[0], intercept[1])\n",
    "        \n",
    "        robotSpeed = calculateCurrentSpeed (xRobot, yRobot)\n",
    "        personSpeed = calculateCurrentSpeed (xPerson, yPerson)\n",
    "        \n",
    "        robotTimeCollision = calculateTimeToCollision (robotDistanceCollision, robotSpeed)\n",
    "        personTimeCollision = calculateTimeToCollision (personDistanceCollision, personSpeed)\n",
    "        \n",
    "        if(areCollisionTimesClose(robotTimeCollision, personTimeCollision, 5)):\n",
    "            print(\"The collision must be taken into account. Robot time to intercept: \" + str(robotTimeCollision) + \". Person time to intercept: \" + str(personTimeCollision))\n",
    "        else:\n",
    "            print(\"Time difference is greater than defined delta. It is considered that there is no danger.\")\n",
    "    "
   ]
  },
  {
   "cell_type": "markdown",
   "id": "c9f81ecc",
   "metadata": {},
   "source": [
    "# Test 4:"
   ]
  },
  {
   "cell_type": "code",
   "execution_count": 15,
   "id": "67269f1e",
   "metadata": {},
   "outputs": [
    {
     "data": {
      "image/png": "[encoded data removed]",
      "text/plain": [
       "<Figure size 432x288 with 1 Axes>"
      ]
     },
     "metadata": {
      "needs_background": "light"
     },
     "output_type": "display_data"
    }
   ],
   "source": [
    "xPerson = [-8, -7, -6, -5, -4, -3, -2, -1, 0, 1, 2, 3]\n",
    "yPerson = [-8, -7, -6, -5, -4, -3, -2, -1, 0, 1, 2, 3]\n",
    "xRobot = [-11, -10, -9, -8, -7, -6, -5, -4, -3, -2, -1, 0]\n",
    "yRobot = [19, 18, 17, 16, 15, 14, 13, 12, 11, 10, 9, 8]\n",
    "yRobot2 = [17, 16, 15, 14, 13, 12, 11, 10, 9, 8, 7, 6]\n",
    "\n",
    "plt.figure()\n",
    "plt.grid(\"True\")\n",
    "plt.xlabel(\"X position\")\n",
    "plt.ylabel(\"Y position\")\n",
    "plt.title(\"Data from position\")\n",
    "plt.scatter(xPerson, yPerson, label=\"Person\")\n",
    "plt.scatter(xRobot, yRobot, label=\"Robot\")\n",
    "plt.legend()\n",
    "plt.show()"
   ]
  },
  {
   "cell_type": "code",
   "execution_count": 16,
   "id": "e495144b",
   "metadata": {},
   "outputs": [
    {
     "name": "stdout",
     "output_type": "stream",
     "text": [
      "The collision must be taken into account. Robot time to intercept: 1.333333333333336. Person time to intercept: 0.3333333333333359\n"
     ]
    }
   ],
   "source": [
    "robotCoefs, robotIntercept = calculatePaths (xRobot, yRobot)\n",
    "personCoefs, personIntercept = calculatePaths (xPerson, yPerson)\n",
    "\n",
    "try:\n",
    "    intercept = findIntercept (0, 50, robotCoefs, robotIntercept, personCoefs, personIntercept)\n",
    "    \n",
    "except RuntimeWarning:\n",
    "    intercept = -1\n",
    "\n",
    "if (type(intercept) == int):\n",
    "    print(\"No collision danger. There is no intercept.\")\n",
    "else:    \n",
    "    if (not takeCrossingIntoAccount (intercept, xRobot, yRobot, xPerson, yPerson)):\n",
    "        print(\"No collision danger. Moving agents are moving away from intercept.\")\n",
    "    else:\n",
    "        robotDistanceCollision = calculate_Distance_to_Collision(robotCoefs, robotIntercept, xRobot[-1], yRobot[-1], intercept[0], intercept[1])\n",
    "        personDistanceCollision = calculate_Distance_to_Collision(personCoefs, personIntercept, xPerson[-1], yPerson[-1], intercept[0], intercept[1])\n",
    "        \n",
    "        robotSpeed = calculateCurrentSpeed (xRobot, yRobot)\n",
    "        personSpeed = calculateCurrentSpeed (xPerson, yPerson)\n",
    "        \n",
    "        robotTimeCollision = calculateTimeToCollision (robotDistanceCollision, robotSpeed)\n",
    "        personTimeCollision = calculateTimeToCollision (personDistanceCollision, personSpeed)\n",
    "        \n",
    "        if(areCollisionTimesClose(robotTimeCollision, personTimeCollision, 5)):\n",
    "            print(\"The collision must be taken into account. Robot time to intercept: \" + str(robotTimeCollision) + \". Person time to intercept: \" + str(personTimeCollision))\n",
    "        else:\n",
    "            print(\"Time difference is greater than defined delta. It is considered that there is no danger.\")"
   ]
  },
  {
   "cell_type": "markdown",
   "id": "7ac3c88c",
   "metadata": {},
   "source": [
    "# Test 5:"
   ]
  },
  {
   "cell_type": "code",
   "execution_count": 17,
   "id": "d0e28945",
   "metadata": {},
   "outputs": [
    {
     "data": {
      "image/png": "[encoded data removed]",
      "text/plain": [
       "<Figure size 432x288 with 1 Axes>"
      ]
     },
     "metadata": {
      "needs_background": "light"
     },
     "output_type": "display_data"
    }
   ],
   "source": [
    "xPerson = [-8, -7, -6, -5, -4, -3, -2, -1, 0, 1, 2, 3]\n",
    "yPerson = [-8, -7, -6, -5, -4, -3, -2, -1, 0, 1, 2, 3]\n",
    "xRobot = [-11, -10, -9, -8, -7, -6, -5, -4, -3, -2, -1, 0]\n",
    "yRobot = [25, 24, 23, 22, 21, 20, 19, 18, 17, 16, 15, 14]\n",
    "yRobot2 = [17, 16, 15, 14, 13, 12, 11, 10, 9, 8, 7, 6]\n",
    "\n",
    "plt.figure()\n",
    "plt.grid(\"True\")\n",
    "plt.xlabel(\"X position\")\n",
    "plt.ylabel(\"Y position\")\n",
    "plt.title(\"Data from position\")\n",
    "plt.scatter(xPerson, yPerson, label=\"Person\")\n",
    "plt.scatter(xRobot, yRobot, label=\"Robot\")\n",
    "plt.legend()\n",
    "plt.show()"
   ]
  },
  {
   "cell_type": "code",
   "execution_count": 18,
   "id": "d547a60c",
   "metadata": {},
   "outputs": [
    {
     "name": "stdout",
     "output_type": "stream",
     "text": [
      "The collision must be taken into account. Robot time to intercept: 2.321666666666668. Person time to intercept: 1.3333333333333395\n"
     ]
    }
   ],
   "source": [
    "robotCoefs, robotIntercept = calculatePaths (xRobot, yRobot)\n",
    "personCoefs, personIntercept = calculatePaths (xPerson, yPerson)\n",
    "\n",
    "try:\n",
    "    intercept = findIntercept (0, 50, robotCoefs, robotIntercept, personCoefs, personIntercept)\n",
    "    \n",
    "except RuntimeWarning:\n",
    "    intercept = -1\n",
    "\n",
    "if (type(intercept) == int):\n",
    "    print(\"No collision danger. There is no intercept.\")\n",
    "else:    \n",
    "    if (not takeCrossingIntoAccount (intercept, xRobot, yRobot, xPerson, yPerson)):\n",
    "        print(\"No collision danger. Moving agent(s) are moving away from intercept.\")\n",
    "    else:\n",
    "        robotDistanceCollision = calculate_Distance_to_Collision(robotCoefs, robotIntercept, xRobot[-1], yRobot[-1], intercept[0], intercept[1])\n",
    "        personDistanceCollision = calculate_Distance_to_Collision(personCoefs, personIntercept, xPerson[-1], yPerson[-1], intercept[0], intercept[1])\n",
    "        \n",
    "        robotSpeed = calculateCurrentSpeed (xRobot, yRobot)\n",
    "        personSpeed = calculateCurrentSpeed (xPerson, yPerson)\n",
    "        \n",
    "        robotTimeCollision = calculateTimeToCollision (robotDistanceCollision, robotSpeed)\n",
    "        personTimeCollision = calculateTimeToCollision (personDistanceCollision, personSpeed)\n",
    "        \n",
    "        if(areCollisionTimesClose(robotTimeCollision, personTimeCollision, 5)):\n",
    "            print(\"The collision must be taken into account. Robot time to intercept: \" + str(robotTimeCollision) + \". Person time to intercept: \" + str(personTimeCollision))\n",
    "        else:\n",
    "            print(\"Time difference is greater than defined delta. It is considered that there is no danger.\")"
   ]
  },
  {
   "cell_type": "markdown",
   "id": "e5ef575a",
   "metadata": {},
   "source": [
    "# Test 6:"
   ]
  },
  {
   "cell_type": "code",
   "execution_count": 19,
   "id": "1c9f21a4",
   "metadata": {},
   "outputs": [
    {
     "data": {
      "image/png": "[encoded data removed]",
      "text/plain": [
       "<Figure size 432x288 with 1 Axes>"
      ]
     },
     "metadata": {
      "needs_background": "light"
     },
     "output_type": "display_data"
    }
   ],
   "source": [
    "xPerson = [-8, -7, -6, -5, -4, -3, -2, -1, 0, 1, 2, 3]\n",
    "yPerson = [-8, -7, -6, -5, -4, -3, -2, -1, 0, 1, 2, 3]\n",
    "xRobot = [-11, -10, -9, -8, -7, -6, -5, -4, -3, -2, -1, 0]\n",
    "yRobot = [16, 15, 14, 13, 12, 11, 10, 9, 8, 7, 6, 5]\n",
    "yRobot2 = [17, 16, 15, 14, 13, 12, 11, 10, 9, 8, 7, 6]\n",
    "\n",
    "plt.figure()\n",
    "plt.grid(\"True\")\n",
    "plt.xlabel(\"X position\")\n",
    "plt.ylabel(\"Y position\")\n",
    "plt.title(\"Data from position\")\n",
    "plt.scatter(xPerson, yPerson, label=\"Person\")\n",
    "plt.scatter(xRobot, yRobot, label=\"Robot\")\n",
    "plt.legend()\n",
    "plt.show()"
   ]
  },
  {
   "cell_type": "code",
   "execution_count": 20,
   "id": "58b4bd38",
   "metadata": {},
   "outputs": [
    {
     "name": "stdout",
     "output_type": "stream",
     "text": [
      "No collision danger. Moving agent(s) are moving away from intercept.\n"
     ]
    }
   ],
   "source": [
    "robotCoefs, robotIntercept = calculatePaths (xRobot, yRobot)\n",
    "personCoefs, personIntercept = calculatePaths (xPerson, yPerson)\n",
    "\n",
    "try:\n",
    "    intercept = findIntercept (0, 50, robotCoefs, robotIntercept, personCoefs, personIntercept)\n",
    "    \n",
    "except RuntimeWarning:\n",
    "    intercept = -1\n",
    "\n",
    "if (type(intercept) == int):\n",
    "    print(\"No collision danger. There is no intercept.\")\n",
    "else:    \n",
    "    if (not takeCrossingIntoAccount (intercept, xRobot, yRobot, xPerson, yPerson)):\n",
    "        print(\"No collision danger. Moving agent(s) are moving away from intercept.\")\n",
    "    else:\n",
    "        robotDistanceCollision = calculate_Distance_to_Collision(robotCoefs, robotIntercept, xRobot[-1], yRobot[-1], intercept[0], intercept[1])\n",
    "        personDistanceCollision = calculate_Distance_to_Collision(personCoefs, personIntercept, xPerson[-1], yPerson[-1], intercept[0], intercept[1])\n",
    "        \n",
    "        robotSpeed = calculateCurrentSpeed (xRobot, yRobot)\n",
    "        personSpeed = calculateCurrentSpeed (xPerson, yPerson)\n",
    "        \n",
    "        robotTimeCollision = calculateTimeToCollision (robotDistanceCollision, robotSpeed)\n",
    "        personTimeCollision = calculateTimeToCollision (personDistanceCollision, personSpeed)\n",
    "        \n",
    "        if(areCollisionTimesClose(robotTimeCollision, personTimeCollision, 5)):\n",
    "            print(\"The collision must be taken into account. Robot time to intercept: \" + str(robotTimeCollision) + \". Person time to intercept: \" + str(personTimeCollision))\n",
    "        else:\n",
    "            print(\"Time difference is greater than defined delta. It is considered that there is no danger.\")"
   ]
  },
  {
   "cell_type": "markdown",
   "id": "c2cabe5b",
   "metadata": {},
   "source": [
    "# Test 7:"
   ]
  },
  {
   "cell_type": "code",
   "execution_count": 21,
   "id": "8cebcde3",
   "metadata": {},
   "outputs": [
    {
     "data": {
      "image/png": "[encoded data removed]",
      "text/plain": [
       "<Figure size 432x288 with 1 Axes>"
      ]
     },
     "metadata": {
      "needs_background": "light"
     },
     "output_type": "display_data"
    }
   ],
   "source": [
    "xPerson = [-8, -7, -6, -5, -4, -3, -2, -1, 0, 1, 2, 3]\n",
    "yPerson = [-8, -7, -6, -5, -4, -3, -2, -1, 0, 1, 2, 3]\n",
    "xRobot = [-8, -7, -6, -5, -4, -3, -2, -1, 0, 1, 2, 3]\n",
    "yRobot = [-9, -8, -7, -6, -5, -4, -3, -2, -1, 0, 1, 2]\n",
    "\n",
    "\n",
    "\n",
    "plt.figure()\n",
    "plt.grid(\"True\")\n",
    "plt.xlabel(\"X position\")\n",
    "plt.ylabel(\"Y position\")\n",
    "plt.title(\"Data from position\")\n",
    "plt.scatter(xPerson, yPerson, label=\"Person\")\n",
    "plt.scatter(xRobot, yRobot, label=\"Robot\")\n",
    "plt.legend()\n",
    "plt.show()"
   ]
  },
  {
   "cell_type": "code",
   "execution_count": 22,
   "id": "f5d888c9",
   "metadata": {},
   "outputs": [
    {
     "name": "stdout",
     "output_type": "stream",
     "text": [
      "No collision danger. There is no intercept.\n"
     ]
    }
   ],
   "source": [
    "robotCoefs, robotIntercept = calculatePaths (xRobot, yRobot)\n",
    "personCoefs, personIntercept = calculatePaths (xPerson, yPerson)\n",
    "\n",
    "try:\n",
    "    intercept = findIntercept (0, 50, robotCoefs, robotIntercept, personCoefs, personIntercept)\n",
    "    \n",
    "except RuntimeWarning:\n",
    "    intercept = -1\n",
    "\n",
    "if (type(intercept) == int):\n",
    "    print(\"No collision danger. There is no intercept.\")\n",
    "else:    \n",
    "    if (not takeCrossingIntoAccount (intercept, xRobot, yRobot, xPerson, yPerson)):\n",
    "        print(\"No collision danger. Moving agent(s) are moving away from intercept.\")\n",
    "    else:\n",
    "        robotDistanceCollision = calculate_Distance_to_Collision(robotCoefs, robotIntercept, xRobot[-1], yRobot[-1], intercept[0], intercept[1])\n",
    "        personDistanceCollision = calculate_Distance_to_Collision(personCoefs, personIntercept, xPerson[-1], yPerson[-1], intercept[0], intercept[1])\n",
    "        \n",
    "        robotSpeed = calculateCurrentSpeed (xRobot, yRobot)\n",
    "        personSpeed = calculateCurrentSpeed (xPerson, yPerson)\n",
    "        \n",
    "        robotTimeCollision = calculateTimeToCollision (robotDistanceCollision, robotSpeed)\n",
    "        personTimeCollision = calculateTimeToCollision (personDistanceCollision, personSpeed)\n",
    "        \n",
    "        if(areCollisionTimesClose(robotTimeCollision, personTimeCollision, 5)):\n",
    "            print(\"The collision must be taken into account. Robot time to intercept: \" + str(robotTimeCollision) + \". Person time to intercept: \" + str(personTimeCollision))\n",
    "        else:\n",
    "            print(\"Time difference is greater than defined delta. It is considered that there is no danger.\")"
   ]
  },
  {
   "cell_type": "markdown",
   "id": "f44a50b2",
   "metadata": {},
   "source": [
    "# Test 8:"
   ]
  },
  {
   "cell_type": "code",
   "execution_count": 23,
   "id": "967f375a",
   "metadata": {},
   "outputs": [
    {
     "data": {
      "image/png": "[encoded data removed]",
      "text/plain": [
       "<Figure size 432x288 with 1 Axes>"
      ]
     },
     "metadata": {
      "needs_background": "light"
     },
     "output_type": "display_data"
    }
   ],
   "source": [
    "xPerson = [-8, -7, -6, -5, -4, -3, -2, -1, 0, 1, 2, 3]\n",
    "yPerson = [-8, -7, -6, -5, -4, -3, -2, -1, 0, 1, 2, 3]\n",
    "xRobot = [-8, -7, -6, -5, -4, -3, -2, -1, 0, 1, 2, 3]\n",
    "yRobot = [64, 49, 36, 25, 16, 9, 4, 1, 0, 1, 4, 9]\n",
    "\n",
    "\n",
    "\n",
    "plt.figure()\n",
    "plt.grid(\"True\")\n",
    "plt.xlabel(\"X position\")\n",
    "plt.ylabel(\"Y position\")\n",
    "plt.title(\"Data from position\")\n",
    "plt.scatter(xPerson, yPerson, label=\"Person\")\n",
    "plt.scatter(xRobot, yRobot, label=\"Robot\")\n",
    "plt.legend()\n",
    "plt.show()"
   ]
  },
  {
   "cell_type": "code",
   "execution_count": 24,
   "id": "99c4f815",
   "metadata": {},
   "outputs": [
    {
     "name": "stdout",
     "output_type": "stream",
     "text": [
      "No collision danger. Moving agent(s) are moving away from intercept.\n"
     ]
    }
   ],
   "source": [
    "robotCoefs, robotIntercept = calculatePaths (xRobot, yRobot)\n",
    "personCoefs, personIntercept = calculatePaths (xPerson, yPerson)\n",
    "\n",
    "try:\n",
    "    intercept = findIntercept (0, 50, robotCoefs, robotIntercept, personCoefs, personIntercept)\n",
    "    \n",
    "except RuntimeWarning:\n",
    "    intercept = -1\n",
    "\n",
    "if (type(intercept) == int):\n",
    "    print(\"No collision danger. There is no intercept.\")\n",
    "else:    \n",
    "    if (not takeCrossingIntoAccount (intercept, xRobot, yRobot, xPerson, yPerson)):\n",
    "        print(\"No collision danger. Moving agent(s) are moving away from intercept.\")\n",
    "    else:\n",
    "        robotDistanceCollision = calculate_Distance_to_Collision(robotCoefs, robotIntercept, xRobot[-1], yRobot[-1], intercept[0], intercept[1])\n",
    "        personDistanceCollision = calculate_Distance_to_Collision(personCoefs, personIntercept, xPerson[-1], yPerson[-1], intercept[0], intercept[1])\n",
    "        \n",
    "        robotSpeed = calculateCurrentSpeed (xRobot, yRobot)\n",
    "        personSpeed = calculateCurrentSpeed (xPerson, yPerson)\n",
    "        \n",
    "        robotTimeCollision = calculateTimeToCollision (robotDistanceCollision, robotSpeed)\n",
    "        personTimeCollision = calculateTimeToCollision (personDistanceCollision, personSpeed)\n",
    "        \n",
    "        if(areCollisionTimesClose(robotTimeCollision, personTimeCollision, 5)):\n",
    "            print(\"The collision must be taken into account. Robot time to intercept: \" + str(robotTimeCollision) + \". Person time to intercept: \" + str(personTimeCollision))\n",
    "        else:\n",
    "            print(\"Time difference is greater than defined delta. It is considered that there is no danger.\")"
   ]
  },
  {
   "cell_type": "markdown",
   "id": "e93979bf",
   "metadata": {},
   "source": [
    "# Test 9:"
   ]
  },
  {
   "cell_type": "code",
   "execution_count": 25,
   "id": "1fda9513",
   "metadata": {},
   "outputs": [
    {
     "data": {
      "image/png": "[encoded data removed]",
      "text/plain": [
       "<Figure size 432x288 with 1 Axes>"
      ]
     },
     "metadata": {
      "needs_background": "light"
     },
     "output_type": "display_data"
    }
   ],
   "source": [
    "xPerson = [-8-8, -7-8, -6-8, -5-8, -4-8, -3-8, -2-8, -1-8, 0-8, 1-8, 2-8, 3-8]\n",
    "yPerson = [-8+20, -7+20, -6+20, -5+20, -4+20, -3+20, -2+20, -1+20, 0+20, 1+20, 2+20, 3+20]\n",
    "xRobot = [-13, -12, -11, -10, -9, -8, -7, -6, -5, -4, -3, -2]\n",
    "yRobot = [64, 49, 36, 25, 16, 9, 4, 1, 0, 1, 4, 9]\n",
    "\n",
    "\n",
    "\n",
    "plt.figure()\n",
    "plt.grid(\"True\")\n",
    "plt.xlabel(\"X position\")\n",
    "plt.ylabel(\"Y position\")\n",
    "plt.title(\"Data from position\")\n",
    "plt.scatter(xPerson, yPerson, label=\"Person\")\n",
    "plt.scatter(xRobot, yRobot, label=\"Robot\")\n",
    "plt.legend()\n",
    "plt.show()"
   ]
  },
  {
   "cell_type": "code",
   "execution_count": 26,
   "id": "3436234d",
   "metadata": {},
   "outputs": [
    {
     "name": "stdout",
     "output_type": "stream",
     "text": [
      "The collision must be taken into account. Robot time to intercept: 2.0386746568621663. Person time to intercept: 1.7739417934989654\n"
     ]
    }
   ],
   "source": [
    "robotCoefs, robotIntercept = calculatePaths (xRobot, yRobot)\n",
    "personCoefs, personIntercept = calculatePaths (xPerson, yPerson)\n",
    "\n",
    "try:\n",
    "    intercept = findIntercept (0, 50, robotCoefs, robotIntercept, personCoefs, personIntercept)\n",
    "    \n",
    "except RuntimeWarning:\n",
    "    intercept = -1\n",
    "\n",
    "if (type(intercept) == int):\n",
    "    print(\"No collision danger. There is no intercept.\")\n",
    "else:    \n",
    "    if (not takeCrossingIntoAccount (intercept, xRobot, yRobot, xPerson, yPerson)):\n",
    "        print(\"No collision danger. Moving agent(s) are moving away from intercept.\")\n",
    "    else:\n",
    "        robotDistanceCollision = calculate_Distance_to_Collision(robotCoefs, robotIntercept, xRobot[-1], yRobot[-1], intercept[0], intercept[1])\n",
    "        personDistanceCollision = calculate_Distance_to_Collision(personCoefs, personIntercept, xPerson[-1], yPerson[-1], intercept[0], intercept[1])\n",
    "        \n",
    "        robotSpeed = calculateCurrentSpeed (xRobot, yRobot)\n",
    "        personSpeed = calculateCurrentSpeed (xPerson, yPerson)\n",
    "        \n",
    "        robotTimeCollision = calculateTimeToCollision (robotDistanceCollision, robotSpeed)\n",
    "        personTimeCollision = calculateTimeToCollision (personDistanceCollision, personSpeed)\n",
    "        \n",
    "        if(areCollisionTimesClose(robotTimeCollision, personTimeCollision, 5)):\n",
    "            print(\"The collision must be taken into account. Robot time to intercept: \" + str(robotTimeCollision) + \". Person time to intercept: \" + str(personTimeCollision))\n",
    "        else:\n",
    "            print(\"Time difference is greater than defined delta. It is considered that there is no danger.\")"
   ]
  },
  {
   "cell_type": "code",
   "execution_count": 27,
   "id": "1d6728a9",
   "metadata": {},
   "outputs": [
    {
     "data": {
      "text/plain": [
       "array([ 0.32182538, 28.32182538])"
      ]
     },
     "execution_count": 27,
     "metadata": {},
     "output_type": "execute_result"
    }
   ],
   "source": [
    "intercept"
   ]
  },
  {
   "cell_type": "markdown",
   "id": "fae5936d",
   "metadata": {},
   "source": [
    "# Test 10"
   ]
  },
  {
   "cell_type": "code",
   "execution_count": 28,
   "id": "18e014ab",
   "metadata": {},
   "outputs": [
    {
     "data": {
      "image/png": "[encoded data removed]",
      "text/plain": [
       "<Figure size 432x288 with 1 Axes>"
      ]
     },
     "metadata": {
      "needs_background": "light"
     },
     "output_type": "display_data"
    }
   ],
   "source": [
    "xPerson = [-8-8, -7-8, -6-8, -5-8, -4-8, -3-8, -2-8, -1-8, 0-8, 1-8, 2-8, 3-8]\n",
    "yPerson = [-8+20, -7+20, -6+20, -5+20, -4+20, -3+20, -2+20, -1+20, 0+20, 1+20, 2+20, 3+20]\n",
    "xRobot = [-13+10, -12+10, -11+10, -10+10, -9+10, -8+10, -7+10, -6+10, -5+10, -4+10, -3+10, -2+10]\n",
    "yRobot = [64, 49, 36, 25, 16, 9, 4, 1, 0, 1, 4, 9]\n",
    "\n",
    "\n",
    "\n",
    "plt.figure()\n",
    "plt.grid(\"True\")\n",
    "plt.xlabel(\"X position\")\n",
    "plt.ylabel(\"Y position\")\n",
    "plt.title(\"Data from position\")\n",
    "plt.scatter(xPerson, yPerson, label=\"Person\")\n",
    "plt.scatter(xRobot, yRobot, label=\"Robot\")\n",
    "plt.legend()\n",
    "plt.show()"
   ]
  },
  {
   "cell_type": "code",
   "execution_count": 29,
   "id": "f3c6cfc1",
   "metadata": {},
   "outputs": [
    {
     "name": "stdout",
     "output_type": "stream",
     "text": [
      "No collision danger. Moving agent(s) are moving away from intercept.\n"
     ]
    }
   ],
   "source": [
    "robotCoefs, robotIntercept = calculatePaths (xRobot, yRobot)\n",
    "personCoefs, personIntercept = calculatePaths (xPerson, yPerson)\n",
    "\n",
    "try:\n",
    "    intercept = findIntercept (0, 50, robotCoefs, robotIntercept, personCoefs, personIntercept)\n",
    "    \n",
    "except RuntimeWarning:\n",
    "    intercept = -1\n",
    "\n",
    "if (type(intercept) == int):\n",
    "    print(\"No collision danger. There is no intercept.\")\n",
    "else:    \n",
    "    if (not takeCrossingIntoAccount (intercept, xRobot, yRobot, xPerson, yPerson)):\n",
    "        print(\"No collision danger. Moving agent(s) are moving away from intercept.\")\n",
    "    else:\n",
    "        robotDistanceCollision = calculate_Distance_to_Collision(robotCoefs, robotIntercept, xRobot[-1], yRobot[-1], intercept[0], intercept[1])\n",
    "        personDistanceCollision = calculate_Distance_to_Collision(personCoefs, personIntercept, xPerson[-1], yPerson[-1], intercept[0], intercept[1])\n",
    "        \n",
    "        robotSpeed = calculateCurrentSpeed (xRobot, yRobot)\n",
    "        personSpeed = calculateCurrentSpeed (xPerson, yPerson)\n",
    "        \n",
    "        robotTimeCollision = calculateTimeToCollision (robotDistanceCollision, robotSpeed)\n",
    "        personTimeCollision = calculateTimeToCollision (personDistanceCollision, personSpeed)\n",
    "        \n",
    "        if(areCollisionTimesClose(robotTimeCollision, personTimeCollision, 5)):\n",
    "            print(\"The collision must be taken into account. Robot time to intercept: \" + str(robotTimeCollision) + \". Person time to intercept: \" + str(personTimeCollision))\n",
    "        else:\n",
    "            print(\"Time difference is greater than defined delta. It is considered that there is no danger.\")"
   ]
  },
  {
   "cell_type": "code",
   "execution_count": 30,
   "id": "bf52755f",
   "metadata": {},
   "outputs": [
    {
     "data": {
      "text/plain": [
       "array([-0.2662813, 27.7337187])"
      ]
     },
     "execution_count": 30,
     "metadata": {},
     "output_type": "execute_result"
    }
   ],
   "source": [
    "intercept"
   ]
  },
  {
   "cell_type": "code",
   "execution_count": 6,
   "id": "53ea332e",
   "metadata": {},
   "outputs": [
    {
     "name": "stdout",
     "output_type": "stream",
     "text": [
      "[ 0.11083725 12.4986373 ]\n"
     ]
    }
   ],
   "source": [
    "robotCoefs, robotIntercept = [0.43691715, -1.3165747, 2.08177264], 12.46355\n",
    "personCoefs, personIntercept = [5788.533, -39756.0935, 89936.739], -263.147\n",
    "\n",
    "try:\n",
    "    intercept = findIntercept (0, 0, robotCoefs, robotIntercept, personCoefs, personIntercept)\n",
    "    \n",
    "except RuntimeWarning:\n",
    "    intercept = -1\n",
    "print(intercept)"
   ]
  }
 ],
 "metadata": {
  "kernelspec": {
   "display_name": "Python 3 (ipykernel)",
   "language": "python",
   "name": "python3"
  },
  "language_info": {
   "codemirror_mode": {
    "name": "ipython",
    "version": 3
   },
   "file_extension": ".py",
   "mimetype": "text/x-python",
   "name": "python",
   "nbconvert_exporter": "python",
   "pygments_lexer": "ipython3",
   "version": "3.9.12"
  }
 },
 "nbformat": 4,
 "nbformat_minor": 5
}
