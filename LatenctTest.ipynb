{
 "cells": [
  {
   "cell_type": "code",
   "execution_count": 1,
   "id": "079611e7",
   "metadata": {},
   "outputs": [],
   "source": [
    "import pandas as pd\n",
    "import matplotlib.pyplot as plt\n",
    "import numpy as np"
   ]
  },
  {
   "cell_type": "markdown",
   "id": "9ab976ad",
   "metadata": {},
   "source": [
    "Create an array to store delay values of each data frame"
   ]
  },
  {
   "cell_type": "code",
   "execution_count": 2,
   "id": "7653094b",
   "metadata": {},
   "outputs": [],
   "source": [
    "delayArray = np.array([])\n",
    "latencyArray = np.array([])"
   ]
  },
  {
   "cell_type": "markdown",
   "id": "f1e0b441",
   "metadata": {},
   "source": [
    "# Calculate delay for data1"
   ]
  },
  {
   "cell_type": "code",
   "execution_count": 3,
   "id": "268b9beb",
   "metadata": {},
   "outputs": [
    {
     "data": {
      "text/html": [
       "<div>\n",
       "<style scoped>\n",
       "    .dataframe tbody tr th:only-of-type {\n",
       "        vertical-align: middle;\n",
       "    }\n",
       "\n",
       "    .dataframe tbody tr th {\n",
       "        vertical-align: top;\n",
       "    }\n",
       "\n",
       "    .dataframe thead th {\n",
       "        text-align: right;\n",
       "    }\n",
       "</style>\n",
       "<table border=\"1\" class=\"dataframe\">\n",
       "  <thead>\n",
       "    <tr style=\"text-align: right;\">\n",
       "      <th></th>\n",
       "      <th>time</th>\n",
       "      <th>speed</th>\n",
       "    </tr>\n",
       "  </thead>\n",
       "  <tbody>\n",
       "    <tr>\n",
       "      <th>0</th>\n",
       "      <td>0.0</td>\n",
       "      <td>0.0</td>\n",
       "    </tr>\n",
       "    <tr>\n",
       "      <th>1</th>\n",
       "      <td>0.11561799049377441</td>\n",
       "      <td>0.0</td>\n",
       "    </tr>\n",
       "    <tr>\n",
       "      <th>2</th>\n",
       "      <td>0.1719348430633545</td>\n",
       "      <td>0.0</td>\n",
       "    </tr>\n",
       "    <tr>\n",
       "      <th>3</th>\n",
       "      <td>0.6214349269866943</td>\n",
       "      <td>0.0</td>\n",
       "    </tr>\n",
       "    <tr>\n",
       "      <th>4</th>\n",
       "      <td>0.7613279819488525</td>\n",
       "      <td>0.0</td>\n",
       "    </tr>\n",
       "  </tbody>\n",
       "</table>\n",
       "</div>"
      ],
      "text/plain": [
       "                  time  speed\n",
       "0                  0.0    0.0\n",
       "1  0.11561799049377441    0.0\n",
       "2   0.1719348430633545    0.0\n",
       "3   0.6214349269866943    0.0\n",
       "4   0.7613279819488525    0.0"
      ]
     },
     "execution_count": 3,
     "metadata": {},
     "output_type": "execute_result"
    }
   ],
   "source": [
    "df1 = pd.read_csv (r'C:\\Maila_4\\Project\\DeelayExperimentFiles\\data1.csv')\n",
    "df1.head()"
   ]
  },
  {
   "cell_type": "code",
   "execution_count": 4,
   "id": "7f4cb8b0",
   "metadata": {},
   "outputs": [
    {
     "data": {
      "text/html": [
       "<div>\n",
       "<style scoped>\n",
       "    .dataframe tbody tr th:only-of-type {\n",
       "        vertical-align: middle;\n",
       "    }\n",
       "\n",
       "    .dataframe tbody tr th {\n",
       "        vertical-align: top;\n",
       "    }\n",
       "\n",
       "    .dataframe thead th {\n",
       "        text-align: right;\n",
       "    }\n",
       "</style>\n",
       "<table border=\"1\" class=\"dataframe\">\n",
       "  <thead>\n",
       "    <tr style=\"text-align: right;\">\n",
       "      <th></th>\n",
       "      <th>time</th>\n",
       "      <th>speed</th>\n",
       "    </tr>\n",
       "  </thead>\n",
       "  <tbody>\n",
       "    <tr>\n",
       "      <th>299</th>\n",
       "      <td>15.882901906967163</td>\n",
       "      <td>0.000000</td>\n",
       "    </tr>\n",
       "    <tr>\n",
       "      <th>300</th>\n",
       "      <td>15.915047883987427</td>\n",
       "      <td>0.000000</td>\n",
       "    </tr>\n",
       "    <tr>\n",
       "      <th>301</th>\n",
       "      <td>15.963892936706543</td>\n",
       "      <td>0.000000</td>\n",
       "    </tr>\n",
       "    <tr>\n",
       "      <th>302</th>\n",
       "      <td>16.00404691696167</td>\n",
       "      <td>0.000000</td>\n",
       "    </tr>\n",
       "    <tr>\n",
       "      <th>303</th>\n",
       "      <td>Pause time</td>\n",
       "      <td>10.986675</td>\n",
       "    </tr>\n",
       "  </tbody>\n",
       "</table>\n",
       "</div>"
      ],
      "text/plain": [
       "                   time      speed\n",
       "299  15.882901906967163   0.000000\n",
       "300  15.915047883987427   0.000000\n",
       "301  15.963892936706543   0.000000\n",
       "302   16.00404691696167   0.000000\n",
       "303          Pause time  10.986675"
      ]
     },
     "execution_count": 4,
     "metadata": {},
     "output_type": "execute_result"
    }
   ],
   "source": [
    "df1.tail()"
   ]
  },
  {
   "cell_type": "code",
   "execution_count": 5,
   "id": "9907e8e5",
   "metadata": {},
   "outputs": [
    {
     "data": {
      "text/plain": [
       "time      object\n",
       "speed    float64\n",
       "dtype: object"
      ]
     },
     "execution_count": 5,
     "metadata": {},
     "output_type": "execute_result"
    }
   ],
   "source": [
    "df1.dtypes"
   ]
  },
  {
   "cell_type": "markdown",
   "id": "adef78ed",
   "metadata": {},
   "source": [
    "Change data type from object to float"
   ]
  },
  {
   "cell_type": "markdown",
   "id": "808477a3",
   "metadata": {},
   "source": [
    "We neeed to get rid of \"Pause time\". A new column with Pause time value will be created. Take into account that the value is stored in the last position of our data frame."
   ]
  },
  {
   "cell_type": "code",
   "execution_count": 6,
   "id": "ae8641aa",
   "metadata": {},
   "outputs": [],
   "source": [
    "shape = df1.shape"
   ]
  },
  {
   "cell_type": "code",
   "execution_count": 7,
   "id": "64612902",
   "metadata": {},
   "outputs": [
    {
     "data": {
      "text/plain": [
       "10.986675024032593"
      ]
     },
     "execution_count": 7,
     "metadata": {},
     "output_type": "execute_result"
    }
   ],
   "source": [
    "pauseTime = df1.iloc[shape[0]-1, shape[1]-1] #Pause time locked\n",
    "pauseTime"
   ]
  },
  {
   "cell_type": "code",
   "execution_count": 8,
   "id": "fb9c10e1",
   "metadata": {},
   "outputs": [],
   "source": [
    "df1[\"Pause time\"] = pauseTime"
   ]
  },
  {
   "cell_type": "code",
   "execution_count": 9,
   "id": "22db55c4",
   "metadata": {},
   "outputs": [
    {
     "data": {
      "text/html": [
       "<div>\n",
       "<style scoped>\n",
       "    .dataframe tbody tr th:only-of-type {\n",
       "        vertical-align: middle;\n",
       "    }\n",
       "\n",
       "    .dataframe tbody tr th {\n",
       "        vertical-align: top;\n",
       "    }\n",
       "\n",
       "    .dataframe thead th {\n",
       "        text-align: right;\n",
       "    }\n",
       "</style>\n",
       "<table border=\"1\" class=\"dataframe\">\n",
       "  <thead>\n",
       "    <tr style=\"text-align: right;\">\n",
       "      <th></th>\n",
       "      <th>time</th>\n",
       "      <th>speed</th>\n",
       "      <th>Pause time</th>\n",
       "    </tr>\n",
       "  </thead>\n",
       "  <tbody>\n",
       "    <tr>\n",
       "      <th>299</th>\n",
       "      <td>15.882901906967163</td>\n",
       "      <td>0.000000</td>\n",
       "      <td>10.986675</td>\n",
       "    </tr>\n",
       "    <tr>\n",
       "      <th>300</th>\n",
       "      <td>15.915047883987427</td>\n",
       "      <td>0.000000</td>\n",
       "      <td>10.986675</td>\n",
       "    </tr>\n",
       "    <tr>\n",
       "      <th>301</th>\n",
       "      <td>15.963892936706543</td>\n",
       "      <td>0.000000</td>\n",
       "      <td>10.986675</td>\n",
       "    </tr>\n",
       "    <tr>\n",
       "      <th>302</th>\n",
       "      <td>16.00404691696167</td>\n",
       "      <td>0.000000</td>\n",
       "      <td>10.986675</td>\n",
       "    </tr>\n",
       "    <tr>\n",
       "      <th>303</th>\n",
       "      <td>Pause time</td>\n",
       "      <td>10.986675</td>\n",
       "      <td>10.986675</td>\n",
       "    </tr>\n",
       "  </tbody>\n",
       "</table>\n",
       "</div>"
      ],
      "text/plain": [
       "                   time      speed  Pause time\n",
       "299  15.882901906967163   0.000000   10.986675\n",
       "300  15.915047883987427   0.000000   10.986675\n",
       "301  15.963892936706543   0.000000   10.986675\n",
       "302   16.00404691696167   0.000000   10.986675\n",
       "303          Pause time  10.986675   10.986675"
      ]
     },
     "execution_count": 9,
     "metadata": {},
     "output_type": "execute_result"
    }
   ],
   "source": [
    "df1.tail()"
   ]
  },
  {
   "cell_type": "markdown",
   "id": "7b32da93",
   "metadata": {},
   "source": [
    "The value is repeated for every row but that is not a problem. Now we can drop the las row."
   ]
  },
  {
   "cell_type": "code",
   "execution_count": 10,
   "id": "751ff45f",
   "metadata": {},
   "outputs": [
    {
     "data": {
      "text/html": [
       "<div>\n",
       "<style scoped>\n",
       "    .dataframe tbody tr th:only-of-type {\n",
       "        vertical-align: middle;\n",
       "    }\n",
       "\n",
       "    .dataframe tbody tr th {\n",
       "        vertical-align: top;\n",
       "    }\n",
       "\n",
       "    .dataframe thead th {\n",
       "        text-align: right;\n",
       "    }\n",
       "</style>\n",
       "<table border=\"1\" class=\"dataframe\">\n",
       "  <thead>\n",
       "    <tr style=\"text-align: right;\">\n",
       "      <th></th>\n",
       "      <th>time</th>\n",
       "      <th>speed</th>\n",
       "      <th>Pause time</th>\n",
       "    </tr>\n",
       "  </thead>\n",
       "  <tbody>\n",
       "    <tr>\n",
       "      <th>298</th>\n",
       "      <td>15.84283185005188</td>\n",
       "      <td>0.0</td>\n",
       "      <td>10.986675</td>\n",
       "    </tr>\n",
       "    <tr>\n",
       "      <th>299</th>\n",
       "      <td>15.882901906967163</td>\n",
       "      <td>0.0</td>\n",
       "      <td>10.986675</td>\n",
       "    </tr>\n",
       "    <tr>\n",
       "      <th>300</th>\n",
       "      <td>15.915047883987427</td>\n",
       "      <td>0.0</td>\n",
       "      <td>10.986675</td>\n",
       "    </tr>\n",
       "    <tr>\n",
       "      <th>301</th>\n",
       "      <td>15.963892936706543</td>\n",
       "      <td>0.0</td>\n",
       "      <td>10.986675</td>\n",
       "    </tr>\n",
       "    <tr>\n",
       "      <th>302</th>\n",
       "      <td>16.00404691696167</td>\n",
       "      <td>0.0</td>\n",
       "      <td>10.986675</td>\n",
       "    </tr>\n",
       "  </tbody>\n",
       "</table>\n",
       "</div>"
      ],
      "text/plain": [
       "                   time  speed  Pause time\n",
       "298   15.84283185005188    0.0   10.986675\n",
       "299  15.882901906967163    0.0   10.986675\n",
       "300  15.915047883987427    0.0   10.986675\n",
       "301  15.963892936706543    0.0   10.986675\n",
       "302   16.00404691696167    0.0   10.986675"
      ]
     },
     "execution_count": 10,
     "metadata": {},
     "output_type": "execute_result"
    }
   ],
   "source": [
    "df1 = df1.drop(labels=shape[0]-1, axis=0)\n",
    "df1.tail()"
   ]
  },
  {
   "cell_type": "markdown",
   "id": "7b345f95",
   "metadata": {},
   "source": [
    "After getting rid of the string, we can convert the data type to float"
   ]
  },
  {
   "cell_type": "code",
   "execution_count": 11,
   "id": "7256815f",
   "metadata": {},
   "outputs": [
    {
     "data": {
      "text/plain": [
       "time          float64\n",
       "speed         float64\n",
       "Pause time    float64\n",
       "dtype: object"
      ]
     },
     "execution_count": 11,
     "metadata": {},
     "output_type": "execute_result"
    }
   ],
   "source": [
    "df1['time'] = df1['time'].astype(float)\n",
    "df1.dtypes"
   ]
  },
  {
   "cell_type": "markdown",
   "id": "0801d920",
   "metadata": {},
   "source": [
    "Obtain a df with robot speed = 0 when t > tpause. First element will show the time at which the robot stopped."
   ]
  },
  {
   "cell_type": "code",
   "execution_count": 12,
   "id": "ab7b7e84",
   "metadata": {},
   "outputs": [
    {
     "data": {
      "text/plain": [
       "11.965488910675049"
      ]
     },
     "execution_count": 12,
     "metadata": {},
     "output_type": "execute_result"
    }
   ],
   "source": [
    "df1Velocities = df1[(df1.speed==0) & (df1.time>pauseTime)]\n",
    "df1Velocities.head()\n",
    "\n",
    "stopTime = df1Velocities.iloc[0,0]\n",
    "stopTime"
   ]
  },
  {
   "cell_type": "code",
   "execution_count": 13,
   "id": "122e8fb4",
   "metadata": {},
   "outputs": [
    {
     "data": {
      "text/plain": [
       "array([0.97881389])"
      ]
     },
     "execution_count": 13,
     "metadata": {},
     "output_type": "execute_result"
    }
   ],
   "source": [
    "delay1 = stopTime-pauseTime\n",
    "delayArray = np.append(delayArray, delay1)\n",
    "delayArray"
   ]
  },
  {
   "cell_type": "markdown",
   "id": "fccd7b6a",
   "metadata": {},
   "source": [
    "<b> Delay from the time when the stop command is sent until the robot stops (in seconds) for data1 is: <b>"
   ]
  },
  {
   "cell_type": "code",
   "execution_count": 14,
   "id": "5228bdaa",
   "metadata": {},
   "outputs": [
    {
     "data": {
      "text/plain": [
       "0.978813886642456"
      ]
     },
     "execution_count": 14,
     "metadata": {},
     "output_type": "execute_result"
    }
   ],
   "source": [
    "delay1"
   ]
  },
  {
   "cell_type": "markdown",
   "id": "4c149435",
   "metadata": {},
   "source": [
    "## Plot the evolution of speed for data1"
   ]
  },
  {
   "cell_type": "code",
   "execution_count": 15,
   "id": "debcf9b0",
   "metadata": {
    "scrolled": true
   },
   "outputs": [
    {
     "data": {
      "image/png": "[encoded data removed]",
      "text/plain": [
       "<Figure size 432x288 with 1 Axes>"
      ]
     },
     "metadata": {
      "needs_background": "light"
     },
     "output_type": "display_data"
    }
   ],
   "source": [
    "plt.figure()\n",
    "plt.title(\"Stopping time of a dataset\")\n",
    "plt.xlabel(\"Time [sec]\")\n",
    "plt.ylabel(\"Speed [m/s]\")\n",
    "plt.grid(\"True\")\n",
    "plt.plot (df1.time, df1.speed, label = \"Robot speed\")\n",
    "plt.vlines(x = pauseTime, color = \"r\", ymin = -0.05, ymax = 0.85, label = \"Stop order sent\")\n",
    "plt.vlines(x = stopTime, color = \"m\", ymin = -0.05, ymax = 0.85, label = \"Robot stopped\")\n",
    "plt.legend()\n",
    "plt.show()"
   ]
  },
  {
   "cell_type": "code",
   "execution_count": 16,
   "id": "da86f41f",
   "metadata": {
    "scrolled": false
   },
   "outputs": [
    {
     "data": {
      "image/png": "[encoded data removed]",
      "text/plain": [
       "<Figure size 432x288 with 1 Axes>"
      ]
     },
     "metadata": {
      "needs_background": "light"
     },
     "output_type": "display_data"
    }
   ],
   "source": [
    "plt.figure()\n",
    "plt.title(\"Speed evolution of a dataset\")\n",
    "plt.xlabel(\"Time [sec]\")\n",
    "plt.ylabel(\"Speed [m/s]\")\n",
    "plt.grid(\"True\")\n",
    "plt.xlim(10, 14)\n",
    "plt.plot (df1.time, df1.speed, label = \"Robot speed\")\n",
    "plt.vlines(x = pauseTime, color = \"r\", ymin = -0.05, ymax = 0.85, label = \"Stop order sent\")\n",
    "plt.vlines(x = stopTime, color = \"m\", ymin = -0.05, ymax = 0.85, label = \"Robot Stopped\")\n",
    "plt.legend()\n",
    "plt.show()"
   ]
  },
  {
   "cell_type": "markdown",
   "id": "fddb7048",
   "metadata": {},
   "source": [
    "## Calculate the latency using data1: check when does robot speed reach 99% of the velocity it had when the stop command was sent"
   ]
  },
  {
   "cell_type": "code",
   "execution_count": 17,
   "id": "d7a5140f",
   "metadata": {
    "scrolled": true
   },
   "outputs": [
    {
     "data": {
      "text/html": [
       "<div>\n",
       "<style scoped>\n",
       "    .dataframe tbody tr th:only-of-type {\n",
       "        vertical-align: middle;\n",
       "    }\n",
       "\n",
       "    .dataframe tbody tr th {\n",
       "        vertical-align: top;\n",
       "    }\n",
       "\n",
       "    .dataframe thead th {\n",
       "        text-align: right;\n",
       "    }\n",
       "</style>\n",
       "<table border=\"1\" class=\"dataframe\">\n",
       "  <thead>\n",
       "    <tr style=\"text-align: right;\">\n",
       "      <th></th>\n",
       "      <th>time</th>\n",
       "      <th>speed</th>\n",
       "      <th>Pause time</th>\n",
       "    </tr>\n",
       "  </thead>\n",
       "  <tbody>\n",
       "    <tr>\n",
       "      <th>194</th>\n",
       "      <td>11.075356</td>\n",
       "      <td>0.789790</td>\n",
       "      <td>10.986675</td>\n",
       "    </tr>\n",
       "    <tr>\n",
       "      <th>195</th>\n",
       "      <td>11.134613</td>\n",
       "      <td>0.763501</td>\n",
       "      <td>10.986675</td>\n",
       "    </tr>\n",
       "    <tr>\n",
       "      <th>196</th>\n",
       "      <td>11.174597</td>\n",
       "      <td>0.721989</td>\n",
       "      <td>10.986675</td>\n",
       "    </tr>\n",
       "    <tr>\n",
       "      <th>197</th>\n",
       "      <td>11.222580</td>\n",
       "      <td>0.663509</td>\n",
       "      <td>10.986675</td>\n",
       "    </tr>\n",
       "    <tr>\n",
       "      <th>198</th>\n",
       "      <td>11.263378</td>\n",
       "      <td>0.629068</td>\n",
       "      <td>10.986675</td>\n",
       "    </tr>\n",
       "  </tbody>\n",
       "</table>\n",
       "</div>"
      ],
      "text/plain": [
       "          time     speed  Pause time\n",
       "194  11.075356  0.789790   10.986675\n",
       "195  11.134613  0.763501   10.986675\n",
       "196  11.174597  0.721989   10.986675\n",
       "197  11.222580  0.663509   10.986675\n",
       "198  11.263378  0.629068   10.986675"
      ]
     },
     "execution_count": 17,
     "metadata": {},
     "output_type": "execute_result"
    }
   ],
   "source": [
    "df1SpeedAtpauseTime = df1[(df1.time >= pauseTime)]\n",
    "df1SpeedAtpauseTime.head()"
   ]
  },
  {
   "cell_type": "markdown",
   "id": "44e878af",
   "metadata": {},
   "source": [
    "By locking the speed of the first row, we can obtain the closest velocity measurement to the pauseTime velocity"
   ]
  },
  {
   "cell_type": "code",
   "execution_count": 18,
   "id": "2b8419f1",
   "metadata": {},
   "outputs": [
    {
     "data": {
      "text/plain": [
       "0.7897899746894836"
      ]
     },
     "execution_count": 18,
     "metadata": {},
     "output_type": "execute_result"
    }
   ],
   "source": [
    "speedAtPauseTime = df1SpeedAtpauseTime.iloc[0, 1]\n",
    "speedAtPauseTime"
   ]
  },
  {
   "cell_type": "code",
   "execution_count": 19,
   "id": "b02b7f60",
   "metadata": {},
   "outputs": [],
   "source": [
    "df1Latency = df1[(df1.speed <= speedAtPauseTime*0.99) & (df1.time>pauseTime)]"
   ]
  },
  {
   "cell_type": "code",
   "execution_count": 20,
   "id": "dec44f32",
   "metadata": {},
   "outputs": [
    {
     "data": {
      "text/html": [
       "<div>\n",
       "<style scoped>\n",
       "    .dataframe tbody tr th:only-of-type {\n",
       "        vertical-align: middle;\n",
       "    }\n",
       "\n",
       "    .dataframe tbody tr th {\n",
       "        vertical-align: top;\n",
       "    }\n",
       "\n",
       "    .dataframe thead th {\n",
       "        text-align: right;\n",
       "    }\n",
       "</style>\n",
       "<table border=\"1\" class=\"dataframe\">\n",
       "  <thead>\n",
       "    <tr style=\"text-align: right;\">\n",
       "      <th></th>\n",
       "      <th>time</th>\n",
       "      <th>speed</th>\n",
       "      <th>Pause time</th>\n",
       "    </tr>\n",
       "  </thead>\n",
       "  <tbody>\n",
       "    <tr>\n",
       "      <th>195</th>\n",
       "      <td>11.134613</td>\n",
       "      <td>0.763501</td>\n",
       "      <td>10.986675</td>\n",
       "    </tr>\n",
       "    <tr>\n",
       "      <th>196</th>\n",
       "      <td>11.174597</td>\n",
       "      <td>0.721989</td>\n",
       "      <td>10.986675</td>\n",
       "    </tr>\n",
       "    <tr>\n",
       "      <th>197</th>\n",
       "      <td>11.222580</td>\n",
       "      <td>0.663509</td>\n",
       "      <td>10.986675</td>\n",
       "    </tr>\n",
       "    <tr>\n",
       "      <th>198</th>\n",
       "      <td>11.263378</td>\n",
       "      <td>0.629068</td>\n",
       "      <td>10.986675</td>\n",
       "    </tr>\n",
       "    <tr>\n",
       "      <th>199</th>\n",
       "      <td>11.303495</td>\n",
       "      <td>0.555375</td>\n",
       "      <td>10.986675</td>\n",
       "    </tr>\n",
       "  </tbody>\n",
       "</table>\n",
       "</div>"
      ],
      "text/plain": [
       "          time     speed  Pause time\n",
       "195  11.134613  0.763501   10.986675\n",
       "196  11.174597  0.721989   10.986675\n",
       "197  11.222580  0.663509   10.986675\n",
       "198  11.263378  0.629068   10.986675\n",
       "199  11.303495  0.555375   10.986675"
      ]
     },
     "execution_count": 20,
     "metadata": {},
     "output_type": "execute_result"
    }
   ],
   "source": [
    "df1Latency.head()"
   ]
  },
  {
   "cell_type": "code",
   "execution_count": 21,
   "id": "ab7b02d3",
   "metadata": {},
   "outputs": [],
   "source": [
    "responseTime = df1Latency.iloc[0, 0]"
   ]
  },
  {
   "cell_type": "code",
   "execution_count": 22,
   "id": "bac3cc8f",
   "metadata": {},
   "outputs": [
    {
     "data": {
      "text/plain": [
       "0.14793801307678223"
      ]
     },
     "execution_count": 22,
     "metadata": {},
     "output_type": "execute_result"
    }
   ],
   "source": [
    "latency1 = responseTime-pauseTime\n",
    "latencyArray = np.append(latencyArray, latency1)\n",
    "latency1"
   ]
  },
  {
   "cell_type": "markdown",
   "id": "c533b272",
   "metadata": {},
   "source": [
    "## Plot the velocity showing the latency for data1:"
   ]
  },
  {
   "cell_type": "code",
   "execution_count": 23,
   "id": "d58b413c",
   "metadata": {},
   "outputs": [
    {
     "data": {
      "image/png": "[encoded data removed]",
      "text/plain": [
       "<Figure size 432x288 with 1 Axes>"
      ]
     },
     "metadata": {
      "needs_background": "light"
     },
     "output_type": "display_data"
    }
   ],
   "source": [
    "plt.figure()\n",
    "plt.title(\"Latency of a dataset\")\n",
    "plt.xlabel(\"Time [sec]\")\n",
    "plt.ylabel(\"Speed [m/s]\")\n",
    "plt.grid(\"True\")\n",
    "plt.xlim(10, 14)\n",
    "plt.plot (df1.time, df1.speed, label = \"Robot speed\")\n",
    "plt.vlines(x = pauseTime, color = \"r\", ymin = -0.05, ymax = 0.85, label = \"Stop order sent\")\n",
    "plt.vlines(x = responseTime, color = \"m\", ymin = -0.05, ymax = 0.85, label = \"Robot reached 99% of maximum speed\")\n",
    "plt.legend()\n",
    "plt.show()"
   ]
  },
  {
   "cell_type": "markdown",
   "id": "3e294503",
   "metadata": {},
   "source": [
    "## Calculate delay for data2"
   ]
  },
  {
   "cell_type": "code",
   "execution_count": 24,
   "id": "df9ef619",
   "metadata": {},
   "outputs": [
    {
     "data": {
      "text/html": [
       "<div>\n",
       "<style scoped>\n",
       "    .dataframe tbody tr th:only-of-type {\n",
       "        vertical-align: middle;\n",
       "    }\n",
       "\n",
       "    .dataframe tbody tr th {\n",
       "        vertical-align: top;\n",
       "    }\n",
       "\n",
       "    .dataframe thead th {\n",
       "        text-align: right;\n",
       "    }\n",
       "</style>\n",
       "<table border=\"1\" class=\"dataframe\">\n",
       "  <thead>\n",
       "    <tr style=\"text-align: right;\">\n",
       "      <th></th>\n",
       "      <th>time</th>\n",
       "      <th>speed</th>\n",
       "    </tr>\n",
       "  </thead>\n",
       "  <tbody>\n",
       "    <tr>\n",
       "      <th>0</th>\n",
       "      <td>0.0</td>\n",
       "      <td>0.0</td>\n",
       "    </tr>\n",
       "    <tr>\n",
       "      <th>1</th>\n",
       "      <td>0.046871185302734375</td>\n",
       "      <td>0.0</td>\n",
       "    </tr>\n",
       "    <tr>\n",
       "      <th>2</th>\n",
       "      <td>0.13727211952209473</td>\n",
       "      <td>0.0</td>\n",
       "    </tr>\n",
       "    <tr>\n",
       "      <th>3</th>\n",
       "      <td>0.19325017929077148</td>\n",
       "      <td>0.0</td>\n",
       "    </tr>\n",
       "    <tr>\n",
       "      <th>4</th>\n",
       "      <td>1.7178771495819092</td>\n",
       "      <td>0.0</td>\n",
       "    </tr>\n",
       "  </tbody>\n",
       "</table>\n",
       "</div>"
      ],
      "text/plain": [
       "                   time  speed\n",
       "0                   0.0    0.0\n",
       "1  0.046871185302734375    0.0\n",
       "2   0.13727211952209473    0.0\n",
       "3   0.19325017929077148    0.0\n",
       "4    1.7178771495819092    0.0"
      ]
     },
     "execution_count": 24,
     "metadata": {},
     "output_type": "execute_result"
    }
   ],
   "source": [
    "df2 = pd.read_csv (r'C:\\Maila_4\\Project\\DeelayExperimentFiles\\data2.csv')\n",
    "df2.head()"
   ]
  },
  {
   "cell_type": "code",
   "execution_count": 25,
   "id": "f29a20bd",
   "metadata": {},
   "outputs": [
    {
     "data": {
      "text/html": [
       "<div>\n",
       "<style scoped>\n",
       "    .dataframe tbody tr th:only-of-type {\n",
       "        vertical-align: middle;\n",
       "    }\n",
       "\n",
       "    .dataframe tbody tr th {\n",
       "        vertical-align: top;\n",
       "    }\n",
       "\n",
       "    .dataframe thead th {\n",
       "        text-align: right;\n",
       "    }\n",
       "</style>\n",
       "<table border=\"1\" class=\"dataframe\">\n",
       "  <thead>\n",
       "    <tr style=\"text-align: right;\">\n",
       "      <th></th>\n",
       "      <th>time</th>\n",
       "      <th>speed</th>\n",
       "    </tr>\n",
       "  </thead>\n",
       "  <tbody>\n",
       "    <tr>\n",
       "      <th>230</th>\n",
       "      <td>15.854886054992676</td>\n",
       "      <td>0.000000</td>\n",
       "    </tr>\n",
       "    <tr>\n",
       "      <th>231</th>\n",
       "      <td>15.918843030929565</td>\n",
       "      <td>0.000000</td>\n",
       "    </tr>\n",
       "    <tr>\n",
       "      <th>232</th>\n",
       "      <td>15.959113121032715</td>\n",
       "      <td>0.000000</td>\n",
       "    </tr>\n",
       "    <tr>\n",
       "      <th>233</th>\n",
       "      <td>16.026443004608154</td>\n",
       "      <td>0.000000</td>\n",
       "    </tr>\n",
       "    <tr>\n",
       "      <th>234</th>\n",
       "      <td>Pause time</td>\n",
       "      <td>12.510233</td>\n",
       "    </tr>\n",
       "  </tbody>\n",
       "</table>\n",
       "</div>"
      ],
      "text/plain": [
       "                   time      speed\n",
       "230  15.854886054992676   0.000000\n",
       "231  15.918843030929565   0.000000\n",
       "232  15.959113121032715   0.000000\n",
       "233  16.026443004608154   0.000000\n",
       "234          Pause time  12.510233"
      ]
     },
     "execution_count": 25,
     "metadata": {},
     "output_type": "execute_result"
    }
   ],
   "source": [
    "df2.tail()"
   ]
  },
  {
   "cell_type": "code",
   "execution_count": 26,
   "id": "66c57ee8",
   "metadata": {},
   "outputs": [
    {
     "data": {
      "text/plain": [
       "time      object\n",
       "speed    float64\n",
       "dtype: object"
      ]
     },
     "execution_count": 26,
     "metadata": {},
     "output_type": "execute_result"
    }
   ],
   "source": [
    "df2.dtypes"
   ]
  },
  {
   "cell_type": "markdown",
   "id": "e8fb5a5e",
   "metadata": {},
   "source": [
    "Change data type from object to float"
   ]
  },
  {
   "cell_type": "markdown",
   "id": "135f06b5",
   "metadata": {},
   "source": [
    "We neeed to get rid of \"Pause time\". A new column with Pause time value will be created. Take into account that the value is stored in the last position of our data frame."
   ]
  },
  {
   "cell_type": "code",
   "execution_count": 27,
   "id": "83a699c7",
   "metadata": {},
   "outputs": [],
   "source": [
    "shape = df2.shape"
   ]
  },
  {
   "cell_type": "code",
   "execution_count": 28,
   "id": "a2bb1e93",
   "metadata": {},
   "outputs": [
    {
     "data": {
      "text/plain": [
       "12.510233163833618"
      ]
     },
     "execution_count": 28,
     "metadata": {},
     "output_type": "execute_result"
    }
   ],
   "source": [
    "pauseTime = df2.iloc[shape[0]-1, shape[1]-1] #Pause time locked\n",
    "pauseTime"
   ]
  },
  {
   "cell_type": "code",
   "execution_count": 29,
   "id": "51aa4160",
   "metadata": {},
   "outputs": [],
   "source": [
    "df1[\"Pause time\"] = pauseTime"
   ]
  },
  {
   "cell_type": "code",
   "execution_count": 30,
   "id": "49a3b8b6",
   "metadata": {},
   "outputs": [
    {
     "data": {
      "text/html": [
       "<div>\n",
       "<style scoped>\n",
       "    .dataframe tbody tr th:only-of-type {\n",
       "        vertical-align: middle;\n",
       "    }\n",
       "\n",
       "    .dataframe tbody tr th {\n",
       "        vertical-align: top;\n",
       "    }\n",
       "\n",
       "    .dataframe thead th {\n",
       "        text-align: right;\n",
       "    }\n",
       "</style>\n",
       "<table border=\"1\" class=\"dataframe\">\n",
       "  <thead>\n",
       "    <tr style=\"text-align: right;\">\n",
       "      <th></th>\n",
       "      <th>time</th>\n",
       "      <th>speed</th>\n",
       "    </tr>\n",
       "  </thead>\n",
       "  <tbody>\n",
       "    <tr>\n",
       "      <th>230</th>\n",
       "      <td>15.854886054992676</td>\n",
       "      <td>0.000000</td>\n",
       "    </tr>\n",
       "    <tr>\n",
       "      <th>231</th>\n",
       "      <td>15.918843030929565</td>\n",
       "      <td>0.000000</td>\n",
       "    </tr>\n",
       "    <tr>\n",
       "      <th>232</th>\n",
       "      <td>15.959113121032715</td>\n",
       "      <td>0.000000</td>\n",
       "    </tr>\n",
       "    <tr>\n",
       "      <th>233</th>\n",
       "      <td>16.026443004608154</td>\n",
       "      <td>0.000000</td>\n",
       "    </tr>\n",
       "    <tr>\n",
       "      <th>234</th>\n",
       "      <td>Pause time</td>\n",
       "      <td>12.510233</td>\n",
       "    </tr>\n",
       "  </tbody>\n",
       "</table>\n",
       "</div>"
      ],
      "text/plain": [
       "                   time      speed\n",
       "230  15.854886054992676   0.000000\n",
       "231  15.918843030929565   0.000000\n",
       "232  15.959113121032715   0.000000\n",
       "233  16.026443004608154   0.000000\n",
       "234          Pause time  12.510233"
      ]
     },
     "execution_count": 30,
     "metadata": {},
     "output_type": "execute_result"
    }
   ],
   "source": [
    "df2.tail()"
   ]
  },
  {
   "cell_type": "markdown",
   "id": "a86dafec",
   "metadata": {},
   "source": [
    "The value is repeated for every row but that is not a problem. Now we can drop the las row."
   ]
  },
  {
   "cell_type": "code",
   "execution_count": 31,
   "id": "024a02d6",
   "metadata": {},
   "outputs": [
    {
     "data": {
      "text/html": [
       "<div>\n",
       "<style scoped>\n",
       "    .dataframe tbody tr th:only-of-type {\n",
       "        vertical-align: middle;\n",
       "    }\n",
       "\n",
       "    .dataframe tbody tr th {\n",
       "        vertical-align: top;\n",
       "    }\n",
       "\n",
       "    .dataframe thead th {\n",
       "        text-align: right;\n",
       "    }\n",
       "</style>\n",
       "<table border=\"1\" class=\"dataframe\">\n",
       "  <thead>\n",
       "    <tr style=\"text-align: right;\">\n",
       "      <th></th>\n",
       "      <th>time</th>\n",
       "      <th>speed</th>\n",
       "    </tr>\n",
       "  </thead>\n",
       "  <tbody>\n",
       "    <tr>\n",
       "      <th>229</th>\n",
       "      <td>15.798424005508423</td>\n",
       "      <td>0.0</td>\n",
       "    </tr>\n",
       "    <tr>\n",
       "      <th>230</th>\n",
       "      <td>15.854886054992676</td>\n",
       "      <td>0.0</td>\n",
       "    </tr>\n",
       "    <tr>\n",
       "      <th>231</th>\n",
       "      <td>15.918843030929565</td>\n",
       "      <td>0.0</td>\n",
       "    </tr>\n",
       "    <tr>\n",
       "      <th>232</th>\n",
       "      <td>15.959113121032715</td>\n",
       "      <td>0.0</td>\n",
       "    </tr>\n",
       "    <tr>\n",
       "      <th>233</th>\n",
       "      <td>16.026443004608154</td>\n",
       "      <td>0.0</td>\n",
       "    </tr>\n",
       "  </tbody>\n",
       "</table>\n",
       "</div>"
      ],
      "text/plain": [
       "                   time  speed\n",
       "229  15.798424005508423    0.0\n",
       "230  15.854886054992676    0.0\n",
       "231  15.918843030929565    0.0\n",
       "232  15.959113121032715    0.0\n",
       "233  16.026443004608154    0.0"
      ]
     },
     "execution_count": 31,
     "metadata": {},
     "output_type": "execute_result"
    }
   ],
   "source": [
    "df2 = df2.drop(labels=shape[0]-1, axis=0)\n",
    "df2.tail()"
   ]
  },
  {
   "cell_type": "markdown",
   "id": "42d36e16",
   "metadata": {},
   "source": [
    "After getting rid of the string, we can convert the data type to float"
   ]
  },
  {
   "cell_type": "code",
   "execution_count": 32,
   "id": "f1fbba48",
   "metadata": {},
   "outputs": [
    {
     "data": {
      "text/plain": [
       "time     float64\n",
       "speed    float64\n",
       "dtype: object"
      ]
     },
     "execution_count": 32,
     "metadata": {},
     "output_type": "execute_result"
    }
   ],
   "source": [
    "df2['time'] = df2['time'].astype(float)\n",
    "df2.dtypes"
   ]
  },
  {
   "cell_type": "markdown",
   "id": "d7b74965",
   "metadata": {},
   "source": [
    "Obtain a df with robot speed = 0 when t > tpause. First element will show the time at which the robot stopped."
   ]
  },
  {
   "cell_type": "code",
   "execution_count": 33,
   "id": "41f8173f",
   "metadata": {},
   "outputs": [
    {
     "data": {
      "text/plain": [
       "13.52157998085022"
      ]
     },
     "execution_count": 33,
     "metadata": {},
     "output_type": "execute_result"
    }
   ],
   "source": [
    "df2Velocities = df2[(df2.speed==0) & (df2.time>pauseTime)]\n",
    "df2Velocities.head()\n",
    "\n",
    "stopTime = df2Velocities.iloc[0,0]\n",
    "stopTime"
   ]
  },
  {
   "cell_type": "code",
   "execution_count": 34,
   "id": "07ccbc56",
   "metadata": {},
   "outputs": [
    {
     "data": {
      "text/plain": [
       "array([0.97881389, 1.01134682])"
      ]
     },
     "execution_count": 34,
     "metadata": {},
     "output_type": "execute_result"
    }
   ],
   "source": [
    "delay2 = stopTime-pauseTime\n",
    "delayArray = np.append(delayArray, delay2)\n",
    "delayArray"
   ]
  },
  {
   "cell_type": "markdown",
   "id": "abf2c532",
   "metadata": {},
   "source": [
    "<b> Delay (in seconds) for data1 is: <b>"
   ]
  },
  {
   "cell_type": "code",
   "execution_count": 35,
   "id": "fd4a9e89",
   "metadata": {},
   "outputs": [
    {
     "data": {
      "text/plain": [
       "1.0113468170166016"
      ]
     },
     "execution_count": 35,
     "metadata": {},
     "output_type": "execute_result"
    }
   ],
   "source": [
    "delay2"
   ]
  },
  {
   "cell_type": "markdown",
   "id": "f090cf84",
   "metadata": {},
   "source": [
    "## Plot the evolution of speed for data2"
   ]
  },
  {
   "cell_type": "code",
   "execution_count": 36,
   "id": "ff25536e",
   "metadata": {
    "scrolled": true
   },
   "outputs": [
    {
     "data": {
      "image/png": "[encoded data removed]",
      "text/plain": [
       "<Figure size 432x288 with 1 Axes>"
      ]
     },
     "metadata": {
      "needs_background": "light"
     },
     "output_type": "display_data"
    }
   ],
   "source": [
    "plt.figure()\n",
    "plt.title(\"Speed evolution of data2\")\n",
    "plt.xlabel(\"Time [s]\")\n",
    "plt.ylabel(\"Speed [m/s]\")\n",
    "plt.grid(\"True\")\n",
    "plt.plot (df2.time, df2.speed, label = \"Robot speed\")\n",
    "plt.vlines(x = pauseTime, color = \"r\", ymin = 0, ymax = 1, label = \"Stop order sent\")\n",
    "plt.vlines(x = stopTime, color = \"m\", ymin = 0, ymax = 1, label = \"Robot Stopped\")\n",
    "plt.legend()\n",
    "plt.show()"
   ]
  },
  {
   "cell_type": "code",
   "execution_count": 37,
   "id": "33970f0a",
   "metadata": {
    "scrolled": true
   },
   "outputs": [
    {
     "data": {
      "image/png": "[encoded data removed]",
      "text/plain": [
       "<Figure size 432x288 with 1 Axes>"
      ]
     },
     "metadata": {
      "needs_background": "light"
     },
     "output_type": "display_data"
    }
   ],
   "source": [
    "plt.figure()\n",
    "plt.title(\"Speed evolution of data2\")\n",
    "plt.xlabel(\"Time [s]\")\n",
    "plt.ylabel(\"Speed [m/s]\")\n",
    "plt.grid(\"True\")\n",
    "plt.xlim(10, 14)\n",
    "plt.plot (df2.time, df2.speed, label = \"Robot speed\")\n",
    "plt.vlines(x = pauseTime, color = \"r\", ymin = 0, ymax = 1, label = \"Stop order sent\")\n",
    "plt.vlines(x = stopTime, color = \"m\", ymin = 0, ymax = 1, label = \"Robot Stopped\")\n",
    "plt.legend()\n",
    "plt.show()"
   ]
  },
  {
   "cell_type": "code",
   "execution_count": 38,
   "id": "6a585de5",
   "metadata": {
    "scrolled": true
   },
   "outputs": [
    {
     "data": {
      "text/html": [
       "<div>\n",
       "<style scoped>\n",
       "    .dataframe tbody tr th:only-of-type {\n",
       "        vertical-align: middle;\n",
       "    }\n",
       "\n",
       "    .dataframe tbody tr th {\n",
       "        vertical-align: top;\n",
       "    }\n",
       "\n",
       "    .dataframe thead th {\n",
       "        text-align: right;\n",
       "    }\n",
       "</style>\n",
       "<table border=\"1\" class=\"dataframe\">\n",
       "  <thead>\n",
       "    <tr style=\"text-align: right;\">\n",
       "      <th></th>\n",
       "      <th>time</th>\n",
       "      <th>speed</th>\n",
       "    </tr>\n",
       "  </thead>\n",
       "  <tbody>\n",
       "    <tr>\n",
       "      <th>166</th>\n",
       "      <td>12.546280</td>\n",
       "      <td>0.783031</td>\n",
       "    </tr>\n",
       "    <tr>\n",
       "      <th>167</th>\n",
       "      <td>12.610351</td>\n",
       "      <td>0.788661</td>\n",
       "    </tr>\n",
       "    <tr>\n",
       "      <th>168</th>\n",
       "      <td>12.731038</td>\n",
       "      <td>0.686169</td>\n",
       "    </tr>\n",
       "    <tr>\n",
       "      <th>169</th>\n",
       "      <td>12.783651</td>\n",
       "      <td>0.619350</td>\n",
       "    </tr>\n",
       "    <tr>\n",
       "      <th>170</th>\n",
       "      <td>12.823633</td>\n",
       "      <td>0.436800</td>\n",
       "    </tr>\n",
       "  </tbody>\n",
       "</table>\n",
       "</div>"
      ],
      "text/plain": [
       "          time     speed\n",
       "166  12.546280  0.783031\n",
       "167  12.610351  0.788661\n",
       "168  12.731038  0.686169\n",
       "169  12.783651  0.619350\n",
       "170  12.823633  0.436800"
      ]
     },
     "execution_count": 38,
     "metadata": {},
     "output_type": "execute_result"
    }
   ],
   "source": [
    "df2SpeedAtpauseTime = df2[(df2.time >= pauseTime)]\n",
    "df2SpeedAtpauseTime.head()"
   ]
  },
  {
   "cell_type": "markdown",
   "id": "d5fe0938",
   "metadata": {},
   "source": [
    "By locking the speed of the first row, we can obtain the closest velocity measurement to the pauseTime velocity"
   ]
  },
  {
   "cell_type": "code",
   "execution_count": 39,
   "id": "6d1d0152",
   "metadata": {},
   "outputs": [
    {
     "data": {
      "text/plain": [
       "0.7830311059951782"
      ]
     },
     "execution_count": 39,
     "metadata": {},
     "output_type": "execute_result"
    }
   ],
   "source": [
    "speedAtPauseTime = df2SpeedAtpauseTime.iloc[0, 1]\n",
    "speedAtPauseTime"
   ]
  },
  {
   "cell_type": "code",
   "execution_count": 40,
   "id": "6bdffec0",
   "metadata": {},
   "outputs": [],
   "source": [
    "df2Latency = df2[(df2.speed <= speedAtPauseTime*0.99) & (df2.time>pauseTime)]"
   ]
  },
  {
   "cell_type": "code",
   "execution_count": 41,
   "id": "f5a6b008",
   "metadata": {},
   "outputs": [
    {
     "data": {
      "text/html": [
       "<div>\n",
       "<style scoped>\n",
       "    .dataframe tbody tr th:only-of-type {\n",
       "        vertical-align: middle;\n",
       "    }\n",
       "\n",
       "    .dataframe tbody tr th {\n",
       "        vertical-align: top;\n",
       "    }\n",
       "\n",
       "    .dataframe thead th {\n",
       "        text-align: right;\n",
       "    }\n",
       "</style>\n",
       "<table border=\"1\" class=\"dataframe\">\n",
       "  <thead>\n",
       "    <tr style=\"text-align: right;\">\n",
       "      <th></th>\n",
       "      <th>time</th>\n",
       "      <th>speed</th>\n",
       "    </tr>\n",
       "  </thead>\n",
       "  <tbody>\n",
       "    <tr>\n",
       "      <th>168</th>\n",
       "      <td>12.731038</td>\n",
       "      <td>0.686169</td>\n",
       "    </tr>\n",
       "    <tr>\n",
       "      <th>169</th>\n",
       "      <td>12.783651</td>\n",
       "      <td>0.619350</td>\n",
       "    </tr>\n",
       "    <tr>\n",
       "      <th>170</th>\n",
       "      <td>12.823633</td>\n",
       "      <td>0.436800</td>\n",
       "    </tr>\n",
       "    <tr>\n",
       "      <th>171</th>\n",
       "      <td>12.944548</td>\n",
       "      <td>0.368582</td>\n",
       "    </tr>\n",
       "    <tr>\n",
       "      <th>172</th>\n",
       "      <td>12.994347</td>\n",
       "      <td>0.268369</td>\n",
       "    </tr>\n",
       "  </tbody>\n",
       "</table>\n",
       "</div>"
      ],
      "text/plain": [
       "          time     speed\n",
       "168  12.731038  0.686169\n",
       "169  12.783651  0.619350\n",
       "170  12.823633  0.436800\n",
       "171  12.944548  0.368582\n",
       "172  12.994347  0.268369"
      ]
     },
     "execution_count": 41,
     "metadata": {},
     "output_type": "execute_result"
    }
   ],
   "source": [
    "df2Latency.head()"
   ]
  },
  {
   "cell_type": "code",
   "execution_count": 42,
   "id": "86a8bc8c",
   "metadata": {},
   "outputs": [],
   "source": [
    "responseTime = df2Latency.iloc[0, 0]"
   ]
  },
  {
   "cell_type": "code",
   "execution_count": 43,
   "id": "14b68fdb",
   "metadata": {},
   "outputs": [
    {
     "data": {
      "text/plain": [
       "0.22080492973327637"
      ]
     },
     "execution_count": 43,
     "metadata": {},
     "output_type": "execute_result"
    }
   ],
   "source": [
    "latency2 = responseTime-pauseTime\n",
    "latencyArray = np.append(latencyArray, latency2)\n",
    "latency2"
   ]
  },
  {
   "cell_type": "markdown",
   "id": "fbae145d",
   "metadata": {},
   "source": [
    "## Calculate delay for data3"
   ]
  },
  {
   "cell_type": "code",
   "execution_count": 44,
   "id": "2ee9e280",
   "metadata": {},
   "outputs": [
    {
     "data": {
      "text/html": [
       "<div>\n",
       "<style scoped>\n",
       "    .dataframe tbody tr th:only-of-type {\n",
       "        vertical-align: middle;\n",
       "    }\n",
       "\n",
       "    .dataframe tbody tr th {\n",
       "        vertical-align: top;\n",
       "    }\n",
       "\n",
       "    .dataframe thead th {\n",
       "        text-align: right;\n",
       "    }\n",
       "</style>\n",
       "<table border=\"1\" class=\"dataframe\">\n",
       "  <thead>\n",
       "    <tr style=\"text-align: right;\">\n",
       "      <th></th>\n",
       "      <th>time</th>\n",
       "      <th>speed</th>\n",
       "    </tr>\n",
       "  </thead>\n",
       "  <tbody>\n",
       "    <tr>\n",
       "      <th>0</th>\n",
       "      <td>0.0</td>\n",
       "      <td>0.0</td>\n",
       "    </tr>\n",
       "    <tr>\n",
       "      <th>1</th>\n",
       "      <td>0.12037491798400879</td>\n",
       "      <td>0.0</td>\n",
       "    </tr>\n",
       "    <tr>\n",
       "      <th>2</th>\n",
       "      <td>0.1531050205230713</td>\n",
       "      <td>0.0</td>\n",
       "    </tr>\n",
       "    <tr>\n",
       "      <th>3</th>\n",
       "      <td>0.31700992584228516</td>\n",
       "      <td>0.0</td>\n",
       "    </tr>\n",
       "    <tr>\n",
       "      <th>4</th>\n",
       "      <td>0.35754895210266113</td>\n",
       "      <td>0.0</td>\n",
       "    </tr>\n",
       "  </tbody>\n",
       "</table>\n",
       "</div>"
      ],
      "text/plain": [
       "                  time  speed\n",
       "0                  0.0    0.0\n",
       "1  0.12037491798400879    0.0\n",
       "2   0.1531050205230713    0.0\n",
       "3  0.31700992584228516    0.0\n",
       "4  0.35754895210266113    0.0"
      ]
     },
     "execution_count": 44,
     "metadata": {},
     "output_type": "execute_result"
    }
   ],
   "source": [
    "df3 = pd.read_csv (r'C:\\Maila_4\\Project\\DeelayExperimentFiles\\data3.csv')\n",
    "df3.head()"
   ]
  },
  {
   "cell_type": "code",
   "execution_count": 45,
   "id": "90b464b3",
   "metadata": {},
   "outputs": [
    {
     "data": {
      "text/html": [
       "<div>\n",
       "<style scoped>\n",
       "    .dataframe tbody tr th:only-of-type {\n",
       "        vertical-align: middle;\n",
       "    }\n",
       "\n",
       "    .dataframe tbody tr th {\n",
       "        vertical-align: top;\n",
       "    }\n",
       "\n",
       "    .dataframe thead th {\n",
       "        text-align: right;\n",
       "    }\n",
       "</style>\n",
       "<table border=\"1\" class=\"dataframe\">\n",
       "  <thead>\n",
       "    <tr style=\"text-align: right;\">\n",
       "      <th></th>\n",
       "      <th>time</th>\n",
       "      <th>speed</th>\n",
       "    </tr>\n",
       "  </thead>\n",
       "  <tbody>\n",
       "    <tr>\n",
       "      <th>211</th>\n",
       "      <td>15.73607587814331</td>\n",
       "      <td>0.000000</td>\n",
       "    </tr>\n",
       "    <tr>\n",
       "      <th>212</th>\n",
       "      <td>15.86378288269043</td>\n",
       "      <td>0.000000</td>\n",
       "    </tr>\n",
       "    <tr>\n",
       "      <th>213</th>\n",
       "      <td>15.968127012252808</td>\n",
       "      <td>0.000000</td>\n",
       "    </tr>\n",
       "    <tr>\n",
       "      <th>214</th>\n",
       "      <td>16.055697917938232</td>\n",
       "      <td>0.000000</td>\n",
       "    </tr>\n",
       "    <tr>\n",
       "      <th>215</th>\n",
       "      <td>Pause time</td>\n",
       "      <td>10.479635</td>\n",
       "    </tr>\n",
       "  </tbody>\n",
       "</table>\n",
       "</div>"
      ],
      "text/plain": [
       "                   time      speed\n",
       "211   15.73607587814331   0.000000\n",
       "212   15.86378288269043   0.000000\n",
       "213  15.968127012252808   0.000000\n",
       "214  16.055697917938232   0.000000\n",
       "215          Pause time  10.479635"
      ]
     },
     "execution_count": 45,
     "metadata": {},
     "output_type": "execute_result"
    }
   ],
   "source": [
    "df3.tail()"
   ]
  },
  {
   "cell_type": "code",
   "execution_count": 46,
   "id": "0877ff8c",
   "metadata": {},
   "outputs": [
    {
     "data": {
      "text/plain": [
       "time      object\n",
       "speed    float64\n",
       "dtype: object"
      ]
     },
     "execution_count": 46,
     "metadata": {},
     "output_type": "execute_result"
    }
   ],
   "source": [
    "df3.dtypes"
   ]
  },
  {
   "cell_type": "markdown",
   "id": "756a1839",
   "metadata": {},
   "source": [
    "Change data type from object to float"
   ]
  },
  {
   "cell_type": "markdown",
   "id": "c500e5ab",
   "metadata": {},
   "source": [
    "We neeed to get rid of \"Pause time\". A new column with Pause time value will be created. Take into account that the value is stored in the last position of our data frame."
   ]
  },
  {
   "cell_type": "code",
   "execution_count": 47,
   "id": "363a509a",
   "metadata": {},
   "outputs": [],
   "source": [
    "shape = df3.shape"
   ]
  },
  {
   "cell_type": "code",
   "execution_count": 48,
   "id": "86c94430",
   "metadata": {},
   "outputs": [
    {
     "data": {
      "text/plain": [
       "10.479635000228882"
      ]
     },
     "execution_count": 48,
     "metadata": {},
     "output_type": "execute_result"
    }
   ],
   "source": [
    "pauseTime = df3.iloc[shape[0]-1, shape[1]-1] #Pause time locked\n",
    "pauseTime"
   ]
  },
  {
   "cell_type": "code",
   "execution_count": 49,
   "id": "17b40e5b",
   "metadata": {},
   "outputs": [],
   "source": [
    "df3[\"Pause time\"] = pauseTime"
   ]
  },
  {
   "cell_type": "code",
   "execution_count": 50,
   "id": "4cf05824",
   "metadata": {},
   "outputs": [
    {
     "data": {
      "text/html": [
       "<div>\n",
       "<style scoped>\n",
       "    .dataframe tbody tr th:only-of-type {\n",
       "        vertical-align: middle;\n",
       "    }\n",
       "\n",
       "    .dataframe tbody tr th {\n",
       "        vertical-align: top;\n",
       "    }\n",
       "\n",
       "    .dataframe thead th {\n",
       "        text-align: right;\n",
       "    }\n",
       "</style>\n",
       "<table border=\"1\" class=\"dataframe\">\n",
       "  <thead>\n",
       "    <tr style=\"text-align: right;\">\n",
       "      <th></th>\n",
       "      <th>time</th>\n",
       "      <th>speed</th>\n",
       "      <th>Pause time</th>\n",
       "    </tr>\n",
       "  </thead>\n",
       "  <tbody>\n",
       "    <tr>\n",
       "      <th>211</th>\n",
       "      <td>15.73607587814331</td>\n",
       "      <td>0.000000</td>\n",
       "      <td>10.479635</td>\n",
       "    </tr>\n",
       "    <tr>\n",
       "      <th>212</th>\n",
       "      <td>15.86378288269043</td>\n",
       "      <td>0.000000</td>\n",
       "      <td>10.479635</td>\n",
       "    </tr>\n",
       "    <tr>\n",
       "      <th>213</th>\n",
       "      <td>15.968127012252808</td>\n",
       "      <td>0.000000</td>\n",
       "      <td>10.479635</td>\n",
       "    </tr>\n",
       "    <tr>\n",
       "      <th>214</th>\n",
       "      <td>16.055697917938232</td>\n",
       "      <td>0.000000</td>\n",
       "      <td>10.479635</td>\n",
       "    </tr>\n",
       "    <tr>\n",
       "      <th>215</th>\n",
       "      <td>Pause time</td>\n",
       "      <td>10.479635</td>\n",
       "      <td>10.479635</td>\n",
       "    </tr>\n",
       "  </tbody>\n",
       "</table>\n",
       "</div>"
      ],
      "text/plain": [
       "                   time      speed  Pause time\n",
       "211   15.73607587814331   0.000000   10.479635\n",
       "212   15.86378288269043   0.000000   10.479635\n",
       "213  15.968127012252808   0.000000   10.479635\n",
       "214  16.055697917938232   0.000000   10.479635\n",
       "215          Pause time  10.479635   10.479635"
      ]
     },
     "execution_count": 50,
     "metadata": {},
     "output_type": "execute_result"
    }
   ],
   "source": [
    "df3.tail()"
   ]
  },
  {
   "cell_type": "markdown",
   "id": "e595d5d9",
   "metadata": {},
   "source": [
    "The value is repeated for every row but that is not a problem. Now we can drop the las row."
   ]
  },
  {
   "cell_type": "code",
   "execution_count": 51,
   "id": "6dabc05a",
   "metadata": {},
   "outputs": [
    {
     "data": {
      "text/html": [
       "<div>\n",
       "<style scoped>\n",
       "    .dataframe tbody tr th:only-of-type {\n",
       "        vertical-align: middle;\n",
       "    }\n",
       "\n",
       "    .dataframe tbody tr th {\n",
       "        vertical-align: top;\n",
       "    }\n",
       "\n",
       "    .dataframe thead th {\n",
       "        text-align: right;\n",
       "    }\n",
       "</style>\n",
       "<table border=\"1\" class=\"dataframe\">\n",
       "  <thead>\n",
       "    <tr style=\"text-align: right;\">\n",
       "      <th></th>\n",
       "      <th>time</th>\n",
       "      <th>speed</th>\n",
       "      <th>Pause time</th>\n",
       "    </tr>\n",
       "  </thead>\n",
       "  <tbody>\n",
       "    <tr>\n",
       "      <th>210</th>\n",
       "      <td>15.686506986618042</td>\n",
       "      <td>0.0</td>\n",
       "      <td>10.479635</td>\n",
       "    </tr>\n",
       "    <tr>\n",
       "      <th>211</th>\n",
       "      <td>15.73607587814331</td>\n",
       "      <td>0.0</td>\n",
       "      <td>10.479635</td>\n",
       "    </tr>\n",
       "    <tr>\n",
       "      <th>212</th>\n",
       "      <td>15.86378288269043</td>\n",
       "      <td>0.0</td>\n",
       "      <td>10.479635</td>\n",
       "    </tr>\n",
       "    <tr>\n",
       "      <th>213</th>\n",
       "      <td>15.968127012252808</td>\n",
       "      <td>0.0</td>\n",
       "      <td>10.479635</td>\n",
       "    </tr>\n",
       "    <tr>\n",
       "      <th>214</th>\n",
       "      <td>16.055697917938232</td>\n",
       "      <td>0.0</td>\n",
       "      <td>10.479635</td>\n",
       "    </tr>\n",
       "  </tbody>\n",
       "</table>\n",
       "</div>"
      ],
      "text/plain": [
       "                   time  speed  Pause time\n",
       "210  15.686506986618042    0.0   10.479635\n",
       "211   15.73607587814331    0.0   10.479635\n",
       "212   15.86378288269043    0.0   10.479635\n",
       "213  15.968127012252808    0.0   10.479635\n",
       "214  16.055697917938232    0.0   10.479635"
      ]
     },
     "execution_count": 51,
     "metadata": {},
     "output_type": "execute_result"
    }
   ],
   "source": [
    "df3 = df3.drop(labels=shape[0]-1, axis=0)\n",
    "df3.tail()"
   ]
  },
  {
   "cell_type": "markdown",
   "id": "8cc4a73b",
   "metadata": {},
   "source": [
    "After getting rid of the string, we can convert the data type to float"
   ]
  },
  {
   "cell_type": "code",
   "execution_count": 52,
   "id": "db7df54d",
   "metadata": {},
   "outputs": [
    {
     "data": {
      "text/plain": [
       "time          float64\n",
       "speed         float64\n",
       "Pause time    float64\n",
       "dtype: object"
      ]
     },
     "execution_count": 52,
     "metadata": {},
     "output_type": "execute_result"
    }
   ],
   "source": [
    "df3['time'] = df3['time'].astype(float)\n",
    "df3.dtypes"
   ]
  },
  {
   "cell_type": "markdown",
   "id": "98ab70cd",
   "metadata": {},
   "source": [
    "Obtain a df with robot speed = 0 when t > tpause. First element will show the time at which the robot stopped."
   ]
  },
  {
   "cell_type": "code",
   "execution_count": 53,
   "id": "4833fdc2",
   "metadata": {},
   "outputs": [
    {
     "data": {
      "text/plain": [
       "11.421509027481079"
      ]
     },
     "execution_count": 53,
     "metadata": {},
     "output_type": "execute_result"
    }
   ],
   "source": [
    "df3Velocities = df3[(df3.speed==0) & (df3.time>pauseTime)]\n",
    "df3Velocities.head()\n",
    "\n",
    "stopTime = df3Velocities.iloc[0,0]\n",
    "stopTime"
   ]
  },
  {
   "cell_type": "code",
   "execution_count": 54,
   "id": "b38df2fb",
   "metadata": {},
   "outputs": [
    {
     "data": {
      "text/plain": [
       "array([0.97881389, 1.01134682, 0.94187403])"
      ]
     },
     "execution_count": 54,
     "metadata": {},
     "output_type": "execute_result"
    }
   ],
   "source": [
    "delay3 = stopTime-pauseTime\n",
    "delayArray = np.append(delayArray, delay3)\n",
    "delayArray"
   ]
  },
  {
   "cell_type": "markdown",
   "id": "ce9a1f5a",
   "metadata": {},
   "source": [
    "<b> Delay (in seconds) for data1 is: <b>"
   ]
  },
  {
   "cell_type": "code",
   "execution_count": 55,
   "id": "6fadaf64",
   "metadata": {},
   "outputs": [
    {
     "data": {
      "text/plain": [
       "0.9418740272521973"
      ]
     },
     "execution_count": 55,
     "metadata": {},
     "output_type": "execute_result"
    }
   ],
   "source": [
    "delay3"
   ]
  },
  {
   "cell_type": "markdown",
   "id": "7883dd5e",
   "metadata": {},
   "source": [
    "## Plot the evolution of speed for data3"
   ]
  },
  {
   "cell_type": "code",
   "execution_count": 56,
   "id": "3063179d",
   "metadata": {
    "scrolled": true
   },
   "outputs": [
    {
     "data": {
      "image/png": "[encoded data removed]",
      "text/plain": [
       "<Figure size 432x288 with 1 Axes>"
      ]
     },
     "metadata": {
      "needs_background": "light"
     },
     "output_type": "display_data"
    }
   ],
   "source": [
    "plt.figure()\n",
    "plt.title(\"Speed evolution of dataset\")\n",
    "plt.xlabel(\"Time [sec]\")\n",
    "plt.ylabel(\"Speed [m/s]\")\n",
    "plt.grid(\"True\")\n",
    "plt.plot (df3.time, df3.speed, label = \"Robot speed\")\n",
    "plt.vlines(x = pauseTime, color = \"r\", ymin = -0.05, ymax = 0.85, label = \"Stop order sent\")\n",
    "plt.vlines(x = stopTime, color = \"m\", ymin = -0.05, ymax = 0.85, label = \"Robot Stopped\")\n",
    "plt.legend()\n",
    "plt.show()"
   ]
  },
  {
   "cell_type": "code",
   "execution_count": 57,
   "id": "d8276b0b",
   "metadata": {
    "scrolled": true
   },
   "outputs": [
    {
     "data": {
      "image/png": "[encoded data removed]",
      "text/plain": [
       "<Figure size 432x288 with 1 Axes>"
      ]
     },
     "metadata": {
      "needs_background": "light"
     },
     "output_type": "display_data"
    }
   ],
   "source": [
    "plt.figure()\n",
    "plt.title(\"Speed evolution of data3\")\n",
    "plt.xlabel(\"Time [s]\")\n",
    "plt.ylabel(\"Speed [m/s]\")\n",
    "plt.grid(\"True\")\n",
    "plt.xlim(10, 14)\n",
    "plt.plot (df3.time, df3.speed, label = \"Robot speed\")\n",
    "plt.vlines(x = pauseTime, color = \"r\", ymin = 0, ymax = 1, label = \"Stop order sent\")\n",
    "plt.vlines(x = stopTime, color = \"m\", ymin = 0, ymax = 1, label = \"Robot Stopped\")\n",
    "plt.legend()\n",
    "plt.show()"
   ]
  },
  {
   "cell_type": "code",
   "execution_count": 58,
   "id": "7a813d28",
   "metadata": {
    "scrolled": true
   },
   "outputs": [
    {
     "name": "stderr",
     "output_type": "stream",
     "text": [
      "C:\\Users\\Usuario\\AppData\\Local\\Temp\\ipykernel_45112\\723349672.py:1: UserWarning: Boolean Series key will be reindexed to match DataFrame index.\n",
      "  df3SpeedAtpauseTime = df3[(df1.time >= pauseTime)]\n"
     ]
    },
    {
     "data": {
      "text/html": [
       "<div>\n",
       "<style scoped>\n",
       "    .dataframe tbody tr th:only-of-type {\n",
       "        vertical-align: middle;\n",
       "    }\n",
       "\n",
       "    .dataframe tbody tr th {\n",
       "        vertical-align: top;\n",
       "    }\n",
       "\n",
       "    .dataframe thead th {\n",
       "        text-align: right;\n",
       "    }\n",
       "</style>\n",
       "<table border=\"1\" class=\"dataframe\">\n",
       "  <thead>\n",
       "    <tr style=\"text-align: right;\">\n",
       "      <th></th>\n",
       "      <th>time</th>\n",
       "      <th>speed</th>\n",
       "      <th>Pause time</th>\n",
       "    </tr>\n",
       "  </thead>\n",
       "  <tbody>\n",
       "    <tr>\n",
       "      <th>187</th>\n",
       "      <td>14.375457</td>\n",
       "      <td>0.0</td>\n",
       "      <td>10.479635</td>\n",
       "    </tr>\n",
       "    <tr>\n",
       "      <th>188</th>\n",
       "      <td>14.410117</td>\n",
       "      <td>0.0</td>\n",
       "      <td>10.479635</td>\n",
       "    </tr>\n",
       "    <tr>\n",
       "      <th>189</th>\n",
       "      <td>14.441904</td>\n",
       "      <td>0.0</td>\n",
       "      <td>10.479635</td>\n",
       "    </tr>\n",
       "    <tr>\n",
       "      <th>190</th>\n",
       "      <td>14.473162</td>\n",
       "      <td>0.0</td>\n",
       "      <td>10.479635</td>\n",
       "    </tr>\n",
       "    <tr>\n",
       "      <th>191</th>\n",
       "      <td>14.529730</td>\n",
       "      <td>0.0</td>\n",
       "      <td>10.479635</td>\n",
       "    </tr>\n",
       "  </tbody>\n",
       "</table>\n",
       "</div>"
      ],
      "text/plain": [
       "          time  speed  Pause time\n",
       "187  14.375457    0.0   10.479635\n",
       "188  14.410117    0.0   10.479635\n",
       "189  14.441904    0.0   10.479635\n",
       "190  14.473162    0.0   10.479635\n",
       "191  14.529730    0.0   10.479635"
      ]
     },
     "execution_count": 58,
     "metadata": {},
     "output_type": "execute_result"
    }
   ],
   "source": [
    "df3SpeedAtpauseTime = df3[(df1.time >= pauseTime)]\n",
    "df3SpeedAtpauseTime.head()"
   ]
  },
  {
   "cell_type": "markdown",
   "id": "08651d08",
   "metadata": {},
   "source": [
    "By locking the speed of the first row, we can obtain the closest velocity measurement to the pauseTime velocity"
   ]
  },
  {
   "cell_type": "code",
   "execution_count": 59,
   "id": "d1bca379",
   "metadata": {},
   "outputs": [
    {
     "data": {
      "text/plain": [
       "0.0"
      ]
     },
     "execution_count": 59,
     "metadata": {},
     "output_type": "execute_result"
    }
   ],
   "source": [
    "speedAtPauseTime = df3SpeedAtpauseTime.iloc[0, 1]\n",
    "speedAtPauseTime"
   ]
  },
  {
   "cell_type": "code",
   "execution_count": 60,
   "id": "1e342186",
   "metadata": {},
   "outputs": [],
   "source": [
    "df3Latency = df3[(df3.speed <= speedAtPauseTime*0.99) & (df3.time>pauseTime)]"
   ]
  },
  {
   "cell_type": "code",
   "execution_count": 61,
   "id": "bb8512de",
   "metadata": {},
   "outputs": [
    {
     "data": {
      "text/html": [
       "<div>\n",
       "<style scoped>\n",
       "    .dataframe tbody tr th:only-of-type {\n",
       "        vertical-align: middle;\n",
       "    }\n",
       "\n",
       "    .dataframe tbody tr th {\n",
       "        vertical-align: top;\n",
       "    }\n",
       "\n",
       "    .dataframe thead th {\n",
       "        text-align: right;\n",
       "    }\n",
       "</style>\n",
       "<table border=\"1\" class=\"dataframe\">\n",
       "  <thead>\n",
       "    <tr style=\"text-align: right;\">\n",
       "      <th></th>\n",
       "      <th>time</th>\n",
       "      <th>speed</th>\n",
       "      <th>Pause time</th>\n",
       "    </tr>\n",
       "  </thead>\n",
       "  <tbody>\n",
       "    <tr>\n",
       "      <th>136</th>\n",
       "      <td>11.421509</td>\n",
       "      <td>0.000000</td>\n",
       "      <td>10.479635</td>\n",
       "    </tr>\n",
       "    <tr>\n",
       "      <th>137</th>\n",
       "      <td>11.477497</td>\n",
       "      <td>-0.000805</td>\n",
       "      <td>10.479635</td>\n",
       "    </tr>\n",
       "    <tr>\n",
       "      <th>138</th>\n",
       "      <td>11.508895</td>\n",
       "      <td>0.000000</td>\n",
       "      <td>10.479635</td>\n",
       "    </tr>\n",
       "    <tr>\n",
       "      <th>139</th>\n",
       "      <td>11.605481</td>\n",
       "      <td>0.000000</td>\n",
       "      <td>10.479635</td>\n",
       "    </tr>\n",
       "    <tr>\n",
       "      <th>140</th>\n",
       "      <td>11.656607</td>\n",
       "      <td>0.000000</td>\n",
       "      <td>10.479635</td>\n",
       "    </tr>\n",
       "  </tbody>\n",
       "</table>\n",
       "</div>"
      ],
      "text/plain": [
       "          time     speed  Pause time\n",
       "136  11.421509  0.000000   10.479635\n",
       "137  11.477497 -0.000805   10.479635\n",
       "138  11.508895  0.000000   10.479635\n",
       "139  11.605481  0.000000   10.479635\n",
       "140  11.656607  0.000000   10.479635"
      ]
     },
     "execution_count": 61,
     "metadata": {},
     "output_type": "execute_result"
    }
   ],
   "source": [
    "df3Latency.head()"
   ]
  },
  {
   "cell_type": "code",
   "execution_count": 62,
   "id": "f62ffb86",
   "metadata": {},
   "outputs": [],
   "source": [
    "responseTime = df3Latency.iloc[0, 0]"
   ]
  },
  {
   "cell_type": "code",
   "execution_count": 63,
   "id": "b1c3298c",
   "metadata": {},
   "outputs": [
    {
     "data": {
      "text/plain": [
       "0.9418740272521973"
      ]
     },
     "execution_count": 63,
     "metadata": {},
     "output_type": "execute_result"
    }
   ],
   "source": [
    "latency3 = responseTime-pauseTime\n",
    "latency3\n",
    "#latencyArray = np.append(latencyArray, latency3)"
   ]
  },
  {
   "cell_type": "code",
   "execution_count": 64,
   "id": "522733f8",
   "metadata": {},
   "outputs": [
    {
     "data": {
      "text/plain": [
       "0.9418740272521973"
      ]
     },
     "execution_count": 64,
     "metadata": {},
     "output_type": "execute_result"
    }
   ],
   "source": [
    "latency3"
   ]
  },
  {
   "cell_type": "markdown",
   "id": "32f1cde4",
   "metadata": {},
   "source": [
    "## Calculate delay for data4"
   ]
  },
  {
   "cell_type": "code",
   "execution_count": 65,
   "id": "8cb3fb4e",
   "metadata": {},
   "outputs": [],
   "source": [
    "df = pd.read_csv (r'C:\\Maila_4\\Project\\DeelayExperimentFiles\\data4.csv')"
   ]
  },
  {
   "cell_type": "markdown",
   "id": "d84838d6",
   "metadata": {},
   "source": [
    "Change data type from object to float"
   ]
  },
  {
   "cell_type": "markdown",
   "id": "87290f04",
   "metadata": {},
   "source": [
    "We neeed to get rid of \"Pause time\". A new column with Pause time value will be created. Take into account that the value is stored in the last position of our data frame."
   ]
  },
  {
   "cell_type": "code",
   "execution_count": 66,
   "id": "48e6d6ec",
   "metadata": {},
   "outputs": [],
   "source": [
    "shape = df.shape"
   ]
  },
  {
   "cell_type": "code",
   "execution_count": 67,
   "id": "80257da3",
   "metadata": {},
   "outputs": [
    {
     "data": {
      "text/plain": [
       "10.425464868545532"
      ]
     },
     "execution_count": 67,
     "metadata": {},
     "output_type": "execute_result"
    }
   ],
   "source": [
    "pauseTime = df.iloc[shape[0]-1, shape[1]-1] #Pause time locked\n",
    "pauseTime"
   ]
  },
  {
   "cell_type": "code",
   "execution_count": 68,
   "id": "711a7bc0",
   "metadata": {},
   "outputs": [],
   "source": [
    "df[\"Pause time\"] = pauseTime"
   ]
  },
  {
   "cell_type": "code",
   "execution_count": 69,
   "id": "9aff5ccc",
   "metadata": {},
   "outputs": [
    {
     "data": {
      "text/html": [
       "<div>\n",
       "<style scoped>\n",
       "    .dataframe tbody tr th:only-of-type {\n",
       "        vertical-align: middle;\n",
       "    }\n",
       "\n",
       "    .dataframe tbody tr th {\n",
       "        vertical-align: top;\n",
       "    }\n",
       "\n",
       "    .dataframe thead th {\n",
       "        text-align: right;\n",
       "    }\n",
       "</style>\n",
       "<table border=\"1\" class=\"dataframe\">\n",
       "  <thead>\n",
       "    <tr style=\"text-align: right;\">\n",
       "      <th></th>\n",
       "      <th>time</th>\n",
       "      <th>speed</th>\n",
       "      <th>Pause time</th>\n",
       "    </tr>\n",
       "  </thead>\n",
       "  <tbody>\n",
       "    <tr>\n",
       "      <th>306</th>\n",
       "      <td>15.85444688796997</td>\n",
       "      <td>0.000000</td>\n",
       "      <td>10.425465</td>\n",
       "    </tr>\n",
       "    <tr>\n",
       "      <th>307</th>\n",
       "      <td>15.898273944854736</td>\n",
       "      <td>0.000000</td>\n",
       "      <td>10.425465</td>\n",
       "    </tr>\n",
       "    <tr>\n",
       "      <th>308</th>\n",
       "      <td>15.944726943969727</td>\n",
       "      <td>0.000000</td>\n",
       "      <td>10.425465</td>\n",
       "    </tr>\n",
       "    <tr>\n",
       "      <th>309</th>\n",
       "      <td>16.00248098373413</td>\n",
       "      <td>0.000000</td>\n",
       "      <td>10.425465</td>\n",
       "    </tr>\n",
       "    <tr>\n",
       "      <th>310</th>\n",
       "      <td>Pause time</td>\n",
       "      <td>10.425465</td>\n",
       "      <td>10.425465</td>\n",
       "    </tr>\n",
       "  </tbody>\n",
       "</table>\n",
       "</div>"
      ],
      "text/plain": [
       "                   time      speed  Pause time\n",
       "306   15.85444688796997   0.000000   10.425465\n",
       "307  15.898273944854736   0.000000   10.425465\n",
       "308  15.944726943969727   0.000000   10.425465\n",
       "309   16.00248098373413   0.000000   10.425465\n",
       "310          Pause time  10.425465   10.425465"
      ]
     },
     "execution_count": 69,
     "metadata": {},
     "output_type": "execute_result"
    }
   ],
   "source": [
    "df.tail()"
   ]
  },
  {
   "cell_type": "markdown",
   "id": "2cda2959",
   "metadata": {},
   "source": [
    "The value is repeated for every row but that is not a problem. Now we can drop the las row."
   ]
  },
  {
   "cell_type": "code",
   "execution_count": 70,
   "id": "cb91e5cc",
   "metadata": {},
   "outputs": [
    {
     "data": {
      "text/html": [
       "<div>\n",
       "<style scoped>\n",
       "    .dataframe tbody tr th:only-of-type {\n",
       "        vertical-align: middle;\n",
       "    }\n",
       "\n",
       "    .dataframe tbody tr th {\n",
       "        vertical-align: top;\n",
       "    }\n",
       "\n",
       "    .dataframe thead th {\n",
       "        text-align: right;\n",
       "    }\n",
       "</style>\n",
       "<table border=\"1\" class=\"dataframe\">\n",
       "  <thead>\n",
       "    <tr style=\"text-align: right;\">\n",
       "      <th></th>\n",
       "      <th>time</th>\n",
       "      <th>speed</th>\n",
       "      <th>Pause time</th>\n",
       "    </tr>\n",
       "  </thead>\n",
       "  <tbody>\n",
       "    <tr>\n",
       "      <th>305</th>\n",
       "      <td>15.811163902282715</td>\n",
       "      <td>0.0</td>\n",
       "      <td>10.425465</td>\n",
       "    </tr>\n",
       "    <tr>\n",
       "      <th>306</th>\n",
       "      <td>15.85444688796997</td>\n",
       "      <td>0.0</td>\n",
       "      <td>10.425465</td>\n",
       "    </tr>\n",
       "    <tr>\n",
       "      <th>307</th>\n",
       "      <td>15.898273944854736</td>\n",
       "      <td>0.0</td>\n",
       "      <td>10.425465</td>\n",
       "    </tr>\n",
       "    <tr>\n",
       "      <th>308</th>\n",
       "      <td>15.944726943969727</td>\n",
       "      <td>0.0</td>\n",
       "      <td>10.425465</td>\n",
       "    </tr>\n",
       "    <tr>\n",
       "      <th>309</th>\n",
       "      <td>16.00248098373413</td>\n",
       "      <td>0.0</td>\n",
       "      <td>10.425465</td>\n",
       "    </tr>\n",
       "  </tbody>\n",
       "</table>\n",
       "</div>"
      ],
      "text/plain": [
       "                   time  speed  Pause time\n",
       "305  15.811163902282715    0.0   10.425465\n",
       "306   15.85444688796997    0.0   10.425465\n",
       "307  15.898273944854736    0.0   10.425465\n",
       "308  15.944726943969727    0.0   10.425465\n",
       "309   16.00248098373413    0.0   10.425465"
      ]
     },
     "execution_count": 70,
     "metadata": {},
     "output_type": "execute_result"
    }
   ],
   "source": [
    "df = df.drop(labels=shape[0]-1, axis=0)\n",
    "df.tail()"
   ]
  },
  {
   "cell_type": "markdown",
   "id": "d2b83cf5",
   "metadata": {},
   "source": [
    "After getting rid of the string, we can convert the data type to float"
   ]
  },
  {
   "cell_type": "code",
   "execution_count": 71,
   "id": "780415fd",
   "metadata": {},
   "outputs": [
    {
     "data": {
      "text/plain": [
       "time          float64\n",
       "speed         float64\n",
       "Pause time    float64\n",
       "dtype: object"
      ]
     },
     "execution_count": 71,
     "metadata": {},
     "output_type": "execute_result"
    }
   ],
   "source": [
    "df['time'] = df['time'].astype(float)\n",
    "df.dtypes"
   ]
  },
  {
   "cell_type": "markdown",
   "id": "2c445e08",
   "metadata": {},
   "source": [
    "Obtain a df with robot speed = 0 when t > tpause. First element will show the time at which the robot stopped."
   ]
  },
  {
   "cell_type": "code",
   "execution_count": 72,
   "id": "065e4759",
   "metadata": {},
   "outputs": [
    {
     "data": {
      "text/plain": [
       "11.384156942367554"
      ]
     },
     "execution_count": 72,
     "metadata": {},
     "output_type": "execute_result"
    }
   ],
   "source": [
    "dfVelocities = df[(df.speed==0) & (df.time>pauseTime)]\n",
    "dfVelocities.head()\n",
    "\n",
    "stopTime = dfVelocities.iloc[0,0]\n",
    "stopTime"
   ]
  },
  {
   "cell_type": "code",
   "execution_count": 73,
   "id": "82aa8209",
   "metadata": {},
   "outputs": [
    {
     "data": {
      "text/plain": [
       "array([0.97881389, 1.01134682, 0.94187403, 0.95869207])"
      ]
     },
     "execution_count": 73,
     "metadata": {},
     "output_type": "execute_result"
    }
   ],
   "source": [
    "delay = stopTime-pauseTime\n",
    "delayArray = np.append(delayArray, delay)\n",
    "delayArray"
   ]
  },
  {
   "cell_type": "markdown",
   "id": "d6e22ce6",
   "metadata": {},
   "source": [
    "<b> Delay (in seconds) for data1 is: <b>"
   ]
  },
  {
   "cell_type": "code",
   "execution_count": 74,
   "id": "7d6dde93",
   "metadata": {},
   "outputs": [
    {
     "data": {
      "text/plain": [
       "0.9586920738220215"
      ]
     },
     "execution_count": 74,
     "metadata": {},
     "output_type": "execute_result"
    }
   ],
   "source": [
    "delay"
   ]
  },
  {
   "cell_type": "markdown",
   "id": "e66346ca",
   "metadata": {},
   "source": [
    "## Plot the evolution of speed for data4"
   ]
  },
  {
   "cell_type": "code",
   "execution_count": 75,
   "id": "00ed4558",
   "metadata": {
    "scrolled": true
   },
   "outputs": [
    {
     "data": {
      "image/png": "[encoded data removed]",
      "text/plain": [
       "<Figure size 432x288 with 1 Axes>"
      ]
     },
     "metadata": {
      "needs_background": "light"
     },
     "output_type": "display_data"
    }
   ],
   "source": [
    "plt.figure()\n",
    "plt.title(\"Speed evolution of data4\")\n",
    "plt.xlabel(\"Time [s]\")\n",
    "plt.ylabel(\"Speed [m/s]\")\n",
    "plt.grid(\"True\")\n",
    "plt.plot (df.time, df.speed, label = \"Robot speed\")\n",
    "plt.vlines(x = pauseTime, color = \"r\", ymin = 0, ymax = 1, label = \"Stop order sent\")\n",
    "plt.vlines(x = stopTime, color = \"m\", ymin = 0, ymax = 1, label = \"Robot Stopped\")\n",
    "plt.legend()\n",
    "plt.show()"
   ]
  },
  {
   "cell_type": "code",
   "execution_count": 76,
   "id": "cfad209f",
   "metadata": {
    "scrolled": false
   },
   "outputs": [
    {
     "data": {
      "image/png": "[encoded data removed]",
      "text/plain": [
       "<Figure size 432x288 with 1 Axes>"
      ]
     },
     "metadata": {
      "needs_background": "light"
     },
     "output_type": "display_data"
    }
   ],
   "source": [
    "plt.figure()\n",
    "plt.title(\"Speed evolution of data4\")\n",
    "plt.xlabel(\"Time [s]\")\n",
    "plt.ylabel(\"Speed [m/s]\")\n",
    "plt.grid(\"True\")\n",
    "plt.xlim(10, 14)\n",
    "plt.plot (df.time, df.speed, label = \"Robot speed\")\n",
    "plt.vlines(x = pauseTime, color = \"r\", ymin = 0, ymax = 1, label = \"Stop order sent\")\n",
    "plt.vlines(x = stopTime, color = \"m\", ymin = 0, ymax = 1, label = \"Robot Stopped\")\n",
    "plt.legend()\n",
    "plt.show()"
   ]
  },
  {
   "cell_type": "code",
   "execution_count": 77,
   "id": "58ec97e2",
   "metadata": {
    "scrolled": true
   },
   "outputs": [
    {
     "data": {
      "text/html": [
       "<div>\n",
       "<style scoped>\n",
       "    .dataframe tbody tr th:only-of-type {\n",
       "        vertical-align: middle;\n",
       "    }\n",
       "\n",
       "    .dataframe tbody tr th {\n",
       "        vertical-align: top;\n",
       "    }\n",
       "\n",
       "    .dataframe thead th {\n",
       "        text-align: right;\n",
       "    }\n",
       "</style>\n",
       "<table border=\"1\" class=\"dataframe\">\n",
       "  <thead>\n",
       "    <tr style=\"text-align: right;\">\n",
       "      <th></th>\n",
       "      <th>time</th>\n",
       "      <th>speed</th>\n",
       "      <th>Pause time</th>\n",
       "    </tr>\n",
       "  </thead>\n",
       "  <tbody>\n",
       "    <tr>\n",
       "      <th>189</th>\n",
       "      <td>10.446090</td>\n",
       "      <td>0.787628</td>\n",
       "      <td>10.425465</td>\n",
       "    </tr>\n",
       "    <tr>\n",
       "      <th>190</th>\n",
       "      <td>10.511831</td>\n",
       "      <td>0.780038</td>\n",
       "      <td>10.425465</td>\n",
       "    </tr>\n",
       "    <tr>\n",
       "      <th>191</th>\n",
       "      <td>10.544606</td>\n",
       "      <td>0.776711</td>\n",
       "      <td>10.425465</td>\n",
       "    </tr>\n",
       "    <tr>\n",
       "      <th>192</th>\n",
       "      <td>10.587258</td>\n",
       "      <td>0.756512</td>\n",
       "      <td>10.425465</td>\n",
       "    </tr>\n",
       "    <tr>\n",
       "      <th>193</th>\n",
       "      <td>10.618748</td>\n",
       "      <td>0.710831</td>\n",
       "      <td>10.425465</td>\n",
       "    </tr>\n",
       "  </tbody>\n",
       "</table>\n",
       "</div>"
      ],
      "text/plain": [
       "          time     speed  Pause time\n",
       "189  10.446090  0.787628   10.425465\n",
       "190  10.511831  0.780038   10.425465\n",
       "191  10.544606  0.776711   10.425465\n",
       "192  10.587258  0.756512   10.425465\n",
       "193  10.618748  0.710831   10.425465"
      ]
     },
     "execution_count": 77,
     "metadata": {},
     "output_type": "execute_result"
    }
   ],
   "source": [
    "dfSpeedAtpauseTime = df[(df.time >= pauseTime)]\n",
    "dfSpeedAtpauseTime.head()"
   ]
  },
  {
   "cell_type": "markdown",
   "id": "b7c35775",
   "metadata": {},
   "source": [
    "By locking the speed of the first row, we can obtain the closest velocity measurement to the pauseTime velocity"
   ]
  },
  {
   "cell_type": "code",
   "execution_count": 78,
   "id": "11c01e55",
   "metadata": {},
   "outputs": [
    {
     "data": {
      "text/plain": [
       "0.7876278162002563"
      ]
     },
     "execution_count": 78,
     "metadata": {},
     "output_type": "execute_result"
    }
   ],
   "source": [
    "speedAtPauseTime = dfSpeedAtpauseTime.iloc[0, 1]\n",
    "speedAtPauseTime"
   ]
  },
  {
   "cell_type": "code",
   "execution_count": 79,
   "id": "5c313c6d",
   "metadata": {},
   "outputs": [],
   "source": [
    "dfLatency = df[(df.speed <= speedAtPauseTime*0.99) & (df.time>pauseTime)]"
   ]
  },
  {
   "cell_type": "code",
   "execution_count": 80,
   "id": "107cf69a",
   "metadata": {},
   "outputs": [
    {
     "data": {
      "text/html": [
       "<div>\n",
       "<style scoped>\n",
       "    .dataframe tbody tr th:only-of-type {\n",
       "        vertical-align: middle;\n",
       "    }\n",
       "\n",
       "    .dataframe tbody tr th {\n",
       "        vertical-align: top;\n",
       "    }\n",
       "\n",
       "    .dataframe thead th {\n",
       "        text-align: right;\n",
       "    }\n",
       "</style>\n",
       "<table border=\"1\" class=\"dataframe\">\n",
       "  <thead>\n",
       "    <tr style=\"text-align: right;\">\n",
       "      <th></th>\n",
       "      <th>time</th>\n",
       "      <th>speed</th>\n",
       "      <th>Pause time</th>\n",
       "    </tr>\n",
       "  </thead>\n",
       "  <tbody>\n",
       "    <tr>\n",
       "      <th>191</th>\n",
       "      <td>10.544606</td>\n",
       "      <td>0.776711</td>\n",
       "      <td>10.425465</td>\n",
       "    </tr>\n",
       "    <tr>\n",
       "      <th>192</th>\n",
       "      <td>10.587258</td>\n",
       "      <td>0.756512</td>\n",
       "      <td>10.425465</td>\n",
       "    </tr>\n",
       "    <tr>\n",
       "      <th>193</th>\n",
       "      <td>10.618748</td>\n",
       "      <td>0.710831</td>\n",
       "      <td>10.425465</td>\n",
       "    </tr>\n",
       "    <tr>\n",
       "      <th>194</th>\n",
       "      <td>10.658495</td>\n",
       "      <td>0.686094</td>\n",
       "      <td>10.425465</td>\n",
       "    </tr>\n",
       "    <tr>\n",
       "      <th>195</th>\n",
       "      <td>10.687144</td>\n",
       "      <td>0.623224</td>\n",
       "      <td>10.425465</td>\n",
       "    </tr>\n",
       "  </tbody>\n",
       "</table>\n",
       "</div>"
      ],
      "text/plain": [
       "          time     speed  Pause time\n",
       "191  10.544606  0.776711   10.425465\n",
       "192  10.587258  0.756512   10.425465\n",
       "193  10.618748  0.710831   10.425465\n",
       "194  10.658495  0.686094   10.425465\n",
       "195  10.687144  0.623224   10.425465"
      ]
     },
     "execution_count": 80,
     "metadata": {},
     "output_type": "execute_result"
    }
   ],
   "source": [
    "dfLatency.head()"
   ]
  },
  {
   "cell_type": "code",
   "execution_count": 81,
   "id": "222c64c6",
   "metadata": {},
   "outputs": [],
   "source": [
    "responseTime = dfLatency.iloc[0, 0]"
   ]
  },
  {
   "cell_type": "code",
   "execution_count": 82,
   "id": "87053bcc",
   "metadata": {},
   "outputs": [],
   "source": [
    "latency4 = responseTime-pauseTime\n",
    "latency4\n",
    "latencyArray = np.append(latencyArray, latency4)"
   ]
  },
  {
   "cell_type": "code",
   "execution_count": 83,
   "id": "d9d731c0",
   "metadata": {},
   "outputs": [
    {
     "data": {
      "text/plain": [
       "0.1191411018371582"
      ]
     },
     "execution_count": 83,
     "metadata": {},
     "output_type": "execute_result"
    }
   ],
   "source": [
    "latency4"
   ]
  },
  {
   "cell_type": "markdown",
   "id": "51b24b86",
   "metadata": {},
   "source": [
    "## Calculate delay for data5"
   ]
  },
  {
   "cell_type": "code",
   "execution_count": 84,
   "id": "9693a747",
   "metadata": {},
   "outputs": [],
   "source": [
    "df = pd.read_csv (r'C:\\Maila_4\\Project\\DeelayExperimentFiles\\data5.csv')"
   ]
  },
  {
   "cell_type": "markdown",
   "id": "6117567d",
   "metadata": {},
   "source": [
    "Change data type from object to float"
   ]
  },
  {
   "cell_type": "markdown",
   "id": "c46c24bc",
   "metadata": {},
   "source": [
    "We neeed to get rid of \"Pause time\". A new column with Pause time value will be created. Take into account that the value is stored in the last position of our data frame."
   ]
  },
  {
   "cell_type": "code",
   "execution_count": 85,
   "id": "0d99700f",
   "metadata": {},
   "outputs": [],
   "source": [
    "shape = df.shape"
   ]
  },
  {
   "cell_type": "code",
   "execution_count": 86,
   "id": "5827ea77",
   "metadata": {},
   "outputs": [
    {
     "data": {
      "text/plain": [
       "10.387151956558228"
      ]
     },
     "execution_count": 86,
     "metadata": {},
     "output_type": "execute_result"
    }
   ],
   "source": [
    "pauseTime = df.iloc[shape[0]-1, shape[1]-1] #Pause time locked\n",
    "pauseTime"
   ]
  },
  {
   "cell_type": "code",
   "execution_count": 87,
   "id": "e18957ee",
   "metadata": {},
   "outputs": [],
   "source": [
    "df[\"Pause time\"] = pauseTime"
   ]
  },
  {
   "cell_type": "code",
   "execution_count": 88,
   "id": "e329ab66",
   "metadata": {},
   "outputs": [
    {
     "data": {
      "text/html": [
       "<div>\n",
       "<style scoped>\n",
       "    .dataframe tbody tr th:only-of-type {\n",
       "        vertical-align: middle;\n",
       "    }\n",
       "\n",
       "    .dataframe tbody tr th {\n",
       "        vertical-align: top;\n",
       "    }\n",
       "\n",
       "    .dataframe thead th {\n",
       "        text-align: right;\n",
       "    }\n",
       "</style>\n",
       "<table border=\"1\" class=\"dataframe\">\n",
       "  <thead>\n",
       "    <tr style=\"text-align: right;\">\n",
       "      <th></th>\n",
       "      <th>time</th>\n",
       "      <th>speed</th>\n",
       "      <th>Pause time</th>\n",
       "    </tr>\n",
       "  </thead>\n",
       "  <tbody>\n",
       "    <tr>\n",
       "      <th>286</th>\n",
       "      <td>15.903532028198242</td>\n",
       "      <td>0.000000</td>\n",
       "      <td>10.387152</td>\n",
       "    </tr>\n",
       "    <tr>\n",
       "      <th>287</th>\n",
       "      <td>15.947618007659912</td>\n",
       "      <td>0.000000</td>\n",
       "      <td>10.387152</td>\n",
       "    </tr>\n",
       "    <tr>\n",
       "      <th>288</th>\n",
       "      <td>15.980165004730225</td>\n",
       "      <td>0.000000</td>\n",
       "      <td>10.387152</td>\n",
       "    </tr>\n",
       "    <tr>\n",
       "      <th>289</th>\n",
       "      <td>16.020148992538452</td>\n",
       "      <td>0.000000</td>\n",
       "      <td>10.387152</td>\n",
       "    </tr>\n",
       "    <tr>\n",
       "      <th>290</th>\n",
       "      <td>Pause time</td>\n",
       "      <td>10.387152</td>\n",
       "      <td>10.387152</td>\n",
       "    </tr>\n",
       "  </tbody>\n",
       "</table>\n",
       "</div>"
      ],
      "text/plain": [
       "                   time      speed  Pause time\n",
       "286  15.903532028198242   0.000000   10.387152\n",
       "287  15.947618007659912   0.000000   10.387152\n",
       "288  15.980165004730225   0.000000   10.387152\n",
       "289  16.020148992538452   0.000000   10.387152\n",
       "290          Pause time  10.387152   10.387152"
      ]
     },
     "execution_count": 88,
     "metadata": {},
     "output_type": "execute_result"
    }
   ],
   "source": [
    "df.tail()"
   ]
  },
  {
   "cell_type": "markdown",
   "id": "7d643139",
   "metadata": {},
   "source": [
    "The value is repeated for every row but that is not a problem. Now we can drop the las row."
   ]
  },
  {
   "cell_type": "code",
   "execution_count": 89,
   "id": "6ac3220e",
   "metadata": {},
   "outputs": [
    {
     "data": {
      "text/html": [
       "<div>\n",
       "<style scoped>\n",
       "    .dataframe tbody tr th:only-of-type {\n",
       "        vertical-align: middle;\n",
       "    }\n",
       "\n",
       "    .dataframe tbody tr th {\n",
       "        vertical-align: top;\n",
       "    }\n",
       "\n",
       "    .dataframe thead th {\n",
       "        text-align: right;\n",
       "    }\n",
       "</style>\n",
       "<table border=\"1\" class=\"dataframe\">\n",
       "  <thead>\n",
       "    <tr style=\"text-align: right;\">\n",
       "      <th></th>\n",
       "      <th>time</th>\n",
       "      <th>speed</th>\n",
       "      <th>Pause time</th>\n",
       "    </tr>\n",
       "  </thead>\n",
       "  <tbody>\n",
       "    <tr>\n",
       "      <th>285</th>\n",
       "      <td>15.871543884277344</td>\n",
       "      <td>0.0</td>\n",
       "      <td>10.387152</td>\n",
       "    </tr>\n",
       "    <tr>\n",
       "      <th>286</th>\n",
       "      <td>15.903532028198242</td>\n",
       "      <td>0.0</td>\n",
       "      <td>10.387152</td>\n",
       "    </tr>\n",
       "    <tr>\n",
       "      <th>287</th>\n",
       "      <td>15.947618007659912</td>\n",
       "      <td>0.0</td>\n",
       "      <td>10.387152</td>\n",
       "    </tr>\n",
       "    <tr>\n",
       "      <th>288</th>\n",
       "      <td>15.980165004730225</td>\n",
       "      <td>0.0</td>\n",
       "      <td>10.387152</td>\n",
       "    </tr>\n",
       "    <tr>\n",
       "      <th>289</th>\n",
       "      <td>16.020148992538452</td>\n",
       "      <td>0.0</td>\n",
       "      <td>10.387152</td>\n",
       "    </tr>\n",
       "  </tbody>\n",
       "</table>\n",
       "</div>"
      ],
      "text/plain": [
       "                   time  speed  Pause time\n",
       "285  15.871543884277344    0.0   10.387152\n",
       "286  15.903532028198242    0.0   10.387152\n",
       "287  15.947618007659912    0.0   10.387152\n",
       "288  15.980165004730225    0.0   10.387152\n",
       "289  16.020148992538452    0.0   10.387152"
      ]
     },
     "execution_count": 89,
     "metadata": {},
     "output_type": "execute_result"
    }
   ],
   "source": [
    "df = df.drop(labels=shape[0]-1, axis=0)\n",
    "df.tail()"
   ]
  },
  {
   "cell_type": "markdown",
   "id": "66a4a961",
   "metadata": {},
   "source": [
    "After getting rid of the string, we can convert the data type to float"
   ]
  },
  {
   "cell_type": "code",
   "execution_count": 90,
   "id": "e20f31e7",
   "metadata": {},
   "outputs": [
    {
     "data": {
      "text/plain": [
       "time          float64\n",
       "speed         float64\n",
       "Pause time    float64\n",
       "dtype: object"
      ]
     },
     "execution_count": 90,
     "metadata": {},
     "output_type": "execute_result"
    }
   ],
   "source": [
    "df['time'] = df['time'].astype(float)\n",
    "df.dtypes"
   ]
  },
  {
   "cell_type": "markdown",
   "id": "a5fc7f4e",
   "metadata": {},
   "source": [
    "Obtain a df with robot speed = 0 when t > tpause. First element will show the time at which the robot stopped."
   ]
  },
  {
   "cell_type": "code",
   "execution_count": 91,
   "id": "634f0889",
   "metadata": {},
   "outputs": [
    {
     "data": {
      "text/plain": [
       "11.277233839035034"
      ]
     },
     "execution_count": 91,
     "metadata": {},
     "output_type": "execute_result"
    }
   ],
   "source": [
    "dfVelocities = df[(df.speed==0) & (df.time>pauseTime)]\n",
    "dfVelocities.head()\n",
    "\n",
    "stopTime = dfVelocities.iloc[0,0]\n",
    "stopTime"
   ]
  },
  {
   "cell_type": "code",
   "execution_count": 92,
   "id": "30ce34a0",
   "metadata": {},
   "outputs": [
    {
     "data": {
      "text/plain": [
       "array([0.97881389, 1.01134682, 0.94187403, 0.95869207, 0.89008188])"
      ]
     },
     "execution_count": 92,
     "metadata": {},
     "output_type": "execute_result"
    }
   ],
   "source": [
    "delay = stopTime-pauseTime\n",
    "delayArray = np.append(delayArray, delay)\n",
    "delayArray"
   ]
  },
  {
   "cell_type": "markdown",
   "id": "a5d88a15",
   "metadata": {},
   "source": [
    "<b> Delay (in seconds) for data1 is: <b>"
   ]
  },
  {
   "cell_type": "code",
   "execution_count": 93,
   "id": "293357d4",
   "metadata": {},
   "outputs": [
    {
     "data": {
      "text/plain": [
       "0.8900818824768066"
      ]
     },
     "execution_count": 93,
     "metadata": {},
     "output_type": "execute_result"
    }
   ],
   "source": [
    "delay"
   ]
  },
  {
   "cell_type": "markdown",
   "id": "e9f02516",
   "metadata": {},
   "source": [
    "## Plot the evolution of speed for data5"
   ]
  },
  {
   "cell_type": "code",
   "execution_count": 94,
   "id": "6025283f",
   "metadata": {
    "scrolled": true
   },
   "outputs": [
    {
     "data": {
      "image/png": "[encoded data removed]",
      "text/plain": [
       "<Figure size 432x288 with 1 Axes>"
      ]
     },
     "metadata": {
      "needs_background": "light"
     },
     "output_type": "display_data"
    }
   ],
   "source": [
    "plt.figure()\n",
    "plt.title(\"Speed evolution of data5\")\n",
    "plt.xlabel(\"Time [s]\")\n",
    "plt.ylabel(\"Speed [m/s]\")\n",
    "plt.grid(\"True\")\n",
    "plt.plot (df.time, df.speed, label = \"Robot speed\")\n",
    "plt.vlines(x = pauseTime, color = \"r\", ymin = 0, ymax = 1, label = \"Stop order sent\")\n",
    "plt.vlines(x = stopTime, color = \"m\", ymin = 0, ymax = 1, label = \"Robot Stopped\")\n",
    "plt.legend()\n",
    "plt.show()"
   ]
  },
  {
   "cell_type": "code",
   "execution_count": 95,
   "id": "ddfceed5",
   "metadata": {
    "scrolled": false
   },
   "outputs": [
    {
     "data": {
      "image/png": "[encoded data removed]",
      "text/plain": [
       "<Figure size 432x288 with 1 Axes>"
      ]
     },
     "metadata": {
      "needs_background": "light"
     },
     "output_type": "display_data"
    }
   ],
   "source": [
    "plt.figure()\n",
    "plt.title(\"Speed evolution of data5\")\n",
    "plt.xlabel(\"Time [s]\")\n",
    "plt.ylabel(\"Speed [m/s]\")\n",
    "plt.grid(\"True\")\n",
    "plt.xlim(10, 14)\n",
    "plt.plot (df.time, df.speed, label = \"Robot speed\")\n",
    "plt.vlines(x = pauseTime, color = \"r\", ymin = 0, ymax = 1, label = \"Stop order sent\")\n",
    "plt.vlines(x = stopTime, color = \"m\", ymin = 0, ymax = 1, label = \"Robot Stopped\")\n",
    "plt.legend()\n",
    "plt.show()"
   ]
  },
  {
   "cell_type": "code",
   "execution_count": 96,
   "id": "7b0e6804",
   "metadata": {
    "scrolled": true
   },
   "outputs": [
    {
     "data": {
      "text/html": [
       "<div>\n",
       "<style scoped>\n",
       "    .dataframe tbody tr th:only-of-type {\n",
       "        vertical-align: middle;\n",
       "    }\n",
       "\n",
       "    .dataframe tbody tr th {\n",
       "        vertical-align: top;\n",
       "    }\n",
       "\n",
       "    .dataframe thead th {\n",
       "        text-align: right;\n",
       "    }\n",
       "</style>\n",
       "<table border=\"1\" class=\"dataframe\">\n",
       "  <thead>\n",
       "    <tr style=\"text-align: right;\">\n",
       "      <th></th>\n",
       "      <th>time</th>\n",
       "      <th>speed</th>\n",
       "      <th>Pause time</th>\n",
       "    </tr>\n",
       "  </thead>\n",
       "  <tbody>\n",
       "    <tr>\n",
       "      <th>164</th>\n",
       "      <td>10.390171</td>\n",
       "      <td>0.790051</td>\n",
       "      <td>10.387152</td>\n",
       "    </tr>\n",
       "    <tr>\n",
       "      <th>165</th>\n",
       "      <td>10.432678</td>\n",
       "      <td>0.798980</td>\n",
       "      <td>10.387152</td>\n",
       "    </tr>\n",
       "    <tr>\n",
       "      <th>166</th>\n",
       "      <td>10.500963</td>\n",
       "      <td>0.803572</td>\n",
       "      <td>10.387152</td>\n",
       "    </tr>\n",
       "    <tr>\n",
       "      <th>167</th>\n",
       "      <td>10.553772</td>\n",
       "      <td>0.779755</td>\n",
       "      <td>10.387152</td>\n",
       "    </tr>\n",
       "    <tr>\n",
       "      <th>168</th>\n",
       "      <td>10.596699</td>\n",
       "      <td>0.743484</td>\n",
       "      <td>10.387152</td>\n",
       "    </tr>\n",
       "  </tbody>\n",
       "</table>\n",
       "</div>"
      ],
      "text/plain": [
       "          time     speed  Pause time\n",
       "164  10.390171  0.790051   10.387152\n",
       "165  10.432678  0.798980   10.387152\n",
       "166  10.500963  0.803572   10.387152\n",
       "167  10.553772  0.779755   10.387152\n",
       "168  10.596699  0.743484   10.387152"
      ]
     },
     "execution_count": 96,
     "metadata": {},
     "output_type": "execute_result"
    }
   ],
   "source": [
    "dfSpeedAtpauseTime = df[(df.time >= pauseTime)]\n",
    "dfSpeedAtpauseTime.head()"
   ]
  },
  {
   "cell_type": "markdown",
   "id": "348f393b",
   "metadata": {},
   "source": [
    "By locking the speed of the first row, we can obtain the closest velocity measurement to the pauseTime velocity"
   ]
  },
  {
   "cell_type": "code",
   "execution_count": 97,
   "id": "cacc865d",
   "metadata": {},
   "outputs": [
    {
     "data": {
      "text/plain": [
       "0.7900509834289551"
      ]
     },
     "execution_count": 97,
     "metadata": {},
     "output_type": "execute_result"
    }
   ],
   "source": [
    "speedAtPauseTime = dfSpeedAtpauseTime.iloc[0, 1]\n",
    "speedAtPauseTime"
   ]
  },
  {
   "cell_type": "code",
   "execution_count": 98,
   "id": "3095f774",
   "metadata": {},
   "outputs": [],
   "source": [
    "dfLatency = df[(df.speed <= speedAtPauseTime*0.99) & (df.time>pauseTime)]"
   ]
  },
  {
   "cell_type": "code",
   "execution_count": 99,
   "id": "cf4187d3",
   "metadata": {},
   "outputs": [
    {
     "data": {
      "text/html": [
       "<div>\n",
       "<style scoped>\n",
       "    .dataframe tbody tr th:only-of-type {\n",
       "        vertical-align: middle;\n",
       "    }\n",
       "\n",
       "    .dataframe tbody tr th {\n",
       "        vertical-align: top;\n",
       "    }\n",
       "\n",
       "    .dataframe thead th {\n",
       "        text-align: right;\n",
       "    }\n",
       "</style>\n",
       "<table border=\"1\" class=\"dataframe\">\n",
       "  <thead>\n",
       "    <tr style=\"text-align: right;\">\n",
       "      <th></th>\n",
       "      <th>time</th>\n",
       "      <th>speed</th>\n",
       "      <th>Pause time</th>\n",
       "    </tr>\n",
       "  </thead>\n",
       "  <tbody>\n",
       "    <tr>\n",
       "      <th>167</th>\n",
       "      <td>10.553772</td>\n",
       "      <td>0.779755</td>\n",
       "      <td>10.387152</td>\n",
       "    </tr>\n",
       "    <tr>\n",
       "      <th>168</th>\n",
       "      <td>10.596699</td>\n",
       "      <td>0.743484</td>\n",
       "      <td>10.387152</td>\n",
       "    </tr>\n",
       "    <tr>\n",
       "      <th>169</th>\n",
       "      <td>10.649403</td>\n",
       "      <td>0.688594</td>\n",
       "      <td>10.387152</td>\n",
       "    </tr>\n",
       "    <tr>\n",
       "      <th>170</th>\n",
       "      <td>10.705430</td>\n",
       "      <td>0.579571</td>\n",
       "      <td>10.387152</td>\n",
       "    </tr>\n",
       "    <tr>\n",
       "      <th>171</th>\n",
       "      <td>10.840283</td>\n",
       "      <td>0.437894</td>\n",
       "      <td>10.387152</td>\n",
       "    </tr>\n",
       "  </tbody>\n",
       "</table>\n",
       "</div>"
      ],
      "text/plain": [
       "          time     speed  Pause time\n",
       "167  10.553772  0.779755   10.387152\n",
       "168  10.596699  0.743484   10.387152\n",
       "169  10.649403  0.688594   10.387152\n",
       "170  10.705430  0.579571   10.387152\n",
       "171  10.840283  0.437894   10.387152"
      ]
     },
     "execution_count": 99,
     "metadata": {},
     "output_type": "execute_result"
    }
   ],
   "source": [
    "dfLatency.head()"
   ]
  },
  {
   "cell_type": "code",
   "execution_count": 100,
   "id": "726c1a36",
   "metadata": {},
   "outputs": [],
   "source": [
    "responseTime = dfLatency.iloc[0, 0]"
   ]
  },
  {
   "cell_type": "code",
   "execution_count": 101,
   "id": "dab24dfe",
   "metadata": {},
   "outputs": [],
   "source": [
    "latency = responseTime-pauseTime\n",
    "latency\n",
    "latencyArray = np.append(latencyArray, latency)"
   ]
  },
  {
   "cell_type": "code",
   "execution_count": 102,
   "id": "23691cf4",
   "metadata": {},
   "outputs": [
    {
     "data": {
      "text/plain": [
       "0.16662001609802246"
      ]
     },
     "execution_count": 102,
     "metadata": {},
     "output_type": "execute_result"
    }
   ],
   "source": [
    "latency"
   ]
  },
  {
   "cell_type": "markdown",
   "id": "0ae1288f",
   "metadata": {},
   "source": [
    "## Calculate delay for data6"
   ]
  },
  {
   "cell_type": "code",
   "execution_count": 103,
   "id": "74adc8ac",
   "metadata": {},
   "outputs": [],
   "source": [
    "df = pd.read_csv (r'C:\\Maila_4\\Project\\DeelayExperimentFiles\\data6.csv')"
   ]
  },
  {
   "cell_type": "markdown",
   "id": "ec1b6f13",
   "metadata": {},
   "source": [
    "Change data type from object to float"
   ]
  },
  {
   "cell_type": "markdown",
   "id": "2a5ac345",
   "metadata": {},
   "source": [
    "We neeed to get rid of \"Pause time\". A new column with Pause time value will be created. Take into account that the value is stored in the last position of our data frame."
   ]
  },
  {
   "cell_type": "code",
   "execution_count": 104,
   "id": "2ccc5de6",
   "metadata": {},
   "outputs": [],
   "source": [
    "shape = df.shape"
   ]
  },
  {
   "cell_type": "code",
   "execution_count": 105,
   "id": "709920bd",
   "metadata": {},
   "outputs": [
    {
     "data": {
      "text/plain": [
       "10.482339143753052"
      ]
     },
     "execution_count": 105,
     "metadata": {},
     "output_type": "execute_result"
    }
   ],
   "source": [
    "pauseTime = df.iloc[shape[0]-1, shape[1]-1] #Pause time locked\n",
    "pauseTime"
   ]
  },
  {
   "cell_type": "code",
   "execution_count": 106,
   "id": "be5e49b4",
   "metadata": {},
   "outputs": [],
   "source": [
    "df[\"Pause time\"] = pauseTime"
   ]
  },
  {
   "cell_type": "code",
   "execution_count": 107,
   "id": "e10e59fc",
   "metadata": {},
   "outputs": [
    {
     "data": {
      "text/html": [
       "<div>\n",
       "<style scoped>\n",
       "    .dataframe tbody tr th:only-of-type {\n",
       "        vertical-align: middle;\n",
       "    }\n",
       "\n",
       "    .dataframe tbody tr th {\n",
       "        vertical-align: top;\n",
       "    }\n",
       "\n",
       "    .dataframe thead th {\n",
       "        text-align: right;\n",
       "    }\n",
       "</style>\n",
       "<table border=\"1\" class=\"dataframe\">\n",
       "  <thead>\n",
       "    <tr style=\"text-align: right;\">\n",
       "      <th></th>\n",
       "      <th>time</th>\n",
       "      <th>speed</th>\n",
       "      <th>Pause time</th>\n",
       "    </tr>\n",
       "  </thead>\n",
       "  <tbody>\n",
       "    <tr>\n",
       "      <th>201</th>\n",
       "      <td>15.890815019607544</td>\n",
       "      <td>0.000000</td>\n",
       "      <td>10.482339</td>\n",
       "    </tr>\n",
       "    <tr>\n",
       "      <th>202</th>\n",
       "      <td>15.951295137405396</td>\n",
       "      <td>0.000000</td>\n",
       "      <td>10.482339</td>\n",
       "    </tr>\n",
       "    <tr>\n",
       "      <th>203</th>\n",
       "      <td>15.986468076705933</td>\n",
       "      <td>0.000000</td>\n",
       "      <td>10.482339</td>\n",
       "    </tr>\n",
       "    <tr>\n",
       "      <th>204</th>\n",
       "      <td>16.062108039855957</td>\n",
       "      <td>0.000000</td>\n",
       "      <td>10.482339</td>\n",
       "    </tr>\n",
       "    <tr>\n",
       "      <th>205</th>\n",
       "      <td>Pause time</td>\n",
       "      <td>10.482339</td>\n",
       "      <td>10.482339</td>\n",
       "    </tr>\n",
       "  </tbody>\n",
       "</table>\n",
       "</div>"
      ],
      "text/plain": [
       "                   time      speed  Pause time\n",
       "201  15.890815019607544   0.000000   10.482339\n",
       "202  15.951295137405396   0.000000   10.482339\n",
       "203  15.986468076705933   0.000000   10.482339\n",
       "204  16.062108039855957   0.000000   10.482339\n",
       "205          Pause time  10.482339   10.482339"
      ]
     },
     "execution_count": 107,
     "metadata": {},
     "output_type": "execute_result"
    }
   ],
   "source": [
    "df.tail()"
   ]
  },
  {
   "cell_type": "markdown",
   "id": "7fc9233b",
   "metadata": {},
   "source": [
    "The value is repeated for every row but that is not a problem. Now we can drop the las row."
   ]
  },
  {
   "cell_type": "code",
   "execution_count": 108,
   "id": "1bac3694",
   "metadata": {},
   "outputs": [
    {
     "data": {
      "text/html": [
       "<div>\n",
       "<style scoped>\n",
       "    .dataframe tbody tr th:only-of-type {\n",
       "        vertical-align: middle;\n",
       "    }\n",
       "\n",
       "    .dataframe tbody tr th {\n",
       "        vertical-align: top;\n",
       "    }\n",
       "\n",
       "    .dataframe thead th {\n",
       "        text-align: right;\n",
       "    }\n",
       "</style>\n",
       "<table border=\"1\" class=\"dataframe\">\n",
       "  <thead>\n",
       "    <tr style=\"text-align: right;\">\n",
       "      <th></th>\n",
       "      <th>time</th>\n",
       "      <th>speed</th>\n",
       "      <th>Pause time</th>\n",
       "    </tr>\n",
       "  </thead>\n",
       "  <tbody>\n",
       "    <tr>\n",
       "      <th>200</th>\n",
       "      <td>15.833261966705322</td>\n",
       "      <td>0.0</td>\n",
       "      <td>10.482339</td>\n",
       "    </tr>\n",
       "    <tr>\n",
       "      <th>201</th>\n",
       "      <td>15.890815019607544</td>\n",
       "      <td>0.0</td>\n",
       "      <td>10.482339</td>\n",
       "    </tr>\n",
       "    <tr>\n",
       "      <th>202</th>\n",
       "      <td>15.951295137405396</td>\n",
       "      <td>0.0</td>\n",
       "      <td>10.482339</td>\n",
       "    </tr>\n",
       "    <tr>\n",
       "      <th>203</th>\n",
       "      <td>15.986468076705933</td>\n",
       "      <td>0.0</td>\n",
       "      <td>10.482339</td>\n",
       "    </tr>\n",
       "    <tr>\n",
       "      <th>204</th>\n",
       "      <td>16.062108039855957</td>\n",
       "      <td>0.0</td>\n",
       "      <td>10.482339</td>\n",
       "    </tr>\n",
       "  </tbody>\n",
       "</table>\n",
       "</div>"
      ],
      "text/plain": [
       "                   time  speed  Pause time\n",
       "200  15.833261966705322    0.0   10.482339\n",
       "201  15.890815019607544    0.0   10.482339\n",
       "202  15.951295137405396    0.0   10.482339\n",
       "203  15.986468076705933    0.0   10.482339\n",
       "204  16.062108039855957    0.0   10.482339"
      ]
     },
     "execution_count": 108,
     "metadata": {},
     "output_type": "execute_result"
    }
   ],
   "source": [
    "df = df.drop(labels=shape[0]-1, axis=0)\n",
    "df.tail()"
   ]
  },
  {
   "cell_type": "markdown",
   "id": "31e1dc96",
   "metadata": {},
   "source": [
    "After getting rid of the string, we can convert the data type to float"
   ]
  },
  {
   "cell_type": "code",
   "execution_count": 109,
   "id": "e83fd193",
   "metadata": {},
   "outputs": [
    {
     "data": {
      "text/plain": [
       "time          float64\n",
       "speed         float64\n",
       "Pause time    float64\n",
       "dtype: object"
      ]
     },
     "execution_count": 109,
     "metadata": {},
     "output_type": "execute_result"
    }
   ],
   "source": [
    "df['time'] = df['time'].astype(float)\n",
    "df.dtypes"
   ]
  },
  {
   "cell_type": "markdown",
   "id": "c624aef9",
   "metadata": {},
   "source": [
    "Obtain a df with robot speed = 0 when t > tpause. First element will show the time at which the robot stopped."
   ]
  },
  {
   "cell_type": "code",
   "execution_count": 110,
   "id": "16b5d613",
   "metadata": {},
   "outputs": [
    {
     "data": {
      "text/plain": [
       "11.315574169158936"
      ]
     },
     "execution_count": 110,
     "metadata": {},
     "output_type": "execute_result"
    }
   ],
   "source": [
    "dfVelocities = df[(df.speed==0) & (df.time>pauseTime)]\n",
    "dfVelocities.head()\n",
    "\n",
    "stopTime = dfVelocities.iloc[0,0]\n",
    "stopTime"
   ]
  },
  {
   "cell_type": "code",
   "execution_count": 111,
   "id": "c815eb3f",
   "metadata": {},
   "outputs": [
    {
     "data": {
      "text/plain": [
       "array([0.97881389, 1.01134682, 0.94187403, 0.95869207, 0.89008188,\n",
       "       0.83323503])"
      ]
     },
     "execution_count": 111,
     "metadata": {},
     "output_type": "execute_result"
    }
   ],
   "source": [
    "delay = stopTime-pauseTime\n",
    "delayArray = np.append(delayArray, delay)\n",
    "delayArray"
   ]
  },
  {
   "cell_type": "markdown",
   "id": "83319dfc",
   "metadata": {},
   "source": [
    "<b> Delay (in seconds) for data1 is: <b>"
   ]
  },
  {
   "cell_type": "code",
   "execution_count": 112,
   "id": "2988e38a",
   "metadata": {},
   "outputs": [
    {
     "data": {
      "text/plain": [
       "0.8332350254058838"
      ]
     },
     "execution_count": 112,
     "metadata": {},
     "output_type": "execute_result"
    }
   ],
   "source": [
    "delay"
   ]
  },
  {
   "cell_type": "markdown",
   "id": "3336a49c",
   "metadata": {},
   "source": [
    "## Plot the evolution of speed for data6"
   ]
  },
  {
   "cell_type": "code",
   "execution_count": 113,
   "id": "2f27432a",
   "metadata": {
    "scrolled": true
   },
   "outputs": [
    {
     "data": {
      "image/png": "[encoded data removed]",
      "text/plain": [
       "<Figure size 432x288 with 1 Axes>"
      ]
     },
     "metadata": {
      "needs_background": "light"
     },
     "output_type": "display_data"
    }
   ],
   "source": [
    "plt.figure()\n",
    "plt.title(\"Speed evolution of data6\")\n",
    "plt.xlabel(\"Time [s]\")\n",
    "plt.ylabel(\"Speed [m/s]\")\n",
    "plt.grid(\"True\")\n",
    "plt.plot (df.time, df.speed, label = \"Robot speed\")\n",
    "plt.vlines(x = pauseTime, color = \"r\", ymin = 0, ymax = 1, label = \"Stop order sent\")\n",
    "plt.vlines(x = stopTime, color = \"m\", ymin = 0, ymax = 1, label = \"Robot Stopped\")\n",
    "plt.legend()\n",
    "plt.show()"
   ]
  },
  {
   "cell_type": "code",
   "execution_count": 114,
   "id": "8b0c2f3f",
   "metadata": {
    "scrolled": true
   },
   "outputs": [
    {
     "data": {
      "image/png": "[encoded data removed]",
      "text/plain": [
       "<Figure size 432x288 with 1 Axes>"
      ]
     },
     "metadata": {
      "needs_background": "light"
     },
     "output_type": "display_data"
    }
   ],
   "source": [
    "plt.figure()\n",
    "plt.title(\"Speed evolution of data6\")\n",
    "plt.xlabel(\"Time [s]\")\n",
    "plt.ylabel(\"Speed [m/s]\")\n",
    "plt.grid(\"True\")\n",
    "plt.xlim(10, 14)\n",
    "plt.plot (df.time, df.speed, label = \"Robot speed\")\n",
    "plt.vlines(x = pauseTime, color = \"r\", ymin = 0, ymax = 1, label = \"Stop order sent\")\n",
    "plt.vlines(x = stopTime, color = \"m\", ymin = 0, ymax = 1, label = \"Robot Stopped\")\n",
    "plt.legend()\n",
    "plt.show()"
   ]
  },
  {
   "cell_type": "code",
   "execution_count": 115,
   "id": "b3838416",
   "metadata": {
    "scrolled": true
   },
   "outputs": [
    {
     "data": {
      "text/html": [
       "<div>\n",
       "<style scoped>\n",
       "    .dataframe tbody tr th:only-of-type {\n",
       "        vertical-align: middle;\n",
       "    }\n",
       "\n",
       "    .dataframe tbody tr th {\n",
       "        vertical-align: top;\n",
       "    }\n",
       "\n",
       "    .dataframe thead th {\n",
       "        text-align: right;\n",
       "    }\n",
       "</style>\n",
       "<table border=\"1\" class=\"dataframe\">\n",
       "  <thead>\n",
       "    <tr style=\"text-align: right;\">\n",
       "      <th></th>\n",
       "      <th>time</th>\n",
       "      <th>speed</th>\n",
       "      <th>Pause time</th>\n",
       "    </tr>\n",
       "  </thead>\n",
       "  <tbody>\n",
       "    <tr>\n",
       "      <th>101</th>\n",
       "      <td>10.533496</td>\n",
       "      <td>0.790423</td>\n",
       "      <td>10.482339</td>\n",
       "    </tr>\n",
       "    <tr>\n",
       "      <th>102</th>\n",
       "      <td>10.631659</td>\n",
       "      <td>0.766308</td>\n",
       "      <td>10.482339</td>\n",
       "    </tr>\n",
       "    <tr>\n",
       "      <th>103</th>\n",
       "      <td>10.688827</td>\n",
       "      <td>0.707227</td>\n",
       "      <td>10.482339</td>\n",
       "    </tr>\n",
       "    <tr>\n",
       "      <th>104</th>\n",
       "      <td>10.728874</td>\n",
       "      <td>0.655660</td>\n",
       "      <td>10.482339</td>\n",
       "    </tr>\n",
       "    <tr>\n",
       "      <th>105</th>\n",
       "      <td>10.785880</td>\n",
       "      <td>0.481218</td>\n",
       "      <td>10.482339</td>\n",
       "    </tr>\n",
       "  </tbody>\n",
       "</table>\n",
       "</div>"
      ],
      "text/plain": [
       "          time     speed  Pause time\n",
       "101  10.533496  0.790423   10.482339\n",
       "102  10.631659  0.766308   10.482339\n",
       "103  10.688827  0.707227   10.482339\n",
       "104  10.728874  0.655660   10.482339\n",
       "105  10.785880  0.481218   10.482339"
      ]
     },
     "execution_count": 115,
     "metadata": {},
     "output_type": "execute_result"
    }
   ],
   "source": [
    "dfSpeedAtpauseTime = df[(df.time >= pauseTime)]\n",
    "dfSpeedAtpauseTime.head()"
   ]
  },
  {
   "cell_type": "markdown",
   "id": "293bcfad",
   "metadata": {},
   "source": [
    "By locking the speed of the first row, we can obtain the closest velocity measurement to the pauseTime velocity"
   ]
  },
  {
   "cell_type": "code",
   "execution_count": 116,
   "id": "8a9e3420",
   "metadata": {},
   "outputs": [
    {
     "data": {
      "text/plain": [
       "0.790422797203064"
      ]
     },
     "execution_count": 116,
     "metadata": {},
     "output_type": "execute_result"
    }
   ],
   "source": [
    "speedAtPauseTime = dfSpeedAtpauseTime.iloc[0, 1]\n",
    "speedAtPauseTime"
   ]
  },
  {
   "cell_type": "code",
   "execution_count": 117,
   "id": "fa483926",
   "metadata": {},
   "outputs": [],
   "source": [
    "dfLatency = df[(df.speed <= speedAtPauseTime*0.99) & (df.time>pauseTime)]"
   ]
  },
  {
   "cell_type": "code",
   "execution_count": 118,
   "id": "1d8b2174",
   "metadata": {},
   "outputs": [
    {
     "data": {
      "text/html": [
       "<div>\n",
       "<style scoped>\n",
       "    .dataframe tbody tr th:only-of-type {\n",
       "        vertical-align: middle;\n",
       "    }\n",
       "\n",
       "    .dataframe tbody tr th {\n",
       "        vertical-align: top;\n",
       "    }\n",
       "\n",
       "    .dataframe thead th {\n",
       "        text-align: right;\n",
       "    }\n",
       "</style>\n",
       "<table border=\"1\" class=\"dataframe\">\n",
       "  <thead>\n",
       "    <tr style=\"text-align: right;\">\n",
       "      <th></th>\n",
       "      <th>time</th>\n",
       "      <th>speed</th>\n",
       "      <th>Pause time</th>\n",
       "    </tr>\n",
       "  </thead>\n",
       "  <tbody>\n",
       "    <tr>\n",
       "      <th>102</th>\n",
       "      <td>10.631659</td>\n",
       "      <td>0.766308</td>\n",
       "      <td>10.482339</td>\n",
       "    </tr>\n",
       "    <tr>\n",
       "      <th>103</th>\n",
       "      <td>10.688827</td>\n",
       "      <td>0.707227</td>\n",
       "      <td>10.482339</td>\n",
       "    </tr>\n",
       "    <tr>\n",
       "      <th>104</th>\n",
       "      <td>10.728874</td>\n",
       "      <td>0.655660</td>\n",
       "      <td>10.482339</td>\n",
       "    </tr>\n",
       "    <tr>\n",
       "      <th>105</th>\n",
       "      <td>10.785880</td>\n",
       "      <td>0.481218</td>\n",
       "      <td>10.482339</td>\n",
       "    </tr>\n",
       "    <tr>\n",
       "      <th>106</th>\n",
       "      <td>10.916961</td>\n",
       "      <td>0.374229</td>\n",
       "      <td>10.482339</td>\n",
       "    </tr>\n",
       "  </tbody>\n",
       "</table>\n",
       "</div>"
      ],
      "text/plain": [
       "          time     speed  Pause time\n",
       "102  10.631659  0.766308   10.482339\n",
       "103  10.688827  0.707227   10.482339\n",
       "104  10.728874  0.655660   10.482339\n",
       "105  10.785880  0.481218   10.482339\n",
       "106  10.916961  0.374229   10.482339"
      ]
     },
     "execution_count": 118,
     "metadata": {},
     "output_type": "execute_result"
    }
   ],
   "source": [
    "dfLatency.head()"
   ]
  },
  {
   "cell_type": "code",
   "execution_count": 119,
   "id": "c6a69f2c",
   "metadata": {},
   "outputs": [],
   "source": [
    "responseTime = dfLatency.iloc[0, 0]"
   ]
  },
  {
   "cell_type": "code",
   "execution_count": 120,
   "id": "dd0358a2",
   "metadata": {},
   "outputs": [],
   "source": [
    "latency = responseTime-pauseTime\n",
    "latency\n",
    "latencyArray = np.append(latencyArray, latency)"
   ]
  },
  {
   "cell_type": "code",
   "execution_count": 121,
   "id": "08161174",
   "metadata": {},
   "outputs": [
    {
     "data": {
      "text/plain": [
       "0.14931988716125488"
      ]
     },
     "execution_count": 121,
     "metadata": {},
     "output_type": "execute_result"
    }
   ],
   "source": [
    "latency"
   ]
  },
  {
   "cell_type": "markdown",
   "id": "03ea74e9",
   "metadata": {},
   "source": [
    "## Calculate delay for data7"
   ]
  },
  {
   "cell_type": "code",
   "execution_count": 122,
   "id": "f43a2de5",
   "metadata": {},
   "outputs": [],
   "source": [
    "df = pd.read_csv (r'C:\\Maila_4\\Project\\DeelayExperimentFiles\\data7.csv')"
   ]
  },
  {
   "cell_type": "markdown",
   "id": "27a624b0",
   "metadata": {},
   "source": [
    "Change data type from object to float"
   ]
  },
  {
   "cell_type": "markdown",
   "id": "933e2564",
   "metadata": {},
   "source": [
    "We neeed to get rid of \"Pause time\". A new column with Pause time value will be created. Take into account that the value is stored in the last position of our data frame."
   ]
  },
  {
   "cell_type": "code",
   "execution_count": 123,
   "id": "9ebc4088",
   "metadata": {},
   "outputs": [],
   "source": [
    "shape = df.shape"
   ]
  },
  {
   "cell_type": "code",
   "execution_count": 124,
   "id": "611bd8f9",
   "metadata": {},
   "outputs": [
    {
     "data": {
      "text/plain": [
       "10.431519985198976"
      ]
     },
     "execution_count": 124,
     "metadata": {},
     "output_type": "execute_result"
    }
   ],
   "source": [
    "pauseTime = df.iloc[shape[0]-1, shape[1]-1] #Pause time locked\n",
    "pauseTime"
   ]
  },
  {
   "cell_type": "code",
   "execution_count": 125,
   "id": "b0c03600",
   "metadata": {},
   "outputs": [],
   "source": [
    "df[\"Pause time\"] = pauseTime"
   ]
  },
  {
   "cell_type": "code",
   "execution_count": 126,
   "id": "2d000bb2",
   "metadata": {},
   "outputs": [
    {
     "data": {
      "text/html": [
       "<div>\n",
       "<style scoped>\n",
       "    .dataframe tbody tr th:only-of-type {\n",
       "        vertical-align: middle;\n",
       "    }\n",
       "\n",
       "    .dataframe tbody tr th {\n",
       "        vertical-align: top;\n",
       "    }\n",
       "\n",
       "    .dataframe thead th {\n",
       "        text-align: right;\n",
       "    }\n",
       "</style>\n",
       "<table border=\"1\" class=\"dataframe\">\n",
       "  <thead>\n",
       "    <tr style=\"text-align: right;\">\n",
       "      <th></th>\n",
       "      <th>time</th>\n",
       "      <th>speed</th>\n",
       "      <th>Pause time</th>\n",
       "    </tr>\n",
       "  </thead>\n",
       "  <tbody>\n",
       "    <tr>\n",
       "      <th>272</th>\n",
       "      <td>15.866192102432251</td>\n",
       "      <td>0.00000</td>\n",
       "      <td>10.43152</td>\n",
       "    </tr>\n",
       "    <tr>\n",
       "      <th>273</th>\n",
       "      <td>15.918477058410645</td>\n",
       "      <td>0.00000</td>\n",
       "      <td>10.43152</td>\n",
       "    </tr>\n",
       "    <tr>\n",
       "      <th>274</th>\n",
       "      <td>15.972774028778076</td>\n",
       "      <td>0.00000</td>\n",
       "      <td>10.43152</td>\n",
       "    </tr>\n",
       "    <tr>\n",
       "      <th>275</th>\n",
       "      <td>16.02906608581543</td>\n",
       "      <td>0.00000</td>\n",
       "      <td>10.43152</td>\n",
       "    </tr>\n",
       "    <tr>\n",
       "      <th>276</th>\n",
       "      <td>Pause time</td>\n",
       "      <td>10.43152</td>\n",
       "      <td>10.43152</td>\n",
       "    </tr>\n",
       "  </tbody>\n",
       "</table>\n",
       "</div>"
      ],
      "text/plain": [
       "                   time     speed  Pause time\n",
       "272  15.866192102432251   0.00000    10.43152\n",
       "273  15.918477058410645   0.00000    10.43152\n",
       "274  15.972774028778076   0.00000    10.43152\n",
       "275   16.02906608581543   0.00000    10.43152\n",
       "276          Pause time  10.43152    10.43152"
      ]
     },
     "execution_count": 126,
     "metadata": {},
     "output_type": "execute_result"
    }
   ],
   "source": [
    "df.tail()"
   ]
  },
  {
   "cell_type": "markdown",
   "id": "8a40c423",
   "metadata": {},
   "source": [
    "The value is repeated for every row but that is not a problem. Now we can drop the las row."
   ]
  },
  {
   "cell_type": "code",
   "execution_count": 127,
   "id": "3e31682c",
   "metadata": {},
   "outputs": [
    {
     "data": {
      "text/html": [
       "<div>\n",
       "<style scoped>\n",
       "    .dataframe tbody tr th:only-of-type {\n",
       "        vertical-align: middle;\n",
       "    }\n",
       "\n",
       "    .dataframe tbody tr th {\n",
       "        vertical-align: top;\n",
       "    }\n",
       "\n",
       "    .dataframe thead th {\n",
       "        text-align: right;\n",
       "    }\n",
       "</style>\n",
       "<table border=\"1\" class=\"dataframe\">\n",
       "  <thead>\n",
       "    <tr style=\"text-align: right;\">\n",
       "      <th></th>\n",
       "      <th>time</th>\n",
       "      <th>speed</th>\n",
       "      <th>Pause time</th>\n",
       "    </tr>\n",
       "  </thead>\n",
       "  <tbody>\n",
       "    <tr>\n",
       "      <th>271</th>\n",
       "      <td>15.76233696937561</td>\n",
       "      <td>0.0</td>\n",
       "      <td>10.43152</td>\n",
       "    </tr>\n",
       "    <tr>\n",
       "      <th>272</th>\n",
       "      <td>15.866192102432251</td>\n",
       "      <td>0.0</td>\n",
       "      <td>10.43152</td>\n",
       "    </tr>\n",
       "    <tr>\n",
       "      <th>273</th>\n",
       "      <td>15.918477058410645</td>\n",
       "      <td>0.0</td>\n",
       "      <td>10.43152</td>\n",
       "    </tr>\n",
       "    <tr>\n",
       "      <th>274</th>\n",
       "      <td>15.972774028778076</td>\n",
       "      <td>0.0</td>\n",
       "      <td>10.43152</td>\n",
       "    </tr>\n",
       "    <tr>\n",
       "      <th>275</th>\n",
       "      <td>16.02906608581543</td>\n",
       "      <td>0.0</td>\n",
       "      <td>10.43152</td>\n",
       "    </tr>\n",
       "  </tbody>\n",
       "</table>\n",
       "</div>"
      ],
      "text/plain": [
       "                   time  speed  Pause time\n",
       "271   15.76233696937561    0.0    10.43152\n",
       "272  15.866192102432251    0.0    10.43152\n",
       "273  15.918477058410645    0.0    10.43152\n",
       "274  15.972774028778076    0.0    10.43152\n",
       "275   16.02906608581543    0.0    10.43152"
      ]
     },
     "execution_count": 127,
     "metadata": {},
     "output_type": "execute_result"
    }
   ],
   "source": [
    "df = df.drop(labels=shape[0]-1, axis=0)\n",
    "df.tail()"
   ]
  },
  {
   "cell_type": "markdown",
   "id": "129499ee",
   "metadata": {},
   "source": [
    "After getting rid of the string, we can convert the data type to float"
   ]
  },
  {
   "cell_type": "code",
   "execution_count": 128,
   "id": "c9327faf",
   "metadata": {},
   "outputs": [
    {
     "data": {
      "text/plain": [
       "time          float64\n",
       "speed         float64\n",
       "Pause time    float64\n",
       "dtype: object"
      ]
     },
     "execution_count": 128,
     "metadata": {},
     "output_type": "execute_result"
    }
   ],
   "source": [
    "df['time'] = df['time'].astype(float)\n",
    "df.dtypes"
   ]
  },
  {
   "cell_type": "markdown",
   "id": "28bc1487",
   "metadata": {},
   "source": [
    "Obtain a df with robot speed = 0 when t > tpause. First element will show the time at which the robot stopped."
   ]
  },
  {
   "cell_type": "code",
   "execution_count": 129,
   "id": "e8ab4337",
   "metadata": {},
   "outputs": [
    {
     "data": {
      "text/plain": [
       "11.408005952835083"
      ]
     },
     "execution_count": 129,
     "metadata": {},
     "output_type": "execute_result"
    }
   ],
   "source": [
    "dfVelocities = df[(df.speed==0) & (df.time>pauseTime)]\n",
    "dfVelocities.head()\n",
    "\n",
    "stopTime = dfVelocities.iloc[0,0]\n",
    "stopTime"
   ]
  },
  {
   "cell_type": "code",
   "execution_count": 130,
   "id": "d75e57a1",
   "metadata": {},
   "outputs": [
    {
     "data": {
      "text/plain": [
       "array([0.97881389, 1.01134682, 0.94187403, 0.95869207, 0.89008188,\n",
       "       0.83323503, 0.97648597])"
      ]
     },
     "execution_count": 130,
     "metadata": {},
     "output_type": "execute_result"
    }
   ],
   "source": [
    "delay = stopTime-pauseTime\n",
    "delayArray = np.append(delayArray, delay)\n",
    "delayArray"
   ]
  },
  {
   "cell_type": "markdown",
   "id": "5d2d3305",
   "metadata": {},
   "source": [
    "<b> Delay (in seconds) for data1 is: <b>"
   ]
  },
  {
   "cell_type": "code",
   "execution_count": 131,
   "id": "2bd56b85",
   "metadata": {},
   "outputs": [
    {
     "data": {
      "text/plain": [
       "0.9764859676361066"
      ]
     },
     "execution_count": 131,
     "metadata": {},
     "output_type": "execute_result"
    }
   ],
   "source": [
    "delay"
   ]
  },
  {
   "cell_type": "markdown",
   "id": "f556012d",
   "metadata": {},
   "source": [
    "## Plot the evolution of speed for data7"
   ]
  },
  {
   "cell_type": "code",
   "execution_count": 132,
   "id": "58393e8d",
   "metadata": {
    "scrolled": true
   },
   "outputs": [
    {
     "data": {
      "image/png": "[encoded data removed]",
      "text/plain": [
       "<Figure size 432x288 with 1 Axes>"
      ]
     },
     "metadata": {
      "needs_background": "light"
     },
     "output_type": "display_data"
    }
   ],
   "source": [
    "plt.figure()\n",
    "plt.title(\"Speed evolution of data7\")\n",
    "plt.xlabel(\"Time [s]\")\n",
    "plt.ylabel(\"Speed [m/s]\")\n",
    "plt.grid(\"True\")\n",
    "plt.plot (df.time, df.speed, label = \"Robot speed\")\n",
    "plt.vlines(x = pauseTime, color = \"r\", ymin = 0, ymax = 1, label = \"Stop order sent\")\n",
    "plt.vlines(x = stopTime, color = \"m\", ymin = 0, ymax = 1, label = \"Robot Stopped\")\n",
    "plt.legend()\n",
    "plt.show()"
   ]
  },
  {
   "cell_type": "code",
   "execution_count": 133,
   "id": "baa0af75",
   "metadata": {
    "scrolled": true
   },
   "outputs": [
    {
     "data": {
      "image/png": "[encoded data removed]",
      "text/plain": [
       "<Figure size 432x288 with 1 Axes>"
      ]
     },
     "metadata": {
      "needs_background": "light"
     },
     "output_type": "display_data"
    }
   ],
   "source": [
    "plt.figure()\n",
    "plt.title(\"Speed evolution of data7\")\n",
    "plt.xlabel(\"Time [s]\")\n",
    "plt.ylabel(\"Speed [m/s]\")\n",
    "plt.grid(\"True\")\n",
    "plt.xlim(10, 14)\n",
    "plt.plot (df.time, df.speed, label = \"Robot speed\")\n",
    "plt.vlines(x = pauseTime, color = \"r\", ymin = 0, ymax = 1, label = \"Stop order sent\")\n",
    "plt.vlines(x = stopTime, color = \"m\", ymin = 0, ymax = 1, label = \"Robot Stopped\")\n",
    "plt.legend()\n",
    "plt.show()"
   ]
  },
  {
   "cell_type": "code",
   "execution_count": 134,
   "id": "1487b75b",
   "metadata": {
    "scrolled": true
   },
   "outputs": [
    {
     "data": {
      "text/html": [
       "<div>\n",
       "<style scoped>\n",
       "    .dataframe tbody tr th:only-of-type {\n",
       "        vertical-align: middle;\n",
       "    }\n",
       "\n",
       "    .dataframe tbody tr th {\n",
       "        vertical-align: top;\n",
       "    }\n",
       "\n",
       "    .dataframe thead th {\n",
       "        text-align: right;\n",
       "    }\n",
       "</style>\n",
       "<table border=\"1\" class=\"dataframe\">\n",
       "  <thead>\n",
       "    <tr style=\"text-align: right;\">\n",
       "      <th></th>\n",
       "      <th>time</th>\n",
       "      <th>speed</th>\n",
       "      <th>Pause time</th>\n",
       "    </tr>\n",
       "  </thead>\n",
       "  <tbody>\n",
       "    <tr>\n",
       "      <th>152</th>\n",
       "      <td>10.463912</td>\n",
       "      <td>0.800930</td>\n",
       "      <td>10.43152</td>\n",
       "    </tr>\n",
       "    <tr>\n",
       "      <th>153</th>\n",
       "      <td>10.515146</td>\n",
       "      <td>0.799076</td>\n",
       "      <td>10.43152</td>\n",
       "    </tr>\n",
       "    <tr>\n",
       "      <th>154</th>\n",
       "      <td>10.554947</td>\n",
       "      <td>0.751747</td>\n",
       "      <td>10.43152</td>\n",
       "    </tr>\n",
       "    <tr>\n",
       "      <th>155</th>\n",
       "      <td>10.588905</td>\n",
       "      <td>0.716616</td>\n",
       "      <td>10.43152</td>\n",
       "    </tr>\n",
       "    <tr>\n",
       "      <th>156</th>\n",
       "      <td>10.648162</td>\n",
       "      <td>0.650487</td>\n",
       "      <td>10.43152</td>\n",
       "    </tr>\n",
       "  </tbody>\n",
       "</table>\n",
       "</div>"
      ],
      "text/plain": [
       "          time     speed  Pause time\n",
       "152  10.463912  0.800930    10.43152\n",
       "153  10.515146  0.799076    10.43152\n",
       "154  10.554947  0.751747    10.43152\n",
       "155  10.588905  0.716616    10.43152\n",
       "156  10.648162  0.650487    10.43152"
      ]
     },
     "execution_count": 134,
     "metadata": {},
     "output_type": "execute_result"
    }
   ],
   "source": [
    "dfSpeedAtpauseTime = df[(df.time >= pauseTime)]\n",
    "dfSpeedAtpauseTime.head()"
   ]
  },
  {
   "cell_type": "markdown",
   "id": "8adbb86e",
   "metadata": {},
   "source": [
    "By locking the speed of the first row, we can obtain the closest velocity measurement to the pauseTime velocity"
   ]
  },
  {
   "cell_type": "code",
   "execution_count": 135,
   "id": "60e5fdef",
   "metadata": {},
   "outputs": [
    {
     "data": {
      "text/plain": [
       "0.8009296655654907"
      ]
     },
     "execution_count": 135,
     "metadata": {},
     "output_type": "execute_result"
    }
   ],
   "source": [
    "speedAtPauseTime = dfSpeedAtpauseTime.iloc[0, 1]\n",
    "speedAtPauseTime"
   ]
  },
  {
   "cell_type": "code",
   "execution_count": 136,
   "id": "f641678d",
   "metadata": {},
   "outputs": [],
   "source": [
    "dfLatency = df[(df.speed <= speedAtPauseTime*0.99) & (df.time>pauseTime)]"
   ]
  },
  {
   "cell_type": "code",
   "execution_count": 137,
   "id": "db9c5f3c",
   "metadata": {},
   "outputs": [
    {
     "data": {
      "text/html": [
       "<div>\n",
       "<style scoped>\n",
       "    .dataframe tbody tr th:only-of-type {\n",
       "        vertical-align: middle;\n",
       "    }\n",
       "\n",
       "    .dataframe tbody tr th {\n",
       "        vertical-align: top;\n",
       "    }\n",
       "\n",
       "    .dataframe thead th {\n",
       "        text-align: right;\n",
       "    }\n",
       "</style>\n",
       "<table border=\"1\" class=\"dataframe\">\n",
       "  <thead>\n",
       "    <tr style=\"text-align: right;\">\n",
       "      <th></th>\n",
       "      <th>time</th>\n",
       "      <th>speed</th>\n",
       "      <th>Pause time</th>\n",
       "    </tr>\n",
       "  </thead>\n",
       "  <tbody>\n",
       "    <tr>\n",
       "      <th>154</th>\n",
       "      <td>10.554947</td>\n",
       "      <td>0.751747</td>\n",
       "      <td>10.43152</td>\n",
       "    </tr>\n",
       "    <tr>\n",
       "      <th>155</th>\n",
       "      <td>10.588905</td>\n",
       "      <td>0.716616</td>\n",
       "      <td>10.43152</td>\n",
       "    </tr>\n",
       "    <tr>\n",
       "      <th>156</th>\n",
       "      <td>10.648162</td>\n",
       "      <td>0.650487</td>\n",
       "      <td>10.43152</td>\n",
       "    </tr>\n",
       "    <tr>\n",
       "      <th>157</th>\n",
       "      <td>10.697501</td>\n",
       "      <td>0.615272</td>\n",
       "      <td>10.43152</td>\n",
       "    </tr>\n",
       "    <tr>\n",
       "      <th>158</th>\n",
       "      <td>10.735712</td>\n",
       "      <td>0.463565</td>\n",
       "      <td>10.43152</td>\n",
       "    </tr>\n",
       "  </tbody>\n",
       "</table>\n",
       "</div>"
      ],
      "text/plain": [
       "          time     speed  Pause time\n",
       "154  10.554947  0.751747    10.43152\n",
       "155  10.588905  0.716616    10.43152\n",
       "156  10.648162  0.650487    10.43152\n",
       "157  10.697501  0.615272    10.43152\n",
       "158  10.735712  0.463565    10.43152"
      ]
     },
     "execution_count": 137,
     "metadata": {},
     "output_type": "execute_result"
    }
   ],
   "source": [
    "dfLatency.head()"
   ]
  },
  {
   "cell_type": "code",
   "execution_count": 138,
   "id": "1eb877d3",
   "metadata": {},
   "outputs": [],
   "source": [
    "responseTime = dfLatency.iloc[0, 0]"
   ]
  },
  {
   "cell_type": "code",
   "execution_count": 139,
   "id": "c2be0ded",
   "metadata": {},
   "outputs": [],
   "source": [
    "latency = responseTime-pauseTime\n",
    "latency\n",
    "latencyArray = np.append(latencyArray, latency)"
   ]
  },
  {
   "cell_type": "code",
   "execution_count": 140,
   "id": "993eaea7",
   "metadata": {},
   "outputs": [
    {
     "data": {
      "text/plain": [
       "0.12342715263366522"
      ]
     },
     "execution_count": 140,
     "metadata": {},
     "output_type": "execute_result"
    }
   ],
   "source": [
    "latency"
   ]
  },
  {
   "cell_type": "markdown",
   "id": "7305f47b",
   "metadata": {},
   "source": [
    "## Calculate delay for data8"
   ]
  },
  {
   "cell_type": "code",
   "execution_count": 141,
   "id": "155282df",
   "metadata": {},
   "outputs": [],
   "source": [
    "df = pd.read_csv (r'C:\\Maila_4\\Project\\DeelayExperimentFiles\\data8.csv')"
   ]
  },
  {
   "cell_type": "markdown",
   "id": "a7173a49",
   "metadata": {},
   "source": [
    "Change data type from object to float"
   ]
  },
  {
   "cell_type": "markdown",
   "id": "5db8a03d",
   "metadata": {},
   "source": [
    "We neeed to get rid of \"Pause time\". A new column with Pause time value will be created. Take into account that the value is stored in the last position of our data frame."
   ]
  },
  {
   "cell_type": "code",
   "execution_count": 142,
   "id": "104ad68f",
   "metadata": {},
   "outputs": [],
   "source": [
    "shape = df.shape"
   ]
  },
  {
   "cell_type": "code",
   "execution_count": 143,
   "id": "db62c075",
   "metadata": {},
   "outputs": [
    {
     "data": {
      "text/plain": [
       "10.438840866088867"
      ]
     },
     "execution_count": 143,
     "metadata": {},
     "output_type": "execute_result"
    }
   ],
   "source": [
    "pauseTime = df.iloc[shape[0]-1, shape[1]-1] #Pause time locked\n",
    "pauseTime"
   ]
  },
  {
   "cell_type": "code",
   "execution_count": 144,
   "id": "9daeedf3",
   "metadata": {},
   "outputs": [],
   "source": [
    "df[\"Pause time\"] = pauseTime"
   ]
  },
  {
   "cell_type": "code",
   "execution_count": 145,
   "id": "c51a4740",
   "metadata": {},
   "outputs": [
    {
     "data": {
      "text/html": [
       "<div>\n",
       "<style scoped>\n",
       "    .dataframe tbody tr th:only-of-type {\n",
       "        vertical-align: middle;\n",
       "    }\n",
       "\n",
       "    .dataframe tbody tr th {\n",
       "        vertical-align: top;\n",
       "    }\n",
       "\n",
       "    .dataframe thead th {\n",
       "        text-align: right;\n",
       "    }\n",
       "</style>\n",
       "<table border=\"1\" class=\"dataframe\">\n",
       "  <thead>\n",
       "    <tr style=\"text-align: right;\">\n",
       "      <th></th>\n",
       "      <th>time</th>\n",
       "      <th>speed</th>\n",
       "      <th>Pause time</th>\n",
       "    </tr>\n",
       "  </thead>\n",
       "  <tbody>\n",
       "    <tr>\n",
       "      <th>278</th>\n",
       "      <td>15.893618822097778</td>\n",
       "      <td>0.000000</td>\n",
       "      <td>10.438841</td>\n",
       "    </tr>\n",
       "    <tr>\n",
       "      <th>279</th>\n",
       "      <td>15.927810907363892</td>\n",
       "      <td>0.000000</td>\n",
       "      <td>10.438841</td>\n",
       "    </tr>\n",
       "    <tr>\n",
       "      <th>280</th>\n",
       "      <td>15.960583925247192</td>\n",
       "      <td>0.000000</td>\n",
       "      <td>10.438841</td>\n",
       "    </tr>\n",
       "    <tr>\n",
       "      <th>281</th>\n",
       "      <td>16.009933948516846</td>\n",
       "      <td>0.000000</td>\n",
       "      <td>10.438841</td>\n",
       "    </tr>\n",
       "    <tr>\n",
       "      <th>282</th>\n",
       "      <td>Pause time</td>\n",
       "      <td>10.438841</td>\n",
       "      <td>10.438841</td>\n",
       "    </tr>\n",
       "  </tbody>\n",
       "</table>\n",
       "</div>"
      ],
      "text/plain": [
       "                   time      speed  Pause time\n",
       "278  15.893618822097778   0.000000   10.438841\n",
       "279  15.927810907363892   0.000000   10.438841\n",
       "280  15.960583925247192   0.000000   10.438841\n",
       "281  16.009933948516846   0.000000   10.438841\n",
       "282          Pause time  10.438841   10.438841"
      ]
     },
     "execution_count": 145,
     "metadata": {},
     "output_type": "execute_result"
    }
   ],
   "source": [
    "df.tail()"
   ]
  },
  {
   "cell_type": "markdown",
   "id": "237c5c93",
   "metadata": {},
   "source": [
    "The value is repeated for every row but that is not a problem. Now we can drop the las row."
   ]
  },
  {
   "cell_type": "code",
   "execution_count": 146,
   "id": "6529069f",
   "metadata": {},
   "outputs": [
    {
     "data": {
      "text/html": [
       "<div>\n",
       "<style scoped>\n",
       "    .dataframe tbody tr th:only-of-type {\n",
       "        vertical-align: middle;\n",
       "    }\n",
       "\n",
       "    .dataframe tbody tr th {\n",
       "        vertical-align: top;\n",
       "    }\n",
       "\n",
       "    .dataframe thead th {\n",
       "        text-align: right;\n",
       "    }\n",
       "</style>\n",
       "<table border=\"1\" class=\"dataframe\">\n",
       "  <thead>\n",
       "    <tr style=\"text-align: right;\">\n",
       "      <th></th>\n",
       "      <th>time</th>\n",
       "      <th>speed</th>\n",
       "      <th>Pause time</th>\n",
       "    </tr>\n",
       "  </thead>\n",
       "  <tbody>\n",
       "    <tr>\n",
       "      <th>277</th>\n",
       "      <td>15.860317945480347</td>\n",
       "      <td>0.0</td>\n",
       "      <td>10.438841</td>\n",
       "    </tr>\n",
       "    <tr>\n",
       "      <th>278</th>\n",
       "      <td>15.893618822097778</td>\n",
       "      <td>0.0</td>\n",
       "      <td>10.438841</td>\n",
       "    </tr>\n",
       "    <tr>\n",
       "      <th>279</th>\n",
       "      <td>15.927810907363892</td>\n",
       "      <td>0.0</td>\n",
       "      <td>10.438841</td>\n",
       "    </tr>\n",
       "    <tr>\n",
       "      <th>280</th>\n",
       "      <td>15.960583925247192</td>\n",
       "      <td>0.0</td>\n",
       "      <td>10.438841</td>\n",
       "    </tr>\n",
       "    <tr>\n",
       "      <th>281</th>\n",
       "      <td>16.009933948516846</td>\n",
       "      <td>0.0</td>\n",
       "      <td>10.438841</td>\n",
       "    </tr>\n",
       "  </tbody>\n",
       "</table>\n",
       "</div>"
      ],
      "text/plain": [
       "                   time  speed  Pause time\n",
       "277  15.860317945480347    0.0   10.438841\n",
       "278  15.893618822097778    0.0   10.438841\n",
       "279  15.927810907363892    0.0   10.438841\n",
       "280  15.960583925247192    0.0   10.438841\n",
       "281  16.009933948516846    0.0   10.438841"
      ]
     },
     "execution_count": 146,
     "metadata": {},
     "output_type": "execute_result"
    }
   ],
   "source": [
    "df = df.drop(labels=shape[0]-1, axis=0)\n",
    "df.tail()"
   ]
  },
  {
   "cell_type": "markdown",
   "id": "d2215cae",
   "metadata": {},
   "source": [
    "After getting rid of the string, we can convert the data type to float"
   ]
  },
  {
   "cell_type": "code",
   "execution_count": 147,
   "id": "c11c3bcc",
   "metadata": {},
   "outputs": [
    {
     "data": {
      "text/plain": [
       "time          float64\n",
       "speed         float64\n",
       "Pause time    float64\n",
       "dtype: object"
      ]
     },
     "execution_count": 147,
     "metadata": {},
     "output_type": "execute_result"
    }
   ],
   "source": [
    "df['time'] = df['time'].astype(float)\n",
    "df.dtypes"
   ]
  },
  {
   "cell_type": "markdown",
   "id": "2a3604c7",
   "metadata": {},
   "source": [
    "Obtain a df with robot speed = 0 when t > tpause. First element will show the time at which the robot stopped."
   ]
  },
  {
   "cell_type": "code",
   "execution_count": 148,
   "id": "745489d2",
   "metadata": {},
   "outputs": [
    {
     "data": {
      "text/plain": [
       "11.438024997711182"
      ]
     },
     "execution_count": 148,
     "metadata": {},
     "output_type": "execute_result"
    }
   ],
   "source": [
    "dfVelocities = df[(df.speed==0) & (df.time>pauseTime)]\n",
    "dfVelocities.head()\n",
    "\n",
    "stopTime = dfVelocities.iloc[0,0]\n",
    "stopTime"
   ]
  },
  {
   "cell_type": "code",
   "execution_count": 149,
   "id": "90f5b1bc",
   "metadata": {},
   "outputs": [
    {
     "data": {
      "text/plain": [
       "array([0.97881389, 1.01134682, 0.94187403, 0.95869207, 0.89008188,\n",
       "       0.83323503, 0.97648597, 0.99918413])"
      ]
     },
     "execution_count": 149,
     "metadata": {},
     "output_type": "execute_result"
    }
   ],
   "source": [
    "delay = stopTime-pauseTime\n",
    "delayArray = np.append(delayArray, delay)\n",
    "delayArray"
   ]
  },
  {
   "cell_type": "markdown",
   "id": "89845a41",
   "metadata": {},
   "source": [
    "<b> Delay (in seconds) for data1 is: <b>"
   ]
  },
  {
   "cell_type": "code",
   "execution_count": 150,
   "id": "70d3d927",
   "metadata": {},
   "outputs": [
    {
     "data": {
      "text/plain": [
       "0.9991841316223145"
      ]
     },
     "execution_count": 150,
     "metadata": {},
     "output_type": "execute_result"
    }
   ],
   "source": [
    "delay"
   ]
  },
  {
   "cell_type": "markdown",
   "id": "b7e0bfce",
   "metadata": {},
   "source": [
    "## Plot the evolution of speed for data8"
   ]
  },
  {
   "cell_type": "code",
   "execution_count": 151,
   "id": "9543819c",
   "metadata": {
    "scrolled": true
   },
   "outputs": [
    {
     "data": {
      "image/png": "[encoded data removed]",
      "text/plain": [
       "<Figure size 432x288 with 1 Axes>"
      ]
     },
     "metadata": {
      "needs_background": "light"
     },
     "output_type": "display_data"
    }
   ],
   "source": [
    "plt.figure()\n",
    "plt.title(\"Speed evolution of data8\")\n",
    "plt.xlabel(\"Time [s]\")\n",
    "plt.ylabel(\"Speed [m/s]\")\n",
    "plt.grid(\"True\")\n",
    "plt.plot (df.time, df.speed, label = \"Robot speed\")\n",
    "plt.vlines(x = pauseTime, color = \"r\", ymin = 0, ymax = 1, label = \"Stop order sent\")\n",
    "plt.vlines(x = stopTime, color = \"m\", ymin = 0, ymax = 1, label = \"Robot Stopped\")\n",
    "plt.legend()\n",
    "plt.show()"
   ]
  },
  {
   "cell_type": "code",
   "execution_count": 152,
   "id": "8123c299",
   "metadata": {
    "scrolled": false
   },
   "outputs": [
    {
     "data": {
      "image/png": "[encoded data removed]",
      "text/plain": [
       "<Figure size 432x288 with 1 Axes>"
      ]
     },
     "metadata": {
      "needs_background": "light"
     },
     "output_type": "display_data"
    }
   ],
   "source": [
    "plt.figure()\n",
    "plt.title(\"Speed evolution of data8\")\n",
    "plt.xlabel(\"Time [s]\")\n",
    "plt.ylabel(\"Speed [m/s]\")\n",
    "plt.grid(\"True\")\n",
    "plt.xlim(10, 14)\n",
    "plt.plot (df.time, df.speed, label = \"Robot speed\")\n",
    "plt.vlines(x = pauseTime, color = \"r\", ymin = 0, ymax = 1, label = \"Stop order sent\")\n",
    "plt.vlines(x = stopTime, color = \"m\", ymin = 0, ymax = 1, label = \"Robot Stopped\")\n",
    "plt.legend()\n",
    "plt.show()"
   ]
  },
  {
   "cell_type": "code",
   "execution_count": 153,
   "id": "b73a803b",
   "metadata": {
    "scrolled": true
   },
   "outputs": [
    {
     "data": {
      "text/html": [
       "<div>\n",
       "<style scoped>\n",
       "    .dataframe tbody tr th:only-of-type {\n",
       "        vertical-align: middle;\n",
       "    }\n",
       "\n",
       "    .dataframe tbody tr th {\n",
       "        vertical-align: top;\n",
       "    }\n",
       "\n",
       "    .dataframe thead th {\n",
       "        text-align: right;\n",
       "    }\n",
       "</style>\n",
       "<table border=\"1\" class=\"dataframe\">\n",
       "  <thead>\n",
       "    <tr style=\"text-align: right;\">\n",
       "      <th></th>\n",
       "      <th>time</th>\n",
       "      <th>speed</th>\n",
       "      <th>Pause time</th>\n",
       "    </tr>\n",
       "  </thead>\n",
       "  <tbody>\n",
       "    <tr>\n",
       "      <th>142</th>\n",
       "      <td>10.466920</td>\n",
       "      <td>0.795860</td>\n",
       "      <td>10.438841</td>\n",
       "    </tr>\n",
       "    <tr>\n",
       "      <th>143</th>\n",
       "      <td>10.533938</td>\n",
       "      <td>0.789631</td>\n",
       "      <td>10.438841</td>\n",
       "    </tr>\n",
       "    <tr>\n",
       "      <th>144</th>\n",
       "      <td>10.571413</td>\n",
       "      <td>0.787475</td>\n",
       "      <td>10.438841</td>\n",
       "    </tr>\n",
       "    <tr>\n",
       "      <th>145</th>\n",
       "      <td>10.615613</td>\n",
       "      <td>0.754134</td>\n",
       "      <td>10.438841</td>\n",
       "    </tr>\n",
       "    <tr>\n",
       "      <th>146</th>\n",
       "      <td>10.651595</td>\n",
       "      <td>0.719158</td>\n",
       "      <td>10.438841</td>\n",
       "    </tr>\n",
       "  </tbody>\n",
       "</table>\n",
       "</div>"
      ],
      "text/plain": [
       "          time     speed  Pause time\n",
       "142  10.466920  0.795860   10.438841\n",
       "143  10.533938  0.789631   10.438841\n",
       "144  10.571413  0.787475   10.438841\n",
       "145  10.615613  0.754134   10.438841\n",
       "146  10.651595  0.719158   10.438841"
      ]
     },
     "execution_count": 153,
     "metadata": {},
     "output_type": "execute_result"
    }
   ],
   "source": [
    "dfSpeedAtpauseTime = df[(df.time >= pauseTime)]\n",
    "dfSpeedAtpauseTime.head()"
   ]
  },
  {
   "cell_type": "markdown",
   "id": "0779aba1",
   "metadata": {},
   "source": [
    "By locking the speed of the first row, we can obtain the closest velocity measurement to the pauseTime velocity"
   ]
  },
  {
   "cell_type": "code",
   "execution_count": 154,
   "id": "558a0b81",
   "metadata": {},
   "outputs": [
    {
     "data": {
      "text/plain": [
       "0.7958603501319885"
      ]
     },
     "execution_count": 154,
     "metadata": {},
     "output_type": "execute_result"
    }
   ],
   "source": [
    "speedAtPauseTime = dfSpeedAtpauseTime.iloc[0, 1]\n",
    "speedAtPauseTime"
   ]
  },
  {
   "cell_type": "code",
   "execution_count": 155,
   "id": "52f77c56",
   "metadata": {},
   "outputs": [],
   "source": [
    "dfLatency = df[(df.speed <= speedAtPauseTime*0.99) & (df.time>pauseTime)]"
   ]
  },
  {
   "cell_type": "code",
   "execution_count": 156,
   "id": "c2f182a2",
   "metadata": {},
   "outputs": [
    {
     "data": {
      "text/html": [
       "<div>\n",
       "<style scoped>\n",
       "    .dataframe tbody tr th:only-of-type {\n",
       "        vertical-align: middle;\n",
       "    }\n",
       "\n",
       "    .dataframe tbody tr th {\n",
       "        vertical-align: top;\n",
       "    }\n",
       "\n",
       "    .dataframe thead th {\n",
       "        text-align: right;\n",
       "    }\n",
       "</style>\n",
       "<table border=\"1\" class=\"dataframe\">\n",
       "  <thead>\n",
       "    <tr style=\"text-align: right;\">\n",
       "      <th></th>\n",
       "      <th>time</th>\n",
       "      <th>speed</th>\n",
       "      <th>Pause time</th>\n",
       "    </tr>\n",
       "  </thead>\n",
       "  <tbody>\n",
       "    <tr>\n",
       "      <th>144</th>\n",
       "      <td>10.571413</td>\n",
       "      <td>0.787475</td>\n",
       "      <td>10.438841</td>\n",
       "    </tr>\n",
       "    <tr>\n",
       "      <th>145</th>\n",
       "      <td>10.615613</td>\n",
       "      <td>0.754134</td>\n",
       "      <td>10.438841</td>\n",
       "    </tr>\n",
       "    <tr>\n",
       "      <th>146</th>\n",
       "      <td>10.651595</td>\n",
       "      <td>0.719158</td>\n",
       "      <td>10.438841</td>\n",
       "    </tr>\n",
       "    <tr>\n",
       "      <th>147</th>\n",
       "      <td>10.681133</td>\n",
       "      <td>0.692574</td>\n",
       "      <td>10.438841</td>\n",
       "    </tr>\n",
       "    <tr>\n",
       "      <th>148</th>\n",
       "      <td>10.711887</td>\n",
       "      <td>0.628154</td>\n",
       "      <td>10.438841</td>\n",
       "    </tr>\n",
       "  </tbody>\n",
       "</table>\n",
       "</div>"
      ],
      "text/plain": [
       "          time     speed  Pause time\n",
       "144  10.571413  0.787475   10.438841\n",
       "145  10.615613  0.754134   10.438841\n",
       "146  10.651595  0.719158   10.438841\n",
       "147  10.681133  0.692574   10.438841\n",
       "148  10.711887  0.628154   10.438841"
      ]
     },
     "execution_count": 156,
     "metadata": {},
     "output_type": "execute_result"
    }
   ],
   "source": [
    "dfLatency.head()"
   ]
  },
  {
   "cell_type": "code",
   "execution_count": 157,
   "id": "3bc22a42",
   "metadata": {},
   "outputs": [],
   "source": [
    "responseTime = dfLatency.iloc[0, 0]"
   ]
  },
  {
   "cell_type": "code",
   "execution_count": 158,
   "id": "eafc2d0c",
   "metadata": {},
   "outputs": [],
   "source": [
    "latency = responseTime-pauseTime\n",
    "latency\n",
    "latencyArray = np.append(latencyArray, latency)"
   ]
  },
  {
   "cell_type": "code",
   "execution_count": 159,
   "id": "dcecf226",
   "metadata": {},
   "outputs": [
    {
     "data": {
      "text/plain": [
       "0.13257217407226562"
      ]
     },
     "execution_count": 159,
     "metadata": {},
     "output_type": "execute_result"
    }
   ],
   "source": [
    "latency"
   ]
  },
  {
   "cell_type": "markdown",
   "id": "e46e9081",
   "metadata": {},
   "source": [
    "## Calculate delay for data9"
   ]
  },
  {
   "cell_type": "code",
   "execution_count": 160,
   "id": "d450924a",
   "metadata": {},
   "outputs": [],
   "source": [
    "df = pd.read_csv (r'C:\\Maila_4\\Project\\DeelayExperimentFiles\\data9.csv')"
   ]
  },
  {
   "cell_type": "markdown",
   "id": "496ec199",
   "metadata": {},
   "source": [
    "Change data type from object to float"
   ]
  },
  {
   "cell_type": "markdown",
   "id": "f9cb2b51",
   "metadata": {},
   "source": [
    "We neeed to get rid of \"Pause time\". A new column with Pause time value will be created. Take into account that the value is stored in the last position of our data frame."
   ]
  },
  {
   "cell_type": "code",
   "execution_count": 161,
   "id": "1c3ac3e4",
   "metadata": {},
   "outputs": [],
   "source": [
    "shape = df.shape"
   ]
  },
  {
   "cell_type": "code",
   "execution_count": 162,
   "id": "2b823d6e",
   "metadata": {},
   "outputs": [
    {
     "data": {
      "text/plain": [
       "10.418787002563477"
      ]
     },
     "execution_count": 162,
     "metadata": {},
     "output_type": "execute_result"
    }
   ],
   "source": [
    "pauseTime = df.iloc[shape[0]-1, shape[1]-1] #Pause time locked\n",
    "pauseTime"
   ]
  },
  {
   "cell_type": "code",
   "execution_count": 163,
   "id": "04fbc5de",
   "metadata": {},
   "outputs": [],
   "source": [
    "df[\"Pause time\"] = pauseTime"
   ]
  },
  {
   "cell_type": "code",
   "execution_count": 164,
   "id": "3117f502",
   "metadata": {},
   "outputs": [
    {
     "data": {
      "text/html": [
       "<div>\n",
       "<style scoped>\n",
       "    .dataframe tbody tr th:only-of-type {\n",
       "        vertical-align: middle;\n",
       "    }\n",
       "\n",
       "    .dataframe tbody tr th {\n",
       "        vertical-align: top;\n",
       "    }\n",
       "\n",
       "    .dataframe thead th {\n",
       "        text-align: right;\n",
       "    }\n",
       "</style>\n",
       "<table border=\"1\" class=\"dataframe\">\n",
       "  <thead>\n",
       "    <tr style=\"text-align: right;\">\n",
       "      <th></th>\n",
       "      <th>time</th>\n",
       "      <th>speed</th>\n",
       "      <th>Pause time</th>\n",
       "    </tr>\n",
       "  </thead>\n",
       "  <tbody>\n",
       "    <tr>\n",
       "      <th>244</th>\n",
       "      <td>15.871170043945312</td>\n",
       "      <td>0.000000</td>\n",
       "      <td>10.418787</td>\n",
       "    </tr>\n",
       "    <tr>\n",
       "      <th>245</th>\n",
       "      <td>15.928185939788818</td>\n",
       "      <td>0.000000</td>\n",
       "      <td>10.418787</td>\n",
       "    </tr>\n",
       "    <tr>\n",
       "      <th>246</th>\n",
       "      <td>15.976769924163818</td>\n",
       "      <td>0.000000</td>\n",
       "      <td>10.418787</td>\n",
       "    </tr>\n",
       "    <tr>\n",
       "      <th>247</th>\n",
       "      <td>16.018687963485718</td>\n",
       "      <td>0.000000</td>\n",
       "      <td>10.418787</td>\n",
       "    </tr>\n",
       "    <tr>\n",
       "      <th>248</th>\n",
       "      <td>Pause time</td>\n",
       "      <td>10.418787</td>\n",
       "      <td>10.418787</td>\n",
       "    </tr>\n",
       "  </tbody>\n",
       "</table>\n",
       "</div>"
      ],
      "text/plain": [
       "                   time      speed  Pause time\n",
       "244  15.871170043945312   0.000000   10.418787\n",
       "245  15.928185939788818   0.000000   10.418787\n",
       "246  15.976769924163818   0.000000   10.418787\n",
       "247  16.018687963485718   0.000000   10.418787\n",
       "248          Pause time  10.418787   10.418787"
      ]
     },
     "execution_count": 164,
     "metadata": {},
     "output_type": "execute_result"
    }
   ],
   "source": [
    "df.tail()"
   ]
  },
  {
   "cell_type": "markdown",
   "id": "f0407141",
   "metadata": {},
   "source": [
    "The value is repeated for every row but that is not a problem. Now we can drop the las row."
   ]
  },
  {
   "cell_type": "code",
   "execution_count": 165,
   "id": "cf4a2663",
   "metadata": {},
   "outputs": [
    {
     "data": {
      "text/html": [
       "<div>\n",
       "<style scoped>\n",
       "    .dataframe tbody tr th:only-of-type {\n",
       "        vertical-align: middle;\n",
       "    }\n",
       "\n",
       "    .dataframe tbody tr th {\n",
       "        vertical-align: top;\n",
       "    }\n",
       "\n",
       "    .dataframe thead th {\n",
       "        text-align: right;\n",
       "    }\n",
       "</style>\n",
       "<table border=\"1\" class=\"dataframe\">\n",
       "  <thead>\n",
       "    <tr style=\"text-align: right;\">\n",
       "      <th></th>\n",
       "      <th>time</th>\n",
       "      <th>speed</th>\n",
       "      <th>Pause time</th>\n",
       "    </tr>\n",
       "  </thead>\n",
       "  <tbody>\n",
       "    <tr>\n",
       "      <th>243</th>\n",
       "      <td>15.812210083007812</td>\n",
       "      <td>0.0</td>\n",
       "      <td>10.418787</td>\n",
       "    </tr>\n",
       "    <tr>\n",
       "      <th>244</th>\n",
       "      <td>15.871170043945312</td>\n",
       "      <td>0.0</td>\n",
       "      <td>10.418787</td>\n",
       "    </tr>\n",
       "    <tr>\n",
       "      <th>245</th>\n",
       "      <td>15.928185939788818</td>\n",
       "      <td>0.0</td>\n",
       "      <td>10.418787</td>\n",
       "    </tr>\n",
       "    <tr>\n",
       "      <th>246</th>\n",
       "      <td>15.976769924163818</td>\n",
       "      <td>0.0</td>\n",
       "      <td>10.418787</td>\n",
       "    </tr>\n",
       "    <tr>\n",
       "      <th>247</th>\n",
       "      <td>16.018687963485718</td>\n",
       "      <td>0.0</td>\n",
       "      <td>10.418787</td>\n",
       "    </tr>\n",
       "  </tbody>\n",
       "</table>\n",
       "</div>"
      ],
      "text/plain": [
       "                   time  speed  Pause time\n",
       "243  15.812210083007812    0.0   10.418787\n",
       "244  15.871170043945312    0.0   10.418787\n",
       "245  15.928185939788818    0.0   10.418787\n",
       "246  15.976769924163818    0.0   10.418787\n",
       "247  16.018687963485718    0.0   10.418787"
      ]
     },
     "execution_count": 165,
     "metadata": {},
     "output_type": "execute_result"
    }
   ],
   "source": [
    "df = df.drop(labels=shape[0]-1, axis=0)\n",
    "df.tail()"
   ]
  },
  {
   "cell_type": "markdown",
   "id": "b3ea7a2d",
   "metadata": {},
   "source": [
    "After getting rid of the string, we can convert the data type to float"
   ]
  },
  {
   "cell_type": "code",
   "execution_count": 166,
   "id": "7d780d2b",
   "metadata": {},
   "outputs": [
    {
     "data": {
      "text/plain": [
       "time          float64\n",
       "speed         float64\n",
       "Pause time    float64\n",
       "dtype: object"
      ]
     },
     "execution_count": 166,
     "metadata": {},
     "output_type": "execute_result"
    }
   ],
   "source": [
    "df['time'] = df['time'].astype(float)\n",
    "df.dtypes"
   ]
  },
  {
   "cell_type": "markdown",
   "id": "7146a3f7",
   "metadata": {},
   "source": [
    "Obtain a df with robot speed = 0 when t > tpause. First element will show the time at which the robot stopped."
   ]
  },
  {
   "cell_type": "code",
   "execution_count": 167,
   "id": "c1e8b5ea",
   "metadata": {},
   "outputs": [
    {
     "data": {
      "text/plain": [
       "11.243854999542236"
      ]
     },
     "execution_count": 167,
     "metadata": {},
     "output_type": "execute_result"
    }
   ],
   "source": [
    "dfVelocities = df[(df.speed==0) & (df.time>pauseTime)]\n",
    "dfVelocities.head()\n",
    "\n",
    "stopTime = dfVelocities.iloc[0,0]\n",
    "stopTime"
   ]
  },
  {
   "cell_type": "code",
   "execution_count": 168,
   "id": "f3db1ff4",
   "metadata": {},
   "outputs": [
    {
     "data": {
      "text/plain": [
       "array([0.97881389, 1.01134682, 0.94187403, 0.95869207, 0.89008188,\n",
       "       0.83323503, 0.97648597, 0.99918413, 0.825068  ])"
      ]
     },
     "execution_count": 168,
     "metadata": {},
     "output_type": "execute_result"
    }
   ],
   "source": [
    "delay = stopTime-pauseTime\n",
    "delayArray = np.append(delayArray, delay)\n",
    "delayArray"
   ]
  },
  {
   "cell_type": "markdown",
   "id": "b8b33fec",
   "metadata": {},
   "source": [
    "<b> Delay (in seconds) for data1 is: <b>"
   ]
  },
  {
   "cell_type": "code",
   "execution_count": 169,
   "id": "d058e0fc",
   "metadata": {},
   "outputs": [
    {
     "data": {
      "text/plain": [
       "0.8250679969787598"
      ]
     },
     "execution_count": 169,
     "metadata": {},
     "output_type": "execute_result"
    }
   ],
   "source": [
    "delay"
   ]
  },
  {
   "cell_type": "markdown",
   "id": "b34105cc",
   "metadata": {},
   "source": [
    "## Plot the evolution of speed for data9"
   ]
  },
  {
   "cell_type": "code",
   "execution_count": 170,
   "id": "6031b52a",
   "metadata": {
    "scrolled": true
   },
   "outputs": [
    {
     "data": {
      "image/png": "[encoded data removed]",
      "text/plain": [
       "<Figure size 432x288 with 1 Axes>"
      ]
     },
     "metadata": {
      "needs_background": "light"
     },
     "output_type": "display_data"
    }
   ],
   "source": [
    "plt.figure()\n",
    "plt.title(\"Speed evolution of data9\")\n",
    "plt.xlabel(\"Time [s]\")\n",
    "plt.ylabel(\"Speed [m/s]\")\n",
    "plt.grid(\"True\")\n",
    "plt.plot (df.time, df.speed, label = \"Robot speed\")\n",
    "plt.vlines(x = pauseTime, color = \"r\", ymin = 0, ymax = 1, label = \"Stop order sent\")\n",
    "plt.vlines(x = stopTime, color = \"m\", ymin = 0, ymax = 1, label = \"Robot Stopped\")\n",
    "plt.legend()\n",
    "plt.show()"
   ]
  },
  {
   "cell_type": "code",
   "execution_count": 171,
   "id": "54b56902",
   "metadata": {
    "scrolled": false
   },
   "outputs": [
    {
     "data": {
      "image/png": "[encoded data removed]",
      "text/plain": [
       "<Figure size 432x288 with 1 Axes>"
      ]
     },
     "metadata": {
      "needs_background": "light"
     },
     "output_type": "display_data"
    }
   ],
   "source": [
    "plt.figure()\n",
    "plt.title(\"Speed evolution of data9\")\n",
    "plt.xlabel(\"Time [s]\")\n",
    "plt.ylabel(\"Speed [m/s]\")\n",
    "plt.grid(\"True\")\n",
    "plt.xlim(10, 14)\n",
    "plt.plot (df.time, df.speed, label = \"Robot speed\")\n",
    "plt.vlines(x = pauseTime, color = \"r\", ymin = 0, ymax = 1, label = \"Stop order sent\")\n",
    "plt.vlines(x = stopTime, color = \"m\", ymin = 0, ymax = 1, label = \"Robot Stopped\")\n",
    "plt.legend()\n",
    "plt.show()"
   ]
  },
  {
   "cell_type": "code",
   "execution_count": 172,
   "id": "4cec1b8f",
   "metadata": {
    "scrolled": true
   },
   "outputs": [
    {
     "data": {
      "text/html": [
       "<div>\n",
       "<style scoped>\n",
       "    .dataframe tbody tr th:only-of-type {\n",
       "        vertical-align: middle;\n",
       "    }\n",
       "\n",
       "    .dataframe tbody tr th {\n",
       "        vertical-align: top;\n",
       "    }\n",
       "\n",
       "    .dataframe thead th {\n",
       "        text-align: right;\n",
       "    }\n",
       "</style>\n",
       "<table border=\"1\" class=\"dataframe\">\n",
       "  <thead>\n",
       "    <tr style=\"text-align: right;\">\n",
       "      <th></th>\n",
       "      <th>time</th>\n",
       "      <th>speed</th>\n",
       "      <th>Pause time</th>\n",
       "    </tr>\n",
       "  </thead>\n",
       "  <tbody>\n",
       "    <tr>\n",
       "      <th>129</th>\n",
       "      <td>10.427179</td>\n",
       "      <td>0.781731</td>\n",
       "      <td>10.418787</td>\n",
       "    </tr>\n",
       "    <tr>\n",
       "      <th>130</th>\n",
       "      <td>10.493834</td>\n",
       "      <td>0.795086</td>\n",
       "      <td>10.418787</td>\n",
       "    </tr>\n",
       "    <tr>\n",
       "      <th>131</th>\n",
       "      <td>10.542300</td>\n",
       "      <td>0.802925</td>\n",
       "      <td>10.418787</td>\n",
       "    </tr>\n",
       "    <tr>\n",
       "      <th>132</th>\n",
       "      <td>10.591009</td>\n",
       "      <td>0.750023</td>\n",
       "      <td>10.418787</td>\n",
       "    </tr>\n",
       "    <tr>\n",
       "      <th>133</th>\n",
       "      <td>10.675280</td>\n",
       "      <td>0.694493</td>\n",
       "      <td>10.418787</td>\n",
       "    </tr>\n",
       "  </tbody>\n",
       "</table>\n",
       "</div>"
      ],
      "text/plain": [
       "          time     speed  Pause time\n",
       "129  10.427179  0.781731   10.418787\n",
       "130  10.493834  0.795086   10.418787\n",
       "131  10.542300  0.802925   10.418787\n",
       "132  10.591009  0.750023   10.418787\n",
       "133  10.675280  0.694493   10.418787"
      ]
     },
     "execution_count": 172,
     "metadata": {},
     "output_type": "execute_result"
    }
   ],
   "source": [
    "dfSpeedAtpauseTime = df[(df.time >= pauseTime)]\n",
    "dfSpeedAtpauseTime.head()"
   ]
  },
  {
   "cell_type": "markdown",
   "id": "c3a05070",
   "metadata": {},
   "source": [
    "By locking the speed of the first row, we can obtain the closest velocity measurement to the pauseTime velocity"
   ]
  },
  {
   "cell_type": "code",
   "execution_count": 173,
   "id": "4aedd761",
   "metadata": {},
   "outputs": [
    {
     "data": {
      "text/plain": [
       "0.7817308306694031"
      ]
     },
     "execution_count": 173,
     "metadata": {},
     "output_type": "execute_result"
    }
   ],
   "source": [
    "speedAtPauseTime = dfSpeedAtpauseTime.iloc[0, 1]\n",
    "speedAtPauseTime"
   ]
  },
  {
   "cell_type": "code",
   "execution_count": 174,
   "id": "40933191",
   "metadata": {},
   "outputs": [],
   "source": [
    "dfLatency = df[(df.speed <= speedAtPauseTime*0.99) & (df.time>pauseTime)]"
   ]
  },
  {
   "cell_type": "code",
   "execution_count": 175,
   "id": "4ed080a6",
   "metadata": {},
   "outputs": [
    {
     "data": {
      "text/html": [
       "<div>\n",
       "<style scoped>\n",
       "    .dataframe tbody tr th:only-of-type {\n",
       "        vertical-align: middle;\n",
       "    }\n",
       "\n",
       "    .dataframe tbody tr th {\n",
       "        vertical-align: top;\n",
       "    }\n",
       "\n",
       "    .dataframe thead th {\n",
       "        text-align: right;\n",
       "    }\n",
       "</style>\n",
       "<table border=\"1\" class=\"dataframe\">\n",
       "  <thead>\n",
       "    <tr style=\"text-align: right;\">\n",
       "      <th></th>\n",
       "      <th>time</th>\n",
       "      <th>speed</th>\n",
       "      <th>Pause time</th>\n",
       "    </tr>\n",
       "  </thead>\n",
       "  <tbody>\n",
       "    <tr>\n",
       "      <th>132</th>\n",
       "      <td>10.591009</td>\n",
       "      <td>0.750023</td>\n",
       "      <td>10.418787</td>\n",
       "    </tr>\n",
       "    <tr>\n",
       "      <th>133</th>\n",
       "      <td>10.675280</td>\n",
       "      <td>0.694493</td>\n",
       "      <td>10.418787</td>\n",
       "    </tr>\n",
       "    <tr>\n",
       "      <th>134</th>\n",
       "      <td>10.715636</td>\n",
       "      <td>0.675281</td>\n",
       "      <td>10.418787</td>\n",
       "    </tr>\n",
       "    <tr>\n",
       "      <th>135</th>\n",
       "      <td>10.747555</td>\n",
       "      <td>0.604389</td>\n",
       "      <td>10.418787</td>\n",
       "    </tr>\n",
       "    <tr>\n",
       "      <th>136</th>\n",
       "      <td>10.787541</td>\n",
       "      <td>0.524824</td>\n",
       "      <td>10.418787</td>\n",
       "    </tr>\n",
       "  </tbody>\n",
       "</table>\n",
       "</div>"
      ],
      "text/plain": [
       "          time     speed  Pause time\n",
       "132  10.591009  0.750023   10.418787\n",
       "133  10.675280  0.694493   10.418787\n",
       "134  10.715636  0.675281   10.418787\n",
       "135  10.747555  0.604389   10.418787\n",
       "136  10.787541  0.524824   10.418787"
      ]
     },
     "execution_count": 175,
     "metadata": {},
     "output_type": "execute_result"
    }
   ],
   "source": [
    "dfLatency.head()"
   ]
  },
  {
   "cell_type": "code",
   "execution_count": 176,
   "id": "378fe8be",
   "metadata": {},
   "outputs": [],
   "source": [
    "responseTime = dfLatency.iloc[0, 0]"
   ]
  },
  {
   "cell_type": "code",
   "execution_count": 177,
   "id": "6f6861e2",
   "metadata": {},
   "outputs": [],
   "source": [
    "latency = responseTime-pauseTime\n",
    "latency\n",
    "latencyArray = np.append(latencyArray, latency)"
   ]
  },
  {
   "cell_type": "code",
   "execution_count": 178,
   "id": "65df65b1",
   "metadata": {},
   "outputs": [
    {
     "data": {
      "text/plain": [
       "0.17222189903259277"
      ]
     },
     "execution_count": 178,
     "metadata": {},
     "output_type": "execute_result"
    }
   ],
   "source": [
    "latency"
   ]
  },
  {
   "cell_type": "markdown",
   "id": "b7dab4bc",
   "metadata": {},
   "source": [
    "## Calculate delay for data10"
   ]
  },
  {
   "cell_type": "code",
   "execution_count": 179,
   "id": "8f1e151f",
   "metadata": {},
   "outputs": [],
   "source": [
    "df = pd.read_csv (r'C:\\Maila_4\\Project\\DeelayExperimentFiles\\data10.csv')"
   ]
  },
  {
   "cell_type": "markdown",
   "id": "88c93a28",
   "metadata": {},
   "source": [
    "Change data type from object to float"
   ]
  },
  {
   "cell_type": "markdown",
   "id": "344aeaab",
   "metadata": {},
   "source": [
    "We neeed to get rid of \"Pause time\". A new column with Pause time value will be created. Take into account that the value is stored in the last position of our data frame."
   ]
  },
  {
   "cell_type": "code",
   "execution_count": 180,
   "id": "4caa7341",
   "metadata": {},
   "outputs": [],
   "source": [
    "shape = df.shape"
   ]
  },
  {
   "cell_type": "code",
   "execution_count": 181,
   "id": "6bb737b3",
   "metadata": {},
   "outputs": [
    {
     "data": {
      "text/plain": [
       "10.430126190185549"
      ]
     },
     "execution_count": 181,
     "metadata": {},
     "output_type": "execute_result"
    }
   ],
   "source": [
    "pauseTime = df.iloc[shape[0]-1, shape[1]-1] #Pause time locked\n",
    "pauseTime"
   ]
  },
  {
   "cell_type": "code",
   "execution_count": 182,
   "id": "575bb897",
   "metadata": {},
   "outputs": [],
   "source": [
    "df[\"Pause time\"] = pauseTime"
   ]
  },
  {
   "cell_type": "code",
   "execution_count": 183,
   "id": "40f5efaf",
   "metadata": {},
   "outputs": [
    {
     "data": {
      "text/html": [
       "<div>\n",
       "<style scoped>\n",
       "    .dataframe tbody tr th:only-of-type {\n",
       "        vertical-align: middle;\n",
       "    }\n",
       "\n",
       "    .dataframe tbody tr th {\n",
       "        vertical-align: top;\n",
       "    }\n",
       "\n",
       "    .dataframe thead th {\n",
       "        text-align: right;\n",
       "    }\n",
       "</style>\n",
       "<table border=\"1\" class=\"dataframe\">\n",
       "  <thead>\n",
       "    <tr style=\"text-align: right;\">\n",
       "      <th></th>\n",
       "      <th>time</th>\n",
       "      <th>speed</th>\n",
       "      <th>Pause time</th>\n",
       "    </tr>\n",
       "  </thead>\n",
       "  <tbody>\n",
       "    <tr>\n",
       "      <th>262</th>\n",
       "      <td>15.865492105484009</td>\n",
       "      <td>0.000000</td>\n",
       "      <td>10.430126</td>\n",
       "    </tr>\n",
       "    <tr>\n",
       "      <th>263</th>\n",
       "      <td>15.8991379737854</td>\n",
       "      <td>0.000000</td>\n",
       "      <td>10.430126</td>\n",
       "    </tr>\n",
       "    <tr>\n",
       "      <th>264</th>\n",
       "      <td>15.957111120223999</td>\n",
       "      <td>0.000000</td>\n",
       "      <td>10.430126</td>\n",
       "    </tr>\n",
       "    <tr>\n",
       "      <th>265</th>\n",
       "      <td>16.013167142868042</td>\n",
       "      <td>0.000000</td>\n",
       "      <td>10.430126</td>\n",
       "    </tr>\n",
       "    <tr>\n",
       "      <th>266</th>\n",
       "      <td>Pause time</td>\n",
       "      <td>10.430126</td>\n",
       "      <td>10.430126</td>\n",
       "    </tr>\n",
       "  </tbody>\n",
       "</table>\n",
       "</div>"
      ],
      "text/plain": [
       "                   time      speed  Pause time\n",
       "262  15.865492105484009   0.000000   10.430126\n",
       "263    15.8991379737854   0.000000   10.430126\n",
       "264  15.957111120223999   0.000000   10.430126\n",
       "265  16.013167142868042   0.000000   10.430126\n",
       "266          Pause time  10.430126   10.430126"
      ]
     },
     "execution_count": 183,
     "metadata": {},
     "output_type": "execute_result"
    }
   ],
   "source": [
    "df.tail()"
   ]
  },
  {
   "cell_type": "markdown",
   "id": "8d67ff89",
   "metadata": {},
   "source": [
    "The value is repeated for every row but that is not a problem. Now we can drop the las row."
   ]
  },
  {
   "cell_type": "code",
   "execution_count": 184,
   "id": "713b6b00",
   "metadata": {},
   "outputs": [
    {
     "data": {
      "text/html": [
       "<div>\n",
       "<style scoped>\n",
       "    .dataframe tbody tr th:only-of-type {\n",
       "        vertical-align: middle;\n",
       "    }\n",
       "\n",
       "    .dataframe tbody tr th {\n",
       "        vertical-align: top;\n",
       "    }\n",
       "\n",
       "    .dataframe thead th {\n",
       "        text-align: right;\n",
       "    }\n",
       "</style>\n",
       "<table border=\"1\" class=\"dataframe\">\n",
       "  <thead>\n",
       "    <tr style=\"text-align: right;\">\n",
       "      <th></th>\n",
       "      <th>time</th>\n",
       "      <th>speed</th>\n",
       "      <th>Pause time</th>\n",
       "    </tr>\n",
       "  </thead>\n",
       "  <tbody>\n",
       "    <tr>\n",
       "      <th>261</th>\n",
       "      <td>15.804022073745728</td>\n",
       "      <td>0.0</td>\n",
       "      <td>10.430126</td>\n",
       "    </tr>\n",
       "    <tr>\n",
       "      <th>262</th>\n",
       "      <td>15.865492105484009</td>\n",
       "      <td>0.0</td>\n",
       "      <td>10.430126</td>\n",
       "    </tr>\n",
       "    <tr>\n",
       "      <th>263</th>\n",
       "      <td>15.8991379737854</td>\n",
       "      <td>0.0</td>\n",
       "      <td>10.430126</td>\n",
       "    </tr>\n",
       "    <tr>\n",
       "      <th>264</th>\n",
       "      <td>15.957111120223999</td>\n",
       "      <td>0.0</td>\n",
       "      <td>10.430126</td>\n",
       "    </tr>\n",
       "    <tr>\n",
       "      <th>265</th>\n",
       "      <td>16.013167142868042</td>\n",
       "      <td>0.0</td>\n",
       "      <td>10.430126</td>\n",
       "    </tr>\n",
       "  </tbody>\n",
       "</table>\n",
       "</div>"
      ],
      "text/plain": [
       "                   time  speed  Pause time\n",
       "261  15.804022073745728    0.0   10.430126\n",
       "262  15.865492105484009    0.0   10.430126\n",
       "263    15.8991379737854    0.0   10.430126\n",
       "264  15.957111120223999    0.0   10.430126\n",
       "265  16.013167142868042    0.0   10.430126"
      ]
     },
     "execution_count": 184,
     "metadata": {},
     "output_type": "execute_result"
    }
   ],
   "source": [
    "df = df.drop(labels=shape[0]-1, axis=0)\n",
    "df.tail()"
   ]
  },
  {
   "cell_type": "markdown",
   "id": "167e39d1",
   "metadata": {},
   "source": [
    "After getting rid of the string, we can convert the data type to float"
   ]
  },
  {
   "cell_type": "code",
   "execution_count": 185,
   "id": "41370773",
   "metadata": {},
   "outputs": [
    {
     "data": {
      "text/plain": [
       "time          float64\n",
       "speed         float64\n",
       "Pause time    float64\n",
       "dtype: object"
      ]
     },
     "execution_count": 185,
     "metadata": {},
     "output_type": "execute_result"
    }
   ],
   "source": [
    "df['time'] = df['time'].astype(float)\n",
    "df.dtypes"
   ]
  },
  {
   "cell_type": "markdown",
   "id": "f5f8cf21",
   "metadata": {},
   "source": [
    "Obtain a df with robot speed = 0 when t > tpause. First element will show the time at which the robot stopped."
   ]
  },
  {
   "cell_type": "code",
   "execution_count": 186,
   "id": "61fbbe7d",
   "metadata": {},
   "outputs": [
    {
     "data": {
      "text/plain": [
       "11.25426697731018"
      ]
     },
     "execution_count": 186,
     "metadata": {},
     "output_type": "execute_result"
    }
   ],
   "source": [
    "dfVelocities = df[(df.speed==0) & (df.time>pauseTime)]\n",
    "dfVelocities.head()\n",
    "\n",
    "stopTime = dfVelocities.iloc[0,0]\n",
    "stopTime"
   ]
  },
  {
   "cell_type": "code",
   "execution_count": 187,
   "id": "f827c3e2",
   "metadata": {},
   "outputs": [
    {
     "data": {
      "text/plain": [
       "array([0.97881389, 1.01134682, 0.94187403, 0.95869207, 0.89008188,\n",
       "       0.83323503, 0.97648597, 0.99918413, 0.825068  , 0.82414079])"
      ]
     },
     "execution_count": 187,
     "metadata": {},
     "output_type": "execute_result"
    }
   ],
   "source": [
    "delay = stopTime-pauseTime\n",
    "delayArray = np.append(delayArray, delay)\n",
    "delayArray"
   ]
  },
  {
   "cell_type": "markdown",
   "id": "1dd636f5",
   "metadata": {},
   "source": [
    "<b> Delay (in seconds) for data1 is: <b>"
   ]
  },
  {
   "cell_type": "code",
   "execution_count": 188,
   "id": "91ac8a77",
   "metadata": {},
   "outputs": [
    {
     "data": {
      "text/plain": [
       "0.824140787124632"
      ]
     },
     "execution_count": 188,
     "metadata": {},
     "output_type": "execute_result"
    }
   ],
   "source": [
    "delay"
   ]
  },
  {
   "cell_type": "markdown",
   "id": "310f8d9a",
   "metadata": {},
   "source": [
    "## Plot the evolution of speed for data10"
   ]
  },
  {
   "cell_type": "code",
   "execution_count": 189,
   "id": "97ad1bed",
   "metadata": {
    "scrolled": true
   },
   "outputs": [
    {
     "data": {
      "image/png": "[encoded data removed]",
      "text/plain": [
       "<Figure size 432x288 with 1 Axes>"
      ]
     },
     "metadata": {
      "needs_background": "light"
     },
     "output_type": "display_data"
    }
   ],
   "source": [
    "plt.figure()\n",
    "plt.title(\"Speed evolution of data10\")\n",
    "plt.xlabel(\"Time [s]\")\n",
    "plt.ylabel(\"Speed [m/s]\")\n",
    "plt.grid(\"True\")\n",
    "plt.plot (df.time, df.speed, label = \"Robot speed\")\n",
    "plt.vlines(x = pauseTime, color = \"r\", ymin = 0, ymax = 1, label = \"Stop order sent\")\n",
    "plt.vlines(x = stopTime, color = \"m\", ymin = 0, ymax = 1, label = \"Robot Stopped\")\n",
    "plt.legend()\n",
    "plt.show()"
   ]
  },
  {
   "cell_type": "code",
   "execution_count": 190,
   "id": "912af67b",
   "metadata": {
    "scrolled": false
   },
   "outputs": [
    {
     "data": {
      "image/png": "[encoded data removed]",
      "text/plain": [
       "<Figure size 432x288 with 1 Axes>"
      ]
     },
     "metadata": {
      "needs_background": "light"
     },
     "output_type": "display_data"
    }
   ],
   "source": [
    "plt.figure()\n",
    "plt.title(\"Speed evolution of data10\")\n",
    "plt.xlabel(\"Time [s]\")\n",
    "plt.ylabel(\"Speed [m/s]\")\n",
    "plt.grid(\"True\")\n",
    "plt.xlim(10, 14)\n",
    "plt.plot (df.time, df.speed, label = \"Robot speed\")\n",
    "plt.vlines(x = pauseTime, color = \"r\", ymin = 0, ymax = 1, label = \"Stop order sent\")\n",
    "plt.vlines(x = stopTime, color = \"m\", ymin = 0, ymax = 1, label = \"Robot Stopped\")\n",
    "plt.legend()\n",
    "plt.show()"
   ]
  },
  {
   "cell_type": "code",
   "execution_count": 191,
   "id": "818c480d",
   "metadata": {
    "scrolled": true
   },
   "outputs": [
    {
     "data": {
      "text/html": [
       "<div>\n",
       "<style scoped>\n",
       "    .dataframe tbody tr th:only-of-type {\n",
       "        vertical-align: middle;\n",
       "    }\n",
       "\n",
       "    .dataframe tbody tr th {\n",
       "        vertical-align: top;\n",
       "    }\n",
       "\n",
       "    .dataframe thead th {\n",
       "        text-align: right;\n",
       "    }\n",
       "</style>\n",
       "<table border=\"1\" class=\"dataframe\">\n",
       "  <thead>\n",
       "    <tr style=\"text-align: right;\">\n",
       "      <th></th>\n",
       "      <th>time</th>\n",
       "      <th>speed</th>\n",
       "      <th>Pause time</th>\n",
       "    </tr>\n",
       "  </thead>\n",
       "  <tbody>\n",
       "    <tr>\n",
       "      <th>155</th>\n",
       "      <td>10.469957</td>\n",
       "      <td>0.796252</td>\n",
       "      <td>10.430126</td>\n",
       "    </tr>\n",
       "    <tr>\n",
       "      <th>156</th>\n",
       "      <td>10.517950</td>\n",
       "      <td>0.790406</td>\n",
       "      <td>10.430126</td>\n",
       "    </tr>\n",
       "    <tr>\n",
       "      <th>157</th>\n",
       "      <td>10.559142</td>\n",
       "      <td>0.793673</td>\n",
       "      <td>10.430126</td>\n",
       "    </tr>\n",
       "    <tr>\n",
       "      <th>158</th>\n",
       "      <td>10.591772</td>\n",
       "      <td>0.773485</td>\n",
       "      <td>10.430126</td>\n",
       "    </tr>\n",
       "    <tr>\n",
       "      <th>159</th>\n",
       "      <td>10.648829</td>\n",
       "      <td>0.771410</td>\n",
       "      <td>10.430126</td>\n",
       "    </tr>\n",
       "  </tbody>\n",
       "</table>\n",
       "</div>"
      ],
      "text/plain": [
       "          time     speed  Pause time\n",
       "155  10.469957  0.796252   10.430126\n",
       "156  10.517950  0.790406   10.430126\n",
       "157  10.559142  0.793673   10.430126\n",
       "158  10.591772  0.773485   10.430126\n",
       "159  10.648829  0.771410   10.430126"
      ]
     },
     "execution_count": 191,
     "metadata": {},
     "output_type": "execute_result"
    }
   ],
   "source": [
    "dfSpeedAtpauseTime = df[(df.time >= pauseTime)]\n",
    "dfSpeedAtpauseTime.head()"
   ]
  },
  {
   "cell_type": "markdown",
   "id": "81799ab9",
   "metadata": {},
   "source": [
    "By locking the speed of the first row, we can obtain the closest velocity measurement to the pauseTime velocity"
   ]
  },
  {
   "cell_type": "code",
   "execution_count": 192,
   "id": "3a20127c",
   "metadata": {},
   "outputs": [
    {
     "data": {
      "text/plain": [
       "0.7962517142295837"
      ]
     },
     "execution_count": 192,
     "metadata": {},
     "output_type": "execute_result"
    }
   ],
   "source": [
    "speedAtPauseTime = dfSpeedAtpauseTime.iloc[0, 1]\n",
    "speedAtPauseTime"
   ]
  },
  {
   "cell_type": "code",
   "execution_count": 193,
   "id": "23bd5f61",
   "metadata": {},
   "outputs": [],
   "source": [
    "dfLatency = df[(df.speed <= speedAtPauseTime*0.99) & (df.time>pauseTime)]"
   ]
  },
  {
   "cell_type": "code",
   "execution_count": 194,
   "id": "38f3562f",
   "metadata": {},
   "outputs": [
    {
     "data": {
      "text/html": [
       "<div>\n",
       "<style scoped>\n",
       "    .dataframe tbody tr th:only-of-type {\n",
       "        vertical-align: middle;\n",
       "    }\n",
       "\n",
       "    .dataframe tbody tr th {\n",
       "        vertical-align: top;\n",
       "    }\n",
       "\n",
       "    .dataframe thead th {\n",
       "        text-align: right;\n",
       "    }\n",
       "</style>\n",
       "<table border=\"1\" class=\"dataframe\">\n",
       "  <thead>\n",
       "    <tr style=\"text-align: right;\">\n",
       "      <th></th>\n",
       "      <th>time</th>\n",
       "      <th>speed</th>\n",
       "      <th>Pause time</th>\n",
       "    </tr>\n",
       "  </thead>\n",
       "  <tbody>\n",
       "    <tr>\n",
       "      <th>158</th>\n",
       "      <td>10.591772</td>\n",
       "      <td>0.773485</td>\n",
       "      <td>10.430126</td>\n",
       "    </tr>\n",
       "    <tr>\n",
       "      <th>159</th>\n",
       "      <td>10.648829</td>\n",
       "      <td>0.771410</td>\n",
       "      <td>10.430126</td>\n",
       "    </tr>\n",
       "    <tr>\n",
       "      <th>160</th>\n",
       "      <td>10.681422</td>\n",
       "      <td>0.727948</td>\n",
       "      <td>10.430126</td>\n",
       "    </tr>\n",
       "    <tr>\n",
       "      <th>161</th>\n",
       "      <td>10.714239</td>\n",
       "      <td>0.664571</td>\n",
       "      <td>10.430126</td>\n",
       "    </tr>\n",
       "    <tr>\n",
       "      <th>162</th>\n",
       "      <td>10.773664</td>\n",
       "      <td>0.527723</td>\n",
       "      <td>10.430126</td>\n",
       "    </tr>\n",
       "  </tbody>\n",
       "</table>\n",
       "</div>"
      ],
      "text/plain": [
       "          time     speed  Pause time\n",
       "158  10.591772  0.773485   10.430126\n",
       "159  10.648829  0.771410   10.430126\n",
       "160  10.681422  0.727948   10.430126\n",
       "161  10.714239  0.664571   10.430126\n",
       "162  10.773664  0.527723   10.430126"
      ]
     },
     "execution_count": 194,
     "metadata": {},
     "output_type": "execute_result"
    }
   ],
   "source": [
    "dfLatency.head()"
   ]
  },
  {
   "cell_type": "code",
   "execution_count": 195,
   "id": "c8702e7a",
   "metadata": {},
   "outputs": [],
   "source": [
    "responseTime = dfLatency.iloc[0, 0]"
   ]
  },
  {
   "cell_type": "code",
   "execution_count": 196,
   "id": "0bf269a7",
   "metadata": {},
   "outputs": [
    {
     "data": {
      "text/plain": [
       "0.1616458892822248"
      ]
     },
     "execution_count": 196,
     "metadata": {},
     "output_type": "execute_result"
    }
   ],
   "source": [
    "latency = responseTime-pauseTime\n",
    "latencyArray = np.append(latencyArray, latency)\n",
    "latency"
   ]
  },
  {
   "cell_type": "markdown",
   "id": "98076d81",
   "metadata": {},
   "source": [
    "# Check values in delay array"
   ]
  },
  {
   "cell_type": "markdown",
   "id": "e39422e0",
   "metadata": {},
   "source": [
    "Mean value:"
   ]
  },
  {
   "cell_type": "code",
   "execution_count": 197,
   "id": "d96feeab",
   "metadata": {},
   "outputs": [
    {
     "data": {
      "text/plain": [
       "0.923892259597778"
      ]
     },
     "execution_count": 197,
     "metadata": {},
     "output_type": "execute_result"
    }
   ],
   "source": [
    "np.mean(delayArray)"
   ]
  },
  {
   "cell_type": "markdown",
   "id": "8ea41e27",
   "metadata": {},
   "source": [
    "Range:"
   ]
  },
  {
   "cell_type": "code",
   "execution_count": 198,
   "id": "d804d89c",
   "metadata": {},
   "outputs": [
    {
     "data": {
      "text/plain": [
       "0.18720602989196955"
      ]
     },
     "execution_count": 198,
     "metadata": {},
     "output_type": "execute_result"
    }
   ],
   "source": [
    "np.max(delayArray)-np.min(delayArray)"
   ]
  },
  {
   "cell_type": "markdown",
   "id": "325da7fa",
   "metadata": {},
   "source": [
    "Standard deviation:"
   ]
  },
  {
   "cell_type": "code",
   "execution_count": 199,
   "id": "dfaf0ce7",
   "metadata": {},
   "outputs": [
    {
     "data": {
      "text/plain": [
       "0.07050708243991965"
      ]
     },
     "execution_count": 199,
     "metadata": {},
     "output_type": "execute_result"
    }
   ],
   "source": [
    "np.std(delayArray)"
   ]
  },
  {
   "cell_type": "code",
   "execution_count": 200,
   "id": "40118b5b",
   "metadata": {},
   "outputs": [
    {
     "data": {
      "text/plain": [
       "0.923892259597778"
      ]
     },
     "execution_count": 200,
     "metadata": {},
     "output_type": "execute_result"
    }
   ],
   "source": [
    "avg = sum(delayArray)/len(delayArray)\n",
    "avg"
   ]
  },
  {
   "cell_type": "markdown",
   "id": "a28d0d1a",
   "metadata": {},
   "source": [
    "# Check values in latency array:"
   ]
  },
  {
   "cell_type": "markdown",
   "id": "9cf29629",
   "metadata": {},
   "source": [
    "Mean value:"
   ]
  },
  {
   "cell_type": "code",
   "execution_count": 201,
   "id": "2b5e4451",
   "metadata": {},
   "outputs": [
    {
     "data": {
      "text/plain": [
       "0.1548545625474714"
      ]
     },
     "execution_count": 201,
     "metadata": {},
     "output_type": "execute_result"
    }
   ],
   "source": [
    "np.mean(latencyArray)"
   ]
  },
  {
   "cell_type": "markdown",
   "id": "0dfcf919",
   "metadata": {},
   "source": [
    "Range:"
   ]
  },
  {
   "cell_type": "code",
   "execution_count": 202,
   "id": "4c9fa36f",
   "metadata": {},
   "outputs": [
    {
     "data": {
      "text/plain": [
       "0.10166382789611816"
      ]
     },
     "execution_count": 202,
     "metadata": {},
     "output_type": "execute_result"
    }
   ],
   "source": [
    "np.max(latencyArray)-np.min(latencyArray)"
   ]
  },
  {
   "cell_type": "markdown",
   "id": "f21bcb75",
   "metadata": {},
   "source": [
    "Standard deviation:"
   ]
  },
  {
   "cell_type": "code",
   "execution_count": 203,
   "id": "d0bc1fed",
   "metadata": {},
   "outputs": [
    {
     "data": {
      "text/plain": [
       "0.02919994828527961"
      ]
     },
     "execution_count": 203,
     "metadata": {},
     "output_type": "execute_result"
    }
   ],
   "source": [
    "np.std(latencyArray)"
   ]
  },
  {
   "cell_type": "code",
   "execution_count": 204,
   "id": "881e0f75",
   "metadata": {},
   "outputs": [
    {
     "data": {
      "text/plain": [
       "0.1548545625474714"
      ]
     },
     "execution_count": 204,
     "metadata": {},
     "output_type": "execute_result"
    }
   ],
   "source": [
    "avg = sum(latencyArray)/len(latencyArray)\n",
    "avg"
   ]
  }
 ],
 "metadata": {
  "kernelspec": {
   "display_name": "Python 3 (ipykernel)",
   "language": "python",
   "name": "python3"
  },
  "language_info": {
   "codemirror_mode": {
    "name": "ipython",
    "version": 3
   },
   "file_extension": ".py",
   "mimetype": "text/x-python",
   "name": "python",
   "nbconvert_exporter": "python",
   "pygments_lexer": "ipython3",
   "version": "3.9.12"
  }
 },
 "nbformat": 4,
 "nbformat_minor": 5
}
