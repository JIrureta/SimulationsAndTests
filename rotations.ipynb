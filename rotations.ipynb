{
 "cells": [
  {
   "cell_type": "code",
   "execution_count": 1,
   "id": "db2c69c8",
   "metadata": {},
   "outputs": [],
   "source": [
    "import numpy as np\n",
    "import math\n",
    "import matplotlib.pyplot as plt"
   ]
  },
  {
   "cell_type": "code",
   "execution_count": 2,
   "id": "239d4fdf",
   "metadata": {},
   "outputs": [],
   "source": [
    "def homogeneousTransformation (angle, pointToTransform, robotCoordenate): #pointToTransform and robotCoordenate are lists\n",
    "    pointToTransformMatrix = np.array([])\n",
    "    robotCoordenateMatrix = np.array([])\n",
    "    \n",
    "    for point in pointToTransform:\n",
    "        pointToTransformMatrix = np.append(pointToTransformMatrix, point)\n",
    "        \n",
    "    pointToTransformMatrix = np.append(pointToTransformMatrix, 0) #Append 0 as z coordenate value\n",
    "    pointToTransformMatrix = np.append(pointToTransformMatrix, 1) #Appended 1 to be able to multiply by de homogenous transform matrix\n",
    "    pointToTransformMatrix = pointToTransformMatrix.transpose()\n",
    "    \n",
    "    for coordenate in robotCoordenate:\n",
    "        robotCoordenateMatrix = np.append(robotCoordenateMatrix, coordenate)\n",
    "    \n",
    "    robotCoordenateMatrix = np.append(robotCoordenateMatrix, 0) #Append 0 as z coordenate value\n",
    "    \n",
    "    robotCoordenateMatrix = robotCoordenateMatrix*-1 #By definition of the transformation, to move from base frame to robot frame, we need to put robot frame \"on top of\" base frame\n",
    "    \n",
    "    angle = angle*math.pi/180 #Input angle is on deg, radians needed for the function\n",
    "    \n",
    "    rotationInZ = np.array([[math.cos(angle), -math.sin(angle), 0, 0], #Homogeneous transform only with rotation, positive rotation clockwise\n",
    "                            [math.sin(angle), math.cos(angle), 0, 0],\n",
    "                            [0, 0, 1, 0],\n",
    "                            [0, 0, 0, 1]])\n",
    "    \n",
    "    traslationXY = [[1, 0, 0, robotCoordenateMatrix[0]], #Homogenneous transform only with translation\n",
    "                    [0, 1, 0, robotCoordenateMatrix[1]],\n",
    "                    [0, 0, 1, robotCoordenaºteMatrix[2]],\n",
    "                    [0, 0, 0, 1]]\n",
    "    \n",
    "    homogeneousTransformation = np.matmul(rotationInZ, traslationXY)\n",
    "    \n",
    "    transformationResult = np.matmul(homogeneousTransformation, pointToTransformMatrix)\n",
    "    \n",
    "    print(pointToTransformMatrix)\n",
    "    \n",
    "    return [transformationResult[0], transformationResult[1]] #X and Y positions on robot frame"
   ]
  },
  {
   "cell_type": "code",
   "execution_count": 3,
   "id": "ee44d5b7",
   "metadata": {},
   "outputs": [],
   "source": [
    "def rotationZ (pointToTransform, angle):\n",
    "    pointToTransformMatrix = np.array([])\n",
    "    \n",
    "    for point in pointToTransform:\n",
    "        pointToTransformMatrix = np.append(pointToTransformMatrix, point)\n",
    "        \n",
    "    pointToTransformMatrix = np.append(pointToTransformMatrix, 0) #Append 0 as z coordenate value\n",
    "    \n",
    "    pointToTransformMatrix = pointToTransformMatrix.transpose()\n",
    "    \n",
    "    angle = angle*math.pi/180 #Input angle is on deg, radians needed for the functio\n",
    "\n",
    "    rotationInZ = np.array([[math.cos(angle), -math.sin(angle), 0], #Rotation in z axis, positive direction clockwise.\n",
    "                            [math.sin(angle), math.cos(angle), 0],\n",
    "                            [0, 0, 1]])\n",
    "    \n",
    "    transformationResult = np.matmul(rotationInZ, pointToTransformMatrix)\n",
    "        \n",
    "    return [transformationResult[0], transformationResult[1]] #Rotated XY coordenates are returned    "
   ]
  },
  {
   "cell_type": "code",
   "execution_count": 4,
   "id": "4c6b49d6",
   "metadata": {},
   "outputs": [],
   "source": [
    "def personInNoPredictArea (topRightLimit, topLeftLimit, bottomRightLimit, bottomLeftLimit, personPosi): # since its a square, same X and Y will show twice    \n",
    "    if (topRightLimit[0] > topLeftLimit[0]): #Check for x position\n",
    "        if (personPosi[0] >= topLeftLimit[0] and personPosi[0] <= topRightLimit[0]):\n",
    "            xIn = True\n",
    "        else:\n",
    "            xIn = False\n",
    "    else:\n",
    "        if (personPosi[0] <= topLeftLimit[0] and personPosi[0] >= topRightLimit[0]):\n",
    "            xIn = True\n",
    "        else:\n",
    "            xIn = False\n",
    "    \n",
    "    if (topRightLimit[1] > bottomRightLimit[1]): #Check for Y position\n",
    "        if (personPosi[1] <= topRightLimit[1] and personPosi[1] >= bottomRightLimit[1]):\n",
    "            yIn = True\n",
    "        else:\n",
    "            yIn = False\n",
    "    else:\n",
    "        if (personPosi[1] >= topRightLimit[1] and personPosi[1] <= bottomRightLimit[1]):\n",
    "            yIn = True\n",
    "        else:\n",
    "            yIn = False\n",
    "    \n",
    "    if (xIn and yIn):\n",
    "        return True\n",
    "    else:\n",
    "        return False"
   ]
  },
  {
   "cell_type": "code",
   "execution_count": 5,
   "id": "1749302b",
   "metadata": {},
   "outputs": [],
   "source": [
    "def initializeLimits (width, length, robotbooty): #The limits of the area are defined on the robot frame\n",
    "    topRightLimit = [width/2, 0-robotbooty]\n",
    "    \n",
    "    topLeftLimit = [-width/2, 0-robotbooty]\n",
    "    \n",
    "    bottomRightLimit = [width/2, -length-robotbooty]\n",
    "    \n",
    "    bottomLeftLimit = [-width/2, -length-robotbooty]\n",
    "    \n",
    "    return topRightLimit, topLeftLimit, bottomRightLimit, bottomLeftLimit"
   ]
  },
  {
   "cell_type": "code",
   "execution_count": 6,
   "id": "9ee60ff2",
   "metadata": {},
   "outputs": [
    {
     "name": "stdout",
     "output_type": "stream",
     "text": [
      "[ 4.159 11.957  0.     1.   ]\n",
      "The person is outside the No Predict Area\n"
     ]
    }
   ],
   "source": [
    "initialized_points = initializeLimits(4, 4, 0.5)\n",
    "A = initialized_points[0]\n",
    "B = initialized_points[1]\n",
    "C = initialized_points[2]\n",
    "D = initialized_points[3]\n",
    "\n",
    "personInRobotFrame = homogeneousTransformation(2.06, [4.159, 11.957], [0.883, 11.183])\n",
    "\n",
    "if(personInNoPredictArea(A, B, C, D, personInRobotFrame)):\n",
    "    print(\"The person is inside the No Predict Area\")\n",
    "else:\n",
    "    print(\"The person is outside the No Predict Area\")\n"
   ]
  },
  {
   "cell_type": "code",
   "execution_count": 7,
   "id": "8ef935a4",
   "metadata": {},
   "outputs": [
    {
     "data": {
      "text/plain": [
       "[3.246060594640477, 0.89125900608202]"
      ]
     },
     "execution_count": 7,
     "metadata": {},
     "output_type": "execute_result"
    }
   ],
   "source": [
    "personInRobotFrame"
   ]
  },
  {
   "cell_type": "code",
   "execution_count": 8,
   "id": "d0d5fa7f",
   "metadata": {},
   "outputs": [
    {
     "data": {
      "text/plain": [
       "[2.0, -0.5]"
      ]
     },
     "execution_count": 8,
     "metadata": {},
     "output_type": "execute_result"
    }
   ],
   "source": [
    "A"
   ]
  },
  {
   "cell_type": "code",
   "execution_count": 9,
   "id": "33208523",
   "metadata": {},
   "outputs": [
    {
     "data": {
      "text/plain": [
       "[-2.0, -0.5]"
      ]
     },
     "execution_count": 9,
     "metadata": {},
     "output_type": "execute_result"
    }
   ],
   "source": [
    "B"
   ]
  },
  {
   "cell_type": "code",
   "execution_count": 10,
   "id": "532579f0",
   "metadata": {},
   "outputs": [
    {
     "data": {
      "text/plain": [
       "[2.0, -4.5]"
      ]
     },
     "execution_count": 10,
     "metadata": {},
     "output_type": "execute_result"
    }
   ],
   "source": [
    "C"
   ]
  },
  {
   "cell_type": "code",
   "execution_count": 11,
   "id": "b179ea65",
   "metadata": {},
   "outputs": [
    {
     "data": {
      "text/plain": [
       "[-2.0, -4.5]"
      ]
     },
     "execution_count": 11,
     "metadata": {},
     "output_type": "execute_result"
    }
   ],
   "source": [
    "D"
   ]
  },
  {
   "cell_type": "code",
   "execution_count": 12,
   "id": "e48fb253",
   "metadata": {},
   "outputs": [
    {
     "data": {
      "image/png": "[encoded data removed]",
      "text/plain": [
       "<Figure size 432x288 with 1 Axes>"
      ]
     },
     "metadata": {
      "needs_background": "light"
     },
     "output_type": "display_data"
    }
   ],
   "source": [
    "plt.figure()\n",
    "plt.grid(\"True\")\n",
    "plt.scatter(A[0], A[1], color = \"b\")\n",
    "plt.scatter(B[0], B[1], color = \"b\")\n",
    "plt.scatter(C[0], C[1], color = \"b\")\n",
    "plt.scatter(D[0], D[1], color = \"b\")\n",
    "plt.scatter(personInRobotFrame[0], personInRobotFrame[1], color = \"r\")\n",
    "plt.xlim(-10, 12)\n",
    "plt.ylim(-10, 12)\n",
    "plt.show()"
   ]
  }
 ],
 "metadata": {
  "kernelspec": {
   "display_name": "Python 3 (ipykernel)",
   "language": "python",
   "name": "python3"
  },
  "language_info": {
   "codemirror_mode": {
    "name": "ipython",
    "version": 3
   },
   "file_extension": ".py",
   "mimetype": "text/x-python",
   "name": "python",
   "nbconvert_exporter": "python",
   "pygments_lexer": "ipython3",
   "version": "3.9.12"
  }
 },
 "nbformat": 4,
 "nbformat_minor": 5
}
