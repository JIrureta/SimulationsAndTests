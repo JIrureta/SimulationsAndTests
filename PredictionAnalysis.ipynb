{
 "cells": [
  {
   "cell_type": "code",
   "execution_count": 1,
   "id": "d9584b70",
   "metadata": {},
   "outputs": [],
   "source": [
    "import pandas as pd\n",
    "import matplotlib.pyplot as plt\n",
    "import numpy as np\n",
    "from sklearn.linear_model import LinearRegression"
   ]
  },
  {
   "cell_type": "markdown",
   "id": "8af6e94a",
   "metadata": {},
   "source": [
    "# Straight path analysis"
   ]
  },
  {
   "cell_type": "code",
   "execution_count": 2,
   "id": "4799afd7",
   "metadata": {},
   "outputs": [],
   "source": [
    "df = pd.read_csv(r\"C:\\Maila_4\\Project\\OurGitRepo\\UWPathYDirection.csv\")"
   ]
  },
  {
   "cell_type": "code",
   "execution_count": 3,
   "id": "2aa6fa69",
   "metadata": {},
   "outputs": [
    {
     "data": {
      "text/html": [
       "<div>\n",
       "<style scoped>\n",
       "    .dataframe tbody tr th:only-of-type {\n",
       "        vertical-align: middle;\n",
       "    }\n",
       "\n",
       "    .dataframe tbody tr th {\n",
       "        vertical-align: top;\n",
       "    }\n",
       "\n",
       "    .dataframe thead th {\n",
       "        text-align: right;\n",
       "    }\n",
       "</style>\n",
       "<table border=\"1\" class=\"dataframe\">\n",
       "  <thead>\n",
       "    <tr style=\"text-align: right;\">\n",
       "      <th></th>\n",
       "      <th>xPosition</th>\n",
       "      <th>yPosition</th>\n",
       "    </tr>\n",
       "  </thead>\n",
       "  <tbody>\n",
       "    <tr>\n",
       "      <th>0</th>\n",
       "      <td>0.078</td>\n",
       "      <td>8.042</td>\n",
       "    </tr>\n",
       "    <tr>\n",
       "      <th>1</th>\n",
       "      <td>0.078</td>\n",
       "      <td>8.042</td>\n",
       "    </tr>\n",
       "    <tr>\n",
       "      <th>2</th>\n",
       "      <td>0.078</td>\n",
       "      <td>8.042</td>\n",
       "    </tr>\n",
       "    <tr>\n",
       "      <th>3</th>\n",
       "      <td>0.078</td>\n",
       "      <td>8.042</td>\n",
       "    </tr>\n",
       "    <tr>\n",
       "      <th>4</th>\n",
       "      <td>-0.127</td>\n",
       "      <td>8.383</td>\n",
       "    </tr>\n",
       "  </tbody>\n",
       "</table>\n",
       "</div>"
      ],
      "text/plain": [
       "   xPosition  yPosition\n",
       "0      0.078      8.042\n",
       "1      0.078      8.042\n",
       "2      0.078      8.042\n",
       "3      0.078      8.042\n",
       "4     -0.127      8.383"
      ]
     },
     "execution_count": 3,
     "metadata": {},
     "output_type": "execute_result"
    }
   ],
   "source": [
    "df.head()"
   ]
  },
  {
   "cell_type": "code",
   "execution_count": 4,
   "id": "0a354042",
   "metadata": {},
   "outputs": [
    {
     "data": {
      "text/html": [
       "<div>\n",
       "<style scoped>\n",
       "    .dataframe tbody tr th:only-of-type {\n",
       "        vertical-align: middle;\n",
       "    }\n",
       "\n",
       "    .dataframe tbody tr th {\n",
       "        vertical-align: top;\n",
       "    }\n",
       "\n",
       "    .dataframe thead th {\n",
       "        text-align: right;\n",
       "    }\n",
       "</style>\n",
       "<table border=\"1\" class=\"dataframe\">\n",
       "  <thead>\n",
       "    <tr style=\"text-align: right;\">\n",
       "      <th></th>\n",
       "      <th>xPosition</th>\n",
       "      <th>yPosition</th>\n",
       "    </tr>\n",
       "  </thead>\n",
       "  <tbody>\n",
       "    <tr>\n",
       "      <th>33</th>\n",
       "      <td>0.164</td>\n",
       "      <td>17.627</td>\n",
       "    </tr>\n",
       "    <tr>\n",
       "      <th>34</th>\n",
       "      <td>-0.023</td>\n",
       "      <td>18.381</td>\n",
       "    </tr>\n",
       "    <tr>\n",
       "      <th>35</th>\n",
       "      <td>0.265</td>\n",
       "      <td>18.529</td>\n",
       "    </tr>\n",
       "    <tr>\n",
       "      <th>36</th>\n",
       "      <td>0.265</td>\n",
       "      <td>18.529</td>\n",
       "    </tr>\n",
       "    <tr>\n",
       "      <th>37</th>\n",
       "      <td>0.562</td>\n",
       "      <td>18.887</td>\n",
       "    </tr>\n",
       "  </tbody>\n",
       "</table>\n",
       "</div>"
      ],
      "text/plain": [
       "    xPosition  yPosition\n",
       "33      0.164     17.627\n",
       "34     -0.023     18.381\n",
       "35      0.265     18.529\n",
       "36      0.265     18.529\n",
       "37      0.562     18.887"
      ]
     },
     "execution_count": 4,
     "metadata": {},
     "output_type": "execute_result"
    }
   ],
   "source": [
    "df.tail()"
   ]
  },
  {
   "cell_type": "code",
   "execution_count": 5,
   "id": "b123b8ba",
   "metadata": {},
   "outputs": [
    {
     "data": {
      "text/plain": [
       "(38, 2)"
      ]
     },
     "execution_count": 5,
     "metadata": {},
     "output_type": "execute_result"
    }
   ],
   "source": [
    "shape = df.shape\n",
    "shape"
   ]
  },
  {
   "cell_type": "markdown",
   "id": "fa8d6ec2",
   "metadata": {},
   "source": [
    "Create lists to store positions of the data frame"
   ]
  },
  {
   "cell_type": "code",
   "execution_count": 6,
   "id": "d644bef8",
   "metadata": {},
   "outputs": [],
   "source": [
    "xPositions = []\n",
    "yPositions = []"
   ]
  },
  {
   "cell_type": "code",
   "execution_count": 7,
   "id": "a4e5d506",
   "metadata": {},
   "outputs": [],
   "source": [
    "index = 0\n",
    "\n",
    "while index < shape[0]:\n",
    "    xPositions.append(df.iloc[index, 0])\n",
    "    yPositions.append(df.iloc[index, 1])\n",
    "    index = index+1"
   ]
  },
  {
   "cell_type": "markdown",
   "id": "1b1af790",
   "metadata": {},
   "source": [
    "Define the functions that are needed for the prediction"
   ]
  },
  {
   "cell_type": "code",
   "execution_count": 8,
   "id": "649b1bbc",
   "metadata": {},
   "outputs": [],
   "source": [
    "def calculatePath (points, timeDelta):\n",
    "    pointArray = np.array([])\n",
    "\n",
    "    for point in points:\n",
    "        pointArray = np.append(pointArray, point)\n",
    "    \n",
    "    timeArray = np.arange(0, timeDelta*len(points), timeDelta)\n",
    "    timeArray = timeArray.reshape(-1, 1) #must be reshaped, otherwise the regression can't be done\n",
    "    \n",
    "    model = LinearRegression().fit(timeArray, pointArray)\n",
    "\n",
    "    return model.coef_, model.intercept_"
   ]
  },
  {
   "cell_type": "code",
   "execution_count": 9,
   "id": "56b53088",
   "metadata": {},
   "outputs": [],
   "source": [
    "def predictNextPositions (points, coefficients, intercept, timeDelta, timeToPredict):\n",
    "    predictedPoints = [] #Empty list where the future X or Y values will be stored\n",
    "    timeValue = (len(points)-1)*timeDelta #Time value of the last known point assuming first element of the list points is in t=0\n",
    "    finalTimeToPredict = timeValue+timeToPredict #Calculate the time value for the last point that is gonna be predicted\n",
    "    \n",
    "    while timeValue < finalTimeToPredict:\n",
    "        timeValue = timeValue+timeDelta\n",
    "        predictedPoints.append(timeValue*coefficients[0]+intercept)\n",
    "    \n",
    "    return predictedPoints"
   ]
  },
  {
   "cell_type": "code",
   "execution_count": 10,
   "id": "8053be0b",
   "metadata": {},
   "outputs": [],
   "source": [
    "def getSpecifiedPoints (points, positions_into_consideration):\n",
    "    pointArray = np.array([])\n",
    "    positions_into_consideration___=positions_into_consideration\n",
    "    while positions_into_consideration!=0:\n",
    "        pointArray = np.append(pointArray, points[positions_into_consideration-positions_into_consideration___])\n",
    "        positions_into_consideration___=positions_into_consideration___-1\n",
    "    \n",
    "    \n",
    "\n",
    "    return pointArray"
   ]
  },
  {
   "cell_type": "markdown",
   "id": "de029b18",
   "metadata": {},
   "source": [
    "Compare predicted path with real path, changing the points taken for prediction\n",
    "1-time to predict=10"
   ]
  },
  {
   "cell_type": "code",
   "execution_count": 11,
   "id": "4b6daafc",
   "metadata": {},
   "outputs": [],
   "source": [
    "timeBetweenSamples=0.25\n",
    "timetopredict=7.5\n",
    "\n",
    "personXCoef, personXinter = calculatePath (xPositions[0: 12], timeBetweenSamples)\n",
    "personYCoef, personYinter = calculatePath (yPositions[0: 12], timeBetweenSamples)\n",
    "\n",
    "xPredictions = predictNextPositions (xPositions[0: 12], personXCoef, personXinter, timeBetweenSamples, timetopredict)\n",
    "YPredictions = predictNextPositions (yPositions[0: 12], personYCoef, personYinter, timeBetweenSamples, timetopredict)       \n",
    "                "
   ]
  },
  {
   "cell_type": "code",
   "execution_count": 12,
   "id": "0c8ddff0",
   "metadata": {},
   "outputs": [
    {
     "data": {
      "image/png": "[encoded data removed]",
      "text/plain": [
       "<Figure size 432x288 with 1 Axes>"
      ]
     },
     "metadata": {
      "needs_background": "light"
     },
     "output_type": "display_data"
    }
   ],
   "source": [
    "plt.figure()\n",
    "plt.grid(\"True\")\n",
    "plt.scatter(xPositions[0: 12], yPositions [0: 12], label = \"UWB positions for prediction\", color = \"r\", marker = \"1\")\n",
    "plt.scatter(xPredictions, YPredictions, label= \"Predicted positions\", color = \"g\", marker = \"2\")\n",
    "plt.scatter(xPositions[13: -1], yPositions [13: -1], label = \"Real future positions\", color = \"b\", marker = \"3\")\n",
    "plt.xlim(-5, 20)\n",
    "plt.legend()\n",
    "plt.title(\"Path with prediction done for 7.5 secs, taking last 12 positions\")\n",
    "plt.show()"
   ]
  },
  {
   "cell_type": "code",
   "execution_count": 13,
   "id": "22572850",
   "metadata": {},
   "outputs": [],
   "source": [
    "timeBetweenSamples=0.25\n",
    "timetopredict=7.5\n",
    "\n",
    "personXCoef, personXinter = calculatePath (xPositions[6: 12], timeBetweenSamples)\n",
    "personYCoef, personYinter = calculatePath (yPositions[6: 12], timeBetweenSamples)\n",
    "\n",
    "xPredictions = predictNextPositions (xPositions[6: 12], personXCoef, personXinter, timeBetweenSamples, timetopredict)\n",
    "YPredictions = predictNextPositions (yPositions[6: 12], personYCoef, personYinter, timeBetweenSamples, timetopredict)    "
   ]
  },
  {
   "cell_type": "code",
   "execution_count": 14,
   "id": "f203714c",
   "metadata": {},
   "outputs": [
    {
     "data": {
      "image/png": "[encoded data removed]",
      "text/plain": [
       "<Figure size 432x288 with 1 Axes>"
      ]
     },
     "metadata": {
      "needs_background": "light"
     },
     "output_type": "display_data"
    }
   ],
   "source": [
    "plt.figure()\n",
    "plt.grid(\"True\")\n",
    "plt.scatter(xPositions[6: 12], yPositions [6: 12], label = \"UWB positions for prediction\", color = \"r\", marker = \"1\")\n",
    "plt.scatter(xPredictions, YPredictions, label= \"Predicted positions\", color = \"g\", marker = \"2\")\n",
    "plt.scatter(xPositions[13: -1], yPositions [13: -1], label = \"Real future positions\", color = \"b\", marker = \"3\")\n",
    "plt.xlim(-5, 20)\n",
    "plt.ylim(8,20)\n",
    "plt.legend()\n",
    "plt.title(\"Path with prediction done for 7.5 secs, considering last 6 positions\")\n",
    "plt.show()"
   ]
  },
  {
   "cell_type": "code",
   "execution_count": 15,
   "id": "05ef259f",
   "metadata": {},
   "outputs": [],
   "source": [
    "timeBetweenSamples=0.25\n",
    "timetopredict=7.5\n",
    "\n",
    "personXCoef, personXinter = calculatePath (xPositions[8: 12], timeBetweenSamples)\n",
    "personYCoef, personYinter = calculatePath (yPositions[8: 12], timeBetweenSamples)\n",
    "\n",
    "xPredictions = predictNextPositions (xPositions[8: 12], personXCoef, personXinter, timeBetweenSamples, timetopredict)\n",
    "YPredictions = predictNextPositions (yPositions[8: 12], personYCoef, personYinter, timeBetweenSamples, timetopredict)  "
   ]
  },
  {
   "cell_type": "code",
   "execution_count": 16,
   "id": "ca7c553d",
   "metadata": {},
   "outputs": [
    {
     "data": {
      "image/png": "[encoded data removed]",
      "text/plain": [
       "<Figure size 432x288 with 1 Axes>"
      ]
     },
     "metadata": {
      "needs_background": "light"
     },
     "output_type": "display_data"
    }
   ],
   "source": [
    "plt.figure()\n",
    "plt.grid(\"True\")\n",
    "plt.scatter(xPositions[8: 12], yPositions [8: 12], label = \"UWB positions for prediction\", color = \"r\", marker = \"1\")\n",
    "plt.scatter(xPredictions, YPredictions, label= \"Predicted positions\", color = \"g\", marker = \"2\")\n",
    "plt.scatter(xPositions[13: -1], yPositions [13: -1], label = \"Real future positions\", color = \"b\", marker = \"3\")\n",
    "plt.xlim(-5, 20)\n",
    "plt.legend()\n",
    "plt.title(\"Path with prediction done for 7.5 secs, considering last 4 positions\")\n",
    "plt.show()"
   ]
  },
  {
   "cell_type": "code",
   "execution_count": null,
   "id": "92cdcc1a",
   "metadata": {},
   "outputs": [],
   "source": []
  },
  {
   "cell_type": "markdown",
   "id": "0d4c09e8",
   "metadata": {},
   "source": [
    "# Non straight analysis"
   ]
  },
  {
   "cell_type": "code",
   "execution_count": 17,
   "id": "3f069f7d",
   "metadata": {},
   "outputs": [],
   "source": [
    "df = pd.read_csv(r\"C:\\Maila_4\\Project\\OurGitRepo\\UWPathXYDirection.csv\")"
   ]
  },
  {
   "cell_type": "code",
   "execution_count": 18,
   "id": "e0e4bfc8",
   "metadata": {},
   "outputs": [
    {
     "data": {
      "text/html": [
       "<div>\n",
       "<style scoped>\n",
       "    .dataframe tbody tr th:only-of-type {\n",
       "        vertical-align: middle;\n",
       "    }\n",
       "\n",
       "    .dataframe tbody tr th {\n",
       "        vertical-align: top;\n",
       "    }\n",
       "\n",
       "    .dataframe thead th {\n",
       "        text-align: right;\n",
       "    }\n",
       "</style>\n",
       "<table border=\"1\" class=\"dataframe\">\n",
       "  <thead>\n",
       "    <tr style=\"text-align: right;\">\n",
       "      <th></th>\n",
       "      <th>xPosition</th>\n",
       "      <th>yPosition</th>\n",
       "    </tr>\n",
       "  </thead>\n",
       "  <tbody>\n",
       "    <tr>\n",
       "      <th>0</th>\n",
       "      <td>-6.613</td>\n",
       "      <td>4.66</td>\n",
       "    </tr>\n",
       "    <tr>\n",
       "      <th>1</th>\n",
       "      <td>-6.613</td>\n",
       "      <td>4.66</td>\n",
       "    </tr>\n",
       "    <tr>\n",
       "      <th>2</th>\n",
       "      <td>-6.613</td>\n",
       "      <td>4.66</td>\n",
       "    </tr>\n",
       "    <tr>\n",
       "      <th>3</th>\n",
       "      <td>-6.613</td>\n",
       "      <td>4.66</td>\n",
       "    </tr>\n",
       "    <tr>\n",
       "      <th>4</th>\n",
       "      <td>-6.613</td>\n",
       "      <td>4.66</td>\n",
       "    </tr>\n",
       "  </tbody>\n",
       "</table>\n",
       "</div>"
      ],
      "text/plain": [
       "   xPosition  yPosition\n",
       "0     -6.613       4.66\n",
       "1     -6.613       4.66\n",
       "2     -6.613       4.66\n",
       "3     -6.613       4.66\n",
       "4     -6.613       4.66"
      ]
     },
     "execution_count": 18,
     "metadata": {},
     "output_type": "execute_result"
    }
   ],
   "source": [
    "df.head()"
   ]
  },
  {
   "cell_type": "code",
   "execution_count": 19,
   "id": "5e7cc5aa",
   "metadata": {},
   "outputs": [
    {
     "data": {
      "text/html": [
       "<div>\n",
       "<style scoped>\n",
       "    .dataframe tbody tr th:only-of-type {\n",
       "        vertical-align: middle;\n",
       "    }\n",
       "\n",
       "    .dataframe tbody tr th {\n",
       "        vertical-align: top;\n",
       "    }\n",
       "\n",
       "    .dataframe thead th {\n",
       "        text-align: right;\n",
       "    }\n",
       "</style>\n",
       "<table border=\"1\" class=\"dataframe\">\n",
       "  <thead>\n",
       "    <tr style=\"text-align: right;\">\n",
       "      <th></th>\n",
       "      <th>xPosition</th>\n",
       "      <th>yPosition</th>\n",
       "    </tr>\n",
       "  </thead>\n",
       "  <tbody>\n",
       "    <tr>\n",
       "      <th>31</th>\n",
       "      <td>0.323</td>\n",
       "      <td>9.229</td>\n",
       "    </tr>\n",
       "    <tr>\n",
       "      <th>32</th>\n",
       "      <td>0.323</td>\n",
       "      <td>9.229</td>\n",
       "    </tr>\n",
       "    <tr>\n",
       "      <th>33</th>\n",
       "      <td>0.504</td>\n",
       "      <td>9.689</td>\n",
       "    </tr>\n",
       "    <tr>\n",
       "      <th>34</th>\n",
       "      <td>0.504</td>\n",
       "      <td>9.689</td>\n",
       "    </tr>\n",
       "    <tr>\n",
       "      <th>35</th>\n",
       "      <td>0.532</td>\n",
       "      <td>10.282</td>\n",
       "    </tr>\n",
       "  </tbody>\n",
       "</table>\n",
       "</div>"
      ],
      "text/plain": [
       "    xPosition  yPosition\n",
       "31      0.323      9.229\n",
       "32      0.323      9.229\n",
       "33      0.504      9.689\n",
       "34      0.504      9.689\n",
       "35      0.532     10.282"
      ]
     },
     "execution_count": 19,
     "metadata": {},
     "output_type": "execute_result"
    }
   ],
   "source": [
    "df.tail()"
   ]
  },
  {
   "cell_type": "code",
   "execution_count": 20,
   "id": "3eb0294d",
   "metadata": {},
   "outputs": [
    {
     "data": {
      "text/plain": [
       "(36, 2)"
      ]
     },
     "execution_count": 20,
     "metadata": {},
     "output_type": "execute_result"
    }
   ],
   "source": [
    "shape = df.shape\n",
    "shape"
   ]
  },
  {
   "cell_type": "markdown",
   "id": "dfb772a7",
   "metadata": {},
   "source": [
    "Create lists to store positions of the data frame"
   ]
  },
  {
   "cell_type": "code",
   "execution_count": 21,
   "id": "ee159343",
   "metadata": {},
   "outputs": [],
   "source": [
    "xPositions = []\n",
    "yPositions = []"
   ]
  },
  {
   "cell_type": "code",
   "execution_count": 22,
   "id": "2d1280b2",
   "metadata": {},
   "outputs": [],
   "source": [
    "index = 0\n",
    "\n",
    "while index < shape[0]:\n",
    "    xPositions.append(df.iloc[index, 0])\n",
    "    yPositions.append(df.iloc[index, 1])\n",
    "    index = index+1"
   ]
  },
  {
   "cell_type": "markdown",
   "id": "f7b4ba0d",
   "metadata": {},
   "source": [
    "Define the functions that are needed for the prediction"
   ]
  },
  {
   "cell_type": "code",
   "execution_count": 23,
   "id": "6992f601",
   "metadata": {},
   "outputs": [],
   "source": [
    "def calculatePath (points, timeDelta):\n",
    "    pointArray = np.array([])\n",
    "\n",
    "    for point in points:\n",
    "        pointArray = np.append(pointArray, point)\n",
    "    \n",
    "    timeArray = np.arange(0, timeDelta*len(points), timeDelta)\n",
    "    timeArray = timeArray.reshape(-1, 1) #must be reshaped, otherwise the regression can't be done\n",
    "    \n",
    "    model = LinearRegression().fit(timeArray, pointArray)\n",
    "\n",
    "    return model.coef_, model.intercept_"
   ]
  },
  {
   "cell_type": "code",
   "execution_count": 24,
   "id": "b3f5c4cb",
   "metadata": {},
   "outputs": [],
   "source": [
    "def predictNextPositions (points, coefficients, intercept, timeDelta, timeToPredict):\n",
    "    predictedPoints = [] #Empty list where the future X or Y values will be stored\n",
    "    timeValue = (len(points)-1)*timeDelta #Time value of the last known point assuming first element of the list points is in t=0\n",
    "    finalTimeToPredict = timeValue+timeToPredict #Calculate the time value for the last point that is gonna be predicted\n",
    "    \n",
    "    while timeValue < finalTimeToPredict:\n",
    "        timeValue = timeValue+timeDelta\n",
    "        predictedPoints.append(timeValue*coefficients[0]+intercept)\n",
    "    \n",
    "    return predictedPoints"
   ]
  },
  {
   "cell_type": "code",
   "execution_count": 25,
   "id": "cd54d83e",
   "metadata": {},
   "outputs": [],
   "source": [
    "def getSpecifiedPoints (points, positions_into_consideration):\n",
    "    pointArray = np.array([])\n",
    "    positions_into_consideration___=positions_into_consideration\n",
    "    while positions_into_consideration!=0:\n",
    "        pointArray = np.append(pointArray, points[positions_into_consideration-positions_into_consideration___])\n",
    "        positions_into_consideration___=positions_into_consideration___-1\n",
    "    \n",
    "    \n",
    "\n",
    "    return pointArray"
   ]
  },
  {
   "cell_type": "markdown",
   "id": "d4df2112",
   "metadata": {},
   "source": [
    "Compare predicted path with real path, changing the points taken for prediction\n",
    "1-time to predict=10"
   ]
  },
  {
   "cell_type": "code",
   "execution_count": 26,
   "id": "c543b23e",
   "metadata": {},
   "outputs": [],
   "source": [
    "timeBetweenSamples=0.25\n",
    "timetopredict=7.5\n",
    "\n",
    "personXCoef, personXinter = calculatePath (xPositions[4: 16], timeBetweenSamples)\n",
    "personYCoef, personYinter = calculatePath (yPositions[4: 16], timeBetweenSamples)\n",
    "\n",
    "xPredictions = predictNextPositions (xPositions[4: 16], personXCoef, personXinter, timeBetweenSamples, timetopredict)\n",
    "YPredictions = predictNextPositions (yPositions[4: 16], personYCoef, personYinter, timeBetweenSamples, timetopredict)       \n",
    "                "
   ]
  },
  {
   "cell_type": "code",
   "execution_count": 27,
   "id": "0fc845cd",
   "metadata": {},
   "outputs": [
    {
     "data": {
      "image/png": "[encoded data removed]",
      "text/plain": [
       "<Figure size 432x288 with 1 Axes>"
      ]
     },
     "metadata": {
      "needs_background": "light"
     },
     "output_type": "display_data"
    }
   ],
   "source": [
    "plt.figure()\n",
    "plt.grid(\"True\")\n",
    "plt.scatter(xPositions[4: 16], yPositions [4: 16], label = \"UWB positions for prediction\", color = \"r\", marker = \"1\")\n",
    "plt.scatter(xPredictions, YPredictions, label= \"Predicted positions\", color = \"g\", marker = \"2\")\n",
    "plt.scatter(xPositions[17: -1], yPositions [17: -1], label = \"Real future positions\", color = \"b\", marker = \"3\")\n",
    "plt.xlim(-10, 10)\n",
    "plt.legend()\n",
    "plt.title(\"Path with prediction done for 7.5 secs, considering last 12 positions\")\n",
    "plt.show()"
   ]
  },
  {
   "cell_type": "code",
   "execution_count": 28,
   "id": "8bdf996e",
   "metadata": {},
   "outputs": [],
   "source": [
    "timeBetweenSamples=0.25\n",
    "timetopredict=7.5\n",
    "\n",
    "personXCoef, personXinter = calculatePath (xPositions[10+4+4: 16+4+4], timeBetweenSamples)\n",
    "personYCoef, personYinter = calculatePath (yPositions[10+4+4: 16+4+4], timeBetweenSamples)\n",
    "\n",
    "xPredictions = predictNextPositions (xPositions[10+4+4: 16+4+4], personXCoef, personXinter, timeBetweenSamples, timetopredict)\n",
    "YPredictions = predictNextPositions (yPositions[10+4+4: 16+4+4], personYCoef, personYinter, timeBetweenSamples, timetopredict)    "
   ]
  },
  {
   "cell_type": "code",
   "execution_count": 29,
   "id": "3abfe40d",
   "metadata": {},
   "outputs": [
    {
     "data": {
      "image/png": "[encoded data removed]",
      "text/plain": [
       "<Figure size 432x288 with 1 Axes>"
      ]
     },
     "metadata": {
      "needs_background": "light"
     },
     "output_type": "display_data"
    }
   ],
   "source": [
    "plt.figure()\n",
    "plt.grid(\"True\")\n",
    "plt.scatter(xPositions[10+4+4: 16+4+4], yPositions [10+4+4: 16+4+4], label = \"UWB positions for prediction\", color = \"r\", marker = \"1\")\n",
    "plt.scatter(xPredictions, YPredictions, label= \"Predicted positions\", color = \"g\", marker = \"2\")\n",
    "plt.scatter(xPositions[17+4+4: -1], yPositions [17+4+4: -1], label = \"Real future positions\", color = \"b\", marker = \"3\")\n",
    "plt.xlim(-10, 10)\n",
    "plt.legend()\n",
    "plt.title(\"Path with prediction done for 7.5 secs, considering last 6 positions\")\n",
    "plt.show()"
   ]
  },
  {
   "cell_type": "code",
   "execution_count": 30,
   "id": "79d92bcd",
   "metadata": {},
   "outputs": [],
   "source": [
    "timeBetweenSamples=0.25\n",
    "timetopredict=7.5\n",
    "\n",
    "personXCoef, personXinter = calculatePath (xPositions[12: 16], timeBetweenSamples)\n",
    "personYCoef, personYinter = calculatePath (yPositions[12: 16], timeBetweenSamples)\n",
    "\n",
    "xPredictions = predictNextPositions (xPositions[12: 16], personXCoef, personXinter, timeBetweenSamples, timetopredict)\n",
    "YPredictions = predictNextPositions (yPositions[12: 16], personYCoef, personYinter, timeBetweenSamples, timetopredict)  "
   ]
  },
  {
   "cell_type": "code",
   "execution_count": 31,
   "id": "53203153",
   "metadata": {
    "scrolled": true
   },
   "outputs": [
    {
     "data": {
      "image/png": "[encoded data removed]",
      "text/plain": [
       "<Figure size 432x288 with 1 Axes>"
      ]
     },
     "metadata": {
      "needs_background": "light"
     },
     "output_type": "display_data"
    }
   ],
   "source": [
    "plt.figure()\n",
    "plt.grid(\"True\")\n",
    "plt.scatter(xPositions[12: 16], yPositions [12: 16], label = \"UWB positions for prediction\", color = \"r\", marker = \"1\")\n",
    "plt.scatter(xPredictions, YPredictions, label= \"Predicted positions\", color = \"g\", marker = \"2\")\n",
    "plt.scatter(xPositions[17: -1], yPositions [17: -1], label = \"Real future positions\", color = \"b\", marker = \"3\")\n",
    "plt.xlim(-10, 10)\n",
    "plt.ylim(4.5, 10)\n",
    "plt.legend()\n",
    "plt.title(\"Path with prediction done for 7.5 secs, considering last 4 positions\")\n",
    "plt.show()"
   ]
  },
  {
   "cell_type": "markdown",
   "id": "066eebc1",
   "metadata": {},
   "source": [
    "# Back and force trajectory\n"
   ]
  },
  {
   "cell_type": "code",
   "execution_count": null,
   "id": "d3632f50",
   "metadata": {},
   "outputs": [],
   "source": []
  },
  {
   "cell_type": "code",
   "execution_count": 32,
   "id": "3aaf74db",
   "metadata": {},
   "outputs": [],
   "source": [
    "df = pd.read_csv(r\"C:\\Maila_4\\Project\\OurGitRepo\\UWPathForwardNBackward.csv\")"
   ]
  },
  {
   "cell_type": "code",
   "execution_count": 33,
   "id": "fbfaba9b",
   "metadata": {},
   "outputs": [
    {
     "data": {
      "text/html": [
       "<div>\n",
       "<style scoped>\n",
       "    .dataframe tbody tr th:only-of-type {\n",
       "        vertical-align: middle;\n",
       "    }\n",
       "\n",
       "    .dataframe tbody tr th {\n",
       "        vertical-align: top;\n",
       "    }\n",
       "\n",
       "    .dataframe thead th {\n",
       "        text-align: right;\n",
       "    }\n",
       "</style>\n",
       "<table border=\"1\" class=\"dataframe\">\n",
       "  <thead>\n",
       "    <tr style=\"text-align: right;\">\n",
       "      <th></th>\n",
       "      <th>xPosition</th>\n",
       "      <th>yPosition</th>\n",
       "    </tr>\n",
       "  </thead>\n",
       "  <tbody>\n",
       "    <tr>\n",
       "      <th>0</th>\n",
       "      <td>1.030</td>\n",
       "      <td>10.360</td>\n",
       "    </tr>\n",
       "    <tr>\n",
       "      <th>1</th>\n",
       "      <td>0.707</td>\n",
       "      <td>10.931</td>\n",
       "    </tr>\n",
       "    <tr>\n",
       "      <th>2</th>\n",
       "      <td>0.707</td>\n",
       "      <td>10.931</td>\n",
       "    </tr>\n",
       "    <tr>\n",
       "      <th>3</th>\n",
       "      <td>0.872</td>\n",
       "      <td>11.298</td>\n",
       "    </tr>\n",
       "    <tr>\n",
       "      <th>4</th>\n",
       "      <td>0.867</td>\n",
       "      <td>11.664</td>\n",
       "    </tr>\n",
       "  </tbody>\n",
       "</table>\n",
       "</div>"
      ],
      "text/plain": [
       "   xPosition  yPosition\n",
       "0      1.030     10.360\n",
       "1      0.707     10.931\n",
       "2      0.707     10.931\n",
       "3      0.872     11.298\n",
       "4      0.867     11.664"
      ]
     },
     "execution_count": 33,
     "metadata": {},
     "output_type": "execute_result"
    }
   ],
   "source": [
    "df.head()"
   ]
  },
  {
   "cell_type": "code",
   "execution_count": 34,
   "id": "0ca7fe67",
   "metadata": {},
   "outputs": [
    {
     "data": {
      "text/html": [
       "<div>\n",
       "<style scoped>\n",
       "    .dataframe tbody tr th:only-of-type {\n",
       "        vertical-align: middle;\n",
       "    }\n",
       "\n",
       "    .dataframe tbody tr th {\n",
       "        vertical-align: top;\n",
       "    }\n",
       "\n",
       "    .dataframe thead th {\n",
       "        text-align: right;\n",
       "    }\n",
       "</style>\n",
       "<table border=\"1\" class=\"dataframe\">\n",
       "  <thead>\n",
       "    <tr style=\"text-align: right;\">\n",
       "      <th></th>\n",
       "      <th>xPosition</th>\n",
       "      <th>yPosition</th>\n",
       "    </tr>\n",
       "  </thead>\n",
       "  <tbody>\n",
       "    <tr>\n",
       "      <th>31</th>\n",
       "      <td>0.935</td>\n",
       "      <td>9.488</td>\n",
       "    </tr>\n",
       "    <tr>\n",
       "      <th>32</th>\n",
       "      <td>1.156</td>\n",
       "      <td>9.261</td>\n",
       "    </tr>\n",
       "    <tr>\n",
       "      <th>33</th>\n",
       "      <td>1.432</td>\n",
       "      <td>9.143</td>\n",
       "    </tr>\n",
       "    <tr>\n",
       "      <th>34</th>\n",
       "      <td>1.280</td>\n",
       "      <td>8.835</td>\n",
       "    </tr>\n",
       "    <tr>\n",
       "      <th>35</th>\n",
       "      <td>1.280</td>\n",
       "      <td>8.835</td>\n",
       "    </tr>\n",
       "  </tbody>\n",
       "</table>\n",
       "</div>"
      ],
      "text/plain": [
       "    xPosition  yPosition\n",
       "31      0.935      9.488\n",
       "32      1.156      9.261\n",
       "33      1.432      9.143\n",
       "34      1.280      8.835\n",
       "35      1.280      8.835"
      ]
     },
     "execution_count": 34,
     "metadata": {},
     "output_type": "execute_result"
    }
   ],
   "source": [
    "df.tail()"
   ]
  },
  {
   "cell_type": "code",
   "execution_count": 35,
   "id": "aa784ab7",
   "metadata": {},
   "outputs": [
    {
     "data": {
      "text/plain": [
       "(36, 2)"
      ]
     },
     "execution_count": 35,
     "metadata": {},
     "output_type": "execute_result"
    }
   ],
   "source": [
    "shape = df.shape\n",
    "shape"
   ]
  },
  {
   "cell_type": "markdown",
   "id": "0f1a2f55",
   "metadata": {},
   "source": [
    "Create lists to store positions of the data frame"
   ]
  },
  {
   "cell_type": "code",
   "execution_count": 36,
   "id": "02b1e4b7",
   "metadata": {},
   "outputs": [],
   "source": [
    "xPositions = []\n",
    "yPositions = []"
   ]
  },
  {
   "cell_type": "code",
   "execution_count": 37,
   "id": "5b019e05",
   "metadata": {},
   "outputs": [],
   "source": [
    "index = 0\n",
    "\n",
    "while index < shape[0]:\n",
    "    xPositions.append(df.iloc[index, 0])\n",
    "    yPositions.append(df.iloc[index, 1])\n",
    "    index = index+1"
   ]
  },
  {
   "cell_type": "markdown",
   "id": "9c09f39d",
   "metadata": {},
   "source": [
    "Define the functions that are needed for the prediction"
   ]
  },
  {
   "cell_type": "code",
   "execution_count": 38,
   "id": "93ebcb72",
   "metadata": {},
   "outputs": [],
   "source": [
    "def calculatePath (points, timeDelta):\n",
    "    pointArray = np.array([])\n",
    "\n",
    "    for point in points:\n",
    "        pointArray = np.append(pointArray, point)\n",
    "    \n",
    "    timeArray = np.arange(0, timeDelta*len(points), timeDelta)\n",
    "    timeArray = timeArray.reshape(-1, 1) #must be reshaped, otherwise the regression can't be done\n",
    "    \n",
    "    model = LinearRegression().fit(timeArray, pointArray)\n",
    "\n",
    "    return model.coef_, model.intercept_"
   ]
  },
  {
   "cell_type": "code",
   "execution_count": 39,
   "id": "c6562890",
   "metadata": {},
   "outputs": [],
   "source": [
    "def predictNextPositions (points, coefficients, intercept, timeDelta, timeToPredict):\n",
    "    predictedPoints = [] #Empty list where the future X or Y values will be stored\n",
    "    timeValue = (len(points)-1)*timeDelta #Time value of the last known point assuming first element of the list points is in t=0\n",
    "    finalTimeToPredict = timeValue+timeToPredict #Calculate the time value for the last point that is gonna be predicted\n",
    "    \n",
    "    while timeValue < finalTimeToPredict:\n",
    "        timeValue = timeValue+timeDelta\n",
    "        predictedPoints.append(timeValue*coefficients[0]+intercept)\n",
    "    \n",
    "    return predictedPoints"
   ]
  },
  {
   "cell_type": "code",
   "execution_count": 40,
   "id": "6ce06914",
   "metadata": {},
   "outputs": [],
   "source": [
    "def getSpecifiedPoints (points, positions_into_consideration):\n",
    "    pointArray = np.array([])\n",
    "    positions_into_consideration___=positions_into_consideration\n",
    "    while positions_into_consideration!=0:\n",
    "        pointArray = np.append(pointArray, points[positions_into_consideration-positions_into_consideration___])\n",
    "        positions_into_consideration___=positions_into_consideration___-1\n",
    "    \n",
    "    \n",
    "\n",
    "    return pointArray"
   ]
  },
  {
   "cell_type": "markdown",
   "id": "abcf9e07",
   "metadata": {},
   "source": [
    "Compare predicted path with real path, changing the points taken for prediction\n",
    "1-time to predict=10"
   ]
  },
  {
   "cell_type": "code",
   "execution_count": 52,
   "id": "922c936a",
   "metadata": {},
   "outputs": [],
   "source": [
    "timeBetweenSamples=0.25\n",
    "timetopredict=7.5\n",
    "\n",
    "personXCoef, personXinter = calculatePath (xPositions[4+4+4: 16+4+4], timeBetweenSamples)\n",
    "personYCoef, personYinter = calculatePath (yPositions[4+4+4: 16+4+4], timeBetweenSamples)\n",
    "\n",
    "xPredictions = predictNextPositions (xPositions[4+4+4: 16+4+4], personXCoef, personXinter, timeBetweenSamples, timetopredict)\n",
    "YPredictions = predictNextPositions (yPositions[4+4+4: 16+4+4], personYCoef, personYinter, timeBetweenSamples, timetopredict)       \n",
    "                "
   ]
  },
  {
   "cell_type": "code",
   "execution_count": 53,
   "id": "af6c2b85",
   "metadata": {},
   "outputs": [
    {
     "data": {
      "image/png": "[encoded data removed]",
      "text/plain": [
       "<Figure size 432x288 with 1 Axes>"
      ]
     },
     "metadata": {
      "needs_background": "light"
     },
     "output_type": "display_data"
    }
   ],
   "source": [
    "plt.figure()\n",
    "plt.grid(\"True\")\n",
    "plt.scatter(xPositions[4+4+4: 16+4+4], yPositions [4+4+4: 16+4+4], label = \"UWB positions for prediction\", color = \"r\", marker = \"1\")\n",
    "plt.scatter(xPredictions, YPredictions, label= \"Predicted positions\", color = \"g\", marker = \"2\")\n",
    "plt.scatter(xPositions[17+4+4: -1], yPositions [17+4+4: -1], label = \"Real future positions\", color = \"b\", marker = \"3\")\n",
    "plt.xlim(-10, 10)\n",
    "plt.legend()\n",
    "plt.title(\"Path with prediction done for 7.5 secs, considering last 12 positions\")\n",
    "plt.show()"
   ]
  },
  {
   "cell_type": "code",
   "execution_count": 56,
   "id": "f63f2beb",
   "metadata": {},
   "outputs": [],
   "source": [
    "timeBetweenSamples=0.25\n",
    "timetopredict=7.5\n",
    "\n",
    "personXCoef, personXinter = calculatePath (xPositions[12+4+4: 16+4+4], timeBetweenSamples)\n",
    "personYCoef, personYinter = calculatePath (yPositions[12+4+4: 16+4+4], timeBetweenSamples)\n",
    "\n",
    "xPredictions = predictNextPositions (xPositions[12+4+4: 16+4+4], personXCoef, personXinter, timeBetweenSamples, timetopredict)\n",
    "YPredictions = predictNextPositions (yPositions[12+4+4: 16+4+4], personYCoef, personYinter, timeBetweenSamples, timetopredict)  "
   ]
  },
  {
   "cell_type": "code",
   "execution_count": 57,
   "id": "5b36ddde",
   "metadata": {
    "scrolled": true
   },
   "outputs": [
    {
     "data": {
      "image/png": "[encoded data removed]",
      "text/plain": [
       "<Figure size 432x288 with 1 Axes>"
      ]
     },
     "metadata": {
      "needs_background": "light"
     },
     "output_type": "display_data"
    }
   ],
   "source": [
    "plt.figure()\n",
    "plt.grid(\"True\")\n",
    "plt.scatter(xPositions[12+4+4: 16+4+4], yPositions [12+4+4: 16+4+4], label = \"UWB positions for prediction\", color = \"r\", marker = \"1\")\n",
    "plt.scatter(xPredictions, YPredictions, label= \"Predicted positions\", color = \"g\", marker = \"2\")\n",
    "plt.scatter(xPositions[17+4+4: -1], yPositions [17+4+4: -1], label = \"Real future positions\", color = \"b\", marker = \"3\")\n",
    "plt.xlim(-10, 10)\n",
    "plt.ylim(4.5, 20)\n",
    "plt.legend()\n",
    "plt.title(\"Path with prediction done for 7.5 secs, considering last 4 positions\")\n",
    "plt.show()"
   ]
  },
  {
   "cell_type": "code",
   "execution_count": 45,
   "id": "7fc6dea1",
   "metadata": {},
   "outputs": [
    {
     "data": {
      "text/plain": [
       "[14.72, 14.44, 14.061, 14.061]"
      ]
     },
     "execution_count": 45,
     "metadata": {},
     "output_type": "execute_result"
    }
   ],
   "source": [
    "yPositions [12+1: 16+1]\n"
   ]
  },
  {
   "cell_type": "code",
   "execution_count": null,
   "id": "5957591a",
   "metadata": {},
   "outputs": [],
   "source": []
  }
 ],
 "metadata": {
  "kernelspec": {
   "display_name": "Python 3 (ipykernel)",
   "language": "python",
   "name": "python3"
  },
  "language_info": {
   "codemirror_mode": {
    "name": "ipython",
    "version": 3
   },
   "file_extension": ".py",
   "mimetype": "text/x-python",
   "name": "python",
   "nbconvert_exporter": "python",
   "pygments_lexer": "ipython3",
   "version": "3.9.12"
  }
 },
 "nbformat": 4,
 "nbformat_minor": 5
}
