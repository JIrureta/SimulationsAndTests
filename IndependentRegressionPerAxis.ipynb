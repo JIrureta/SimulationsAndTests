{
 "cells": [
  {
   "cell_type": "code",
   "execution_count": 1,
   "id": "09e6ebc7",
   "metadata": {},
   "outputs": [],
   "source": [
    "from scipy.optimize import fsolve\n",
    "import numpy as np\n",
    "import matplotlib.pyplot as plt\n",
    "import math\n",
    "from sklearn.linear_model import LinearRegression"
   ]
  },
  {
   "cell_type": "markdown",
   "id": "79b0b2a2",
   "metadata": {},
   "source": [
    "Define the function to do the regression, in this case the input will either be the past x coordenates or the past y coordenates, therefore two regressions must be done. Time delta is the input that will be used to create the corresponding x axis value, starting from t=0 to t=N x time delta, being N the amount of measurements used in the regression."
   ]
  },
  {
   "cell_type": "code",
   "execution_count": 2,
   "id": "d36f422e",
   "metadata": {},
   "outputs": [],
   "source": [
    "def calculatePath (points, timeDelta):\n",
    "    pointArray = np.array([])\n",
    "\n",
    "    for point in points:\n",
    "        pointArray = np.append(pointArray, point)\n",
    "    \n",
    "    timeArray = np.arange(0, timeDelta*len(points), timeDelta)\n",
    "    timeArray = timeArray.reshape(-1, 1) #must be reshaped, otherwise the regression can't be done\n",
    "    \n",
    "    model = LinearRegression().fit(timeArray, pointArray)\n",
    "\n",
    "    return model.coef_, model.intercept_"
   ]
  },
  {
   "cell_type": "markdown",
   "id": "fe4e37d0",
   "metadata": {},
   "source": [
    "Define the function to obtain discrete future position values using the coefficiets and intercept obtained from the regression.\n",
    "This function will also have to be called twice and will return the following M values of X or Y in a list; M will depend on the timeToPredict value, which will define how long in the future we want to predict. The more time the more points will have to be compared and more likely is the trajectory to change as well."
   ]
  },
  {
   "cell_type": "code",
   "execution_count": 3,
   "id": "7652a2b3",
   "metadata": {},
   "outputs": [],
   "source": [
    "def predictNextPositions (points, coefficients, intercept, timeDelta, timeToPredict):\n",
    "    predictedPoints = [] #Empty list where the future X or Y values will be stored\n",
    "    timeValue = (len(points)-1)*timeDelta #Time value of the last known point assuming first element of the list points is in t=0\n",
    "    finalTimeToPredict = timeValue+timeToPredict #Calculate the time value for the last point that is gonna be predicted\n",
    "    \n",
    "    while timeValue < finalTimeToPredict:\n",
    "        timeValue = timeValue+timeDelta\n",
    "        predictedPoints.append(timeValue*coefficients[0]+intercept)\n",
    "    \n",
    "    return predictedPoints"
   ]
  },
  {
   "cell_type": "markdown",
   "id": "61dd95ed",
   "metadata": {},
   "source": [
    "Once the next positions have been predicted, the euclidean distance among the points with same time stamp must be calculated."
   ]
  },
  {
   "cell_type": "code",
   "execution_count": 4,
   "id": "48b88750",
   "metadata": {},
   "outputs": [],
   "source": [
    "def euclideanDistance (x1, y1, x2, y2):\n",
    "    return math.sqrt((x1-x2)**2+(y1-y2)**2)"
   ]
  },
  {
   "cell_type": "markdown",
   "id": "6154760e",
   "metadata": {},
   "source": [
    "Points for the euclidean distance function must be obtained. Those points have to be taken from the prediction array, and using them if the distance among some of them is smaller than a given vallue, the time to collision will be calculated based on the index of those numbers. The comparison will be done among not only the points with the same index, but a time margin will be defined, therefore every index withing that time margin will have to be checked."
   ]
  },
  {
   "cell_type": "code",
   "execution_count": 5,
   "id": "20c9768c",
   "metadata": {},
   "outputs": [],
   "source": [
    "def timeToCollision (predictedX1, predictedY1, predictedX2, predictedY2, timeMargin, timeDelta, minimumEuclideanDistance): #timeMargin will define points with how many time diff are checked\n",
    "    index = 0 #to iterate in the lists\n",
    "    \n",
    "    while index < len (predictedX1):\n",
    "        \n",
    "        maxAddition = int(timeMargin/timeDelta) # maxAddition will show the amount of indexes that need to be compared \n",
    "        addition = -maxAddition\n",
    "        \n",
    "        while addition <= maxAddition:\n",
    "            if index + addition >= 0 and index + addition < len(predictedX1): # negative indexes do not exist and the length can't be exceded\n",
    "                distanceAmongPoints = euclideanDistance(predictedX1[index], predictedY1[index], predictedX2[index+addition], predictedY2[index+addition])\n",
    "            \n",
    "                if distanceAmongPoints <= minimumEuclideanDistance:\n",
    "                    if addition+index <= index: # we will always return the most critical time to collision\n",
    "                        return (addition+index+1)*timeDelta #1 is added because collision in index = 0 means collision in t = timeDelta\n",
    "                    else:\n",
    "                        return (index+1)*timeDelta\n",
    "                else:\n",
    "                    pass #when the euclidean distance is greater than the defined minimum no actions needed\n",
    "            else:\n",
    "                pass #we will pass when the index is negative or the index is greater than the length of the list\n",
    "            \n",
    "            addition = addition+1\n",
    "        index = index+1\n",
    "    return -1 #-1 means no collision danger"
   ]
  },
  {
   "cell_type": "markdown",
   "id": "04e5205a",
   "metadata": {},
   "source": [
    "# Test 1:"
   ]
  },
  {
   "cell_type": "code",
   "execution_count": 6,
   "id": "f6bb1003",
   "metadata": {},
   "outputs": [
    {
     "data": {
      "image/png": "[encoded data removed]",
      "text/plain": [
       "<Figure size 432x288 with 1 Axes>"
      ]
     },
     "metadata": {
      "needs_background": "light"
     },
     "output_type": "display_data"
    }
   ],
   "source": [
    "robotX = [1, 1, 1, 1]\n",
    "robotY = [0, 1, 2, 3]\n",
    "\n",
    "personX = [1, 2, 3, 4]\n",
    "personY = [4, 4, 4, 4]\n",
    "\n",
    "timeBetweenSamples = 0.25\n",
    "\n",
    "robotXCoef, robotXinter = calculatePath (robotX, timeBetweenSamples)\n",
    "robotYCoef, robotYinter = calculatePath (robotY, timeBetweenSamples)\n",
    "\n",
    "personXCoef, personXinter = calculatePath (personX, timeBetweenSamples)\n",
    "personYCoef, personYinter = calculatePath (personY, timeBetweenSamples)\n",
    "\n",
    "predictedRobotX = predictNextPositions (robotX, robotXCoef, robotXinter, timeBetweenSamples, 2)\n",
    "predictedRobotY = predictNextPositions (robotY, robotYCoef, robotYinter, timeBetweenSamples, 2)\n",
    "\n",
    "predictedPersonX = predictNextPositions (personX, personXCoef, personXinter, timeBetweenSamples, 2)\n",
    "predictedPersonY = predictNextPositions (personY, personYCoef, personYinter, timeBetweenSamples, 2)\n",
    "\n",
    "plt.figure()\n",
    "plt.grid(\"True\")\n",
    "plt.scatter(personX, personY, label= \"Person\")\n",
    "plt.scatter(robotX, robotY, label= \"Robot\")\n",
    "plt.legend()\n",
    "plt.show()\n"
   ]
  },
  {
   "cell_type": "code",
   "execution_count": 7,
   "id": "e7e73130",
   "metadata": {},
   "outputs": [
    {
     "data": {
      "text/plain": [
       "array([0.])"
      ]
     },
     "execution_count": 7,
     "metadata": {},
     "output_type": "execute_result"
    }
   ],
   "source": [
    "robotXCoef"
   ]
  },
  {
   "cell_type": "code",
   "execution_count": 8,
   "id": "fdff0bbd",
   "metadata": {},
   "outputs": [
    {
     "data": {
      "text/plain": [
       "1.0"
      ]
     },
     "execution_count": 8,
     "metadata": {},
     "output_type": "execute_result"
    }
   ],
   "source": [
    "robotXinter"
   ]
  },
  {
   "cell_type": "code",
   "execution_count": 9,
   "id": "947a5712",
   "metadata": {},
   "outputs": [
    {
     "data": {
      "text/plain": [
       "array([4.])"
      ]
     },
     "execution_count": 9,
     "metadata": {},
     "output_type": "execute_result"
    }
   ],
   "source": [
    "robotYCoef"
   ]
  },
  {
   "cell_type": "code",
   "execution_count": 10,
   "id": "f0e7aa2a",
   "metadata": {},
   "outputs": [
    {
     "data": {
      "text/plain": [
       "0.0"
      ]
     },
     "execution_count": 10,
     "metadata": {},
     "output_type": "execute_result"
    }
   ],
   "source": [
    "robotYinter"
   ]
  },
  {
   "cell_type": "code",
   "execution_count": 11,
   "id": "87ec9587",
   "metadata": {},
   "outputs": [
    {
     "name": "stdout",
     "output_type": "stream",
     "text": [
      "[1.0, 1.0, 1.0, 1.0, 1.0, 1.0, 1.0, 1.0]\n"
     ]
    }
   ],
   "source": [
    "print(predictedRobotX)"
   ]
  },
  {
   "cell_type": "code",
   "execution_count": 12,
   "id": "7163219b",
   "metadata": {},
   "outputs": [
    {
     "name": "stdout",
     "output_type": "stream",
     "text": [
      "[4.0, 5.0, 6.0, 7.0, 8.0, 9.0, 10.0, 11.0]\n"
     ]
    }
   ],
   "source": [
    "print(predictedRobotY)"
   ]
  },
  {
   "cell_type": "code",
   "execution_count": 13,
   "id": "34dc4f24",
   "metadata": {},
   "outputs": [
    {
     "name": "stdout",
     "output_type": "stream",
     "text": [
      "[5.0, 6.0, 7.0, 8.0, 9.0, 10.0, 11.0, 12.0]\n"
     ]
    }
   ],
   "source": [
    "print(predictedPersonX)"
   ]
  },
  {
   "cell_type": "code",
   "execution_count": 14,
   "id": "2c82d8fa",
   "metadata": {},
   "outputs": [
    {
     "name": "stdout",
     "output_type": "stream",
     "text": [
      "[4.0, 4.0, 4.0, 4.0, 4.0, 4.0, 4.0, 4.0]\n"
     ]
    }
   ],
   "source": [
    "print(predictedPersonY)"
   ]
  },
  {
   "cell_type": "code",
   "execution_count": 15,
   "id": "3b9e1417",
   "metadata": {},
   "outputs": [],
   "source": [
    "collisionTime = timeToCollision(predictedRobotX, predictedRobotY, predictedPersonX, predictedPersonY, 1, timeBetweenSamples, 1)"
   ]
  },
  {
   "cell_type": "code",
   "execution_count": 16,
   "id": "f97a9449",
   "metadata": {},
   "outputs": [
    {
     "data": {
      "text/plain": [
       "-1"
      ]
     },
     "execution_count": 16,
     "metadata": {},
     "output_type": "execute_result"
    }
   ],
   "source": [
    "collisionTime"
   ]
  },
  {
   "cell_type": "code",
   "execution_count": 17,
   "id": "6f650bcf",
   "metadata": {},
   "outputs": [
    {
     "data": {
      "image/png": "[encoded data removed]",
      "text/plain": [
       "<Figure size 432x288 with 1 Axes>"
      ]
     },
     "metadata": {
      "needs_background": "light"
     },
     "output_type": "display_data"
    }
   ],
   "source": [
    "plt.figure()\n",
    "plt.grid(\"True\")\n",
    "plt.scatter(predictedPersonX, predictedPersonY, label= \"Person\")\n",
    "plt.scatter(predictedRobotX, predictedRobotY, label= \"Robot\")\n",
    "plt.show()"
   ]
  },
  {
   "cell_type": "markdown",
   "id": "0e3b1361",
   "metadata": {},
   "source": [
    "# Test 2:"
   ]
  },
  {
   "cell_type": "code",
   "execution_count": 18,
   "id": "443bbf18",
   "metadata": {},
   "outputs": [
    {
     "data": {
      "image/png": "[encoded data removed]",
      "text/plain": [
       "<Figure size 432x288 with 1 Axes>"
      ]
     },
     "metadata": {
      "needs_background": "light"
     },
     "output_type": "display_data"
    }
   ],
   "source": [
    "personX = [1, 2, 3, 4, 5, 6, 7, 8, 9, 10, 11, 12]\n",
    "personY = [3, 6, 9, 12, 15, 18, 21, 24, 27, 30, 33, 36]\n",
    "robotX = [5, 6, 7, 8, 9, 10, 11, 12, 13, 14, 15, 16]\n",
    "robotY = [1, 2, 3, 4, 5, 6, 7, 8, 9, 10, 11, 12]\n",
    "\n",
    "plt.figure()\n",
    "plt.grid(\"True\")\n",
    "plt.xlabel(\"X position\")\n",
    "plt.ylabel(\"Y position\")\n",
    "plt.title(\"Data from position\")\n",
    "plt.scatter(personX, personY, label=\"Person\")\n",
    "plt.scatter(robotX, robotY, label=\"Robot\")\n",
    "plt.legend()\n",
    "plt.show()\n",
    "\n",
    "timeBetweenSamples = 0.25\n",
    "\n",
    "robotXCoef, robotXinter = calculatePath (robotX, timeBetweenSamples)\n",
    "robotYCoef, robotYinter = calculatePath (robotY, timeBetweenSamples)\n",
    "\n",
    "personXCoef, personXinter = calculatePath (personX, timeBetweenSamples)\n",
    "personYCoef, personYinter = calculatePath (personY, timeBetweenSamples)\n",
    "\n",
    "predictedRobotX = predictNextPositions (robotX, robotXCoef, robotXinter, timeBetweenSamples, 2)\n",
    "predictedRobotY = predictNextPositions (robotY, robotYCoef, robotYinter, timeBetweenSamples, 2)\n",
    "\n",
    "predictedPersonX = predictNextPositions (personX, personXCoef, personXinter, timeBetweenSamples, 2)\n",
    "predictedPersonY = predictNextPositions (personY, personYCoef, personYinter, timeBetweenSamples, 2)\n"
   ]
  },
  {
   "cell_type": "code",
   "execution_count": 19,
   "id": "bfc1a29b",
   "metadata": {},
   "outputs": [
    {
     "data": {
      "text/plain": [
       "array([4.])"
      ]
     },
     "execution_count": 19,
     "metadata": {},
     "output_type": "execute_result"
    }
   ],
   "source": [
    "robotXCoef"
   ]
  },
  {
   "cell_type": "code",
   "execution_count": 20,
   "id": "75fb42ae",
   "metadata": {},
   "outputs": [
    {
     "data": {
      "text/plain": [
       "5.000000000000003"
      ]
     },
     "execution_count": 20,
     "metadata": {},
     "output_type": "execute_result"
    }
   ],
   "source": [
    "robotXinter"
   ]
  },
  {
   "cell_type": "code",
   "execution_count": 21,
   "id": "bdd25f5a",
   "metadata": {},
   "outputs": [
    {
     "data": {
      "text/plain": [
       "array([4.])"
      ]
     },
     "execution_count": 21,
     "metadata": {},
     "output_type": "execute_result"
    }
   ],
   "source": [
    "robotYCoef"
   ]
  },
  {
   "cell_type": "code",
   "execution_count": 22,
   "id": "d401b5c6",
   "metadata": {},
   "outputs": [
    {
     "data": {
      "text/plain": [
       "1.0000000000000027"
      ]
     },
     "execution_count": 22,
     "metadata": {},
     "output_type": "execute_result"
    }
   ],
   "source": [
    "robotYinter"
   ]
  },
  {
   "cell_type": "code",
   "execution_count": 23,
   "id": "71fed31b",
   "metadata": {},
   "outputs": [
    {
     "name": "stdout",
     "output_type": "stream",
     "text": [
      "[16.999999999999996, 17.999999999999996, 18.999999999999996, 19.999999999999996, 20.999999999999996, 21.999999999999996, 22.999999999999996, 23.999999999999996]\n"
     ]
    }
   ],
   "source": [
    "print(predictedRobotX)"
   ]
  },
  {
   "cell_type": "code",
   "execution_count": 24,
   "id": "c3b062bb",
   "metadata": {},
   "outputs": [
    {
     "name": "stdout",
     "output_type": "stream",
     "text": [
      "[12.999999999999996, 13.999999999999996, 14.999999999999996, 15.999999999999996, 16.999999999999996, 17.999999999999996, 18.999999999999996, 19.999999999999996]\n"
     ]
    }
   ],
   "source": [
    "print(predictedRobotY)"
   ]
  },
  {
   "cell_type": "code",
   "execution_count": 25,
   "id": "7a698d5a",
   "metadata": {},
   "outputs": [
    {
     "name": "stdout",
     "output_type": "stream",
     "text": [
      "[12.999999999999996, 13.999999999999996, 14.999999999999996, 15.999999999999996, 16.999999999999996, 17.999999999999996, 18.999999999999996, 19.999999999999996]\n"
     ]
    }
   ],
   "source": [
    "print(predictedPersonX)"
   ]
  },
  {
   "cell_type": "code",
   "execution_count": 26,
   "id": "97b43c86",
   "metadata": {},
   "outputs": [
    {
     "name": "stdout",
     "output_type": "stream",
     "text": [
      "[38.99999999999999, 41.99999999999999, 44.999999999999986, 47.999999999999986, 50.999999999999986, 53.999999999999986, 56.999999999999986, 59.99999999999998]\n"
     ]
    }
   ],
   "source": [
    "print(predictedPersonY)"
   ]
  },
  {
   "cell_type": "code",
   "execution_count": 27,
   "id": "6f934271",
   "metadata": {},
   "outputs": [],
   "source": [
    "collisionTime = timeToCollision(predictedRobotX, predictedRobotY, predictedPersonX, predictedPersonY, 1, timeBetweenSamples, 1)"
   ]
  },
  {
   "cell_type": "code",
   "execution_count": 28,
   "id": "cf5688c3",
   "metadata": {},
   "outputs": [
    {
     "data": {
      "text/plain": [
       "-1"
      ]
     },
     "execution_count": 28,
     "metadata": {},
     "output_type": "execute_result"
    }
   ],
   "source": [
    "collisionTime"
   ]
  },
  {
   "cell_type": "code",
   "execution_count": 29,
   "id": "ea6428e3",
   "metadata": {
    "scrolled": true
   },
   "outputs": [
    {
     "data": {
      "image/png": "[encoded data removed]",
      "text/plain": [
       "<Figure size 432x288 with 1 Axes>"
      ]
     },
     "metadata": {
      "needs_background": "light"
     },
     "output_type": "display_data"
    }
   ],
   "source": [
    "plt.figure()\n",
    "plt.grid(\"True\")\n",
    "plt.scatter(predictedPersonX, predictedPersonY, label= \"Person\")\n",
    "plt.scatter(predictedRobotX, predictedRobotY, label= \"Robot\")\n",
    "plt.show()"
   ]
  },
  {
   "cell_type": "markdown",
   "id": "c2c4885a",
   "metadata": {},
   "source": [
    "# Test 3:"
   ]
  },
  {
   "cell_type": "code",
   "execution_count": 30,
   "id": "a1eaf52e",
   "metadata": {},
   "outputs": [
    {
     "data": {
      "image/png": "[encoded data removed]",
      "text/plain": [
       "<Figure size 432x288 with 1 Axes>"
      ]
     },
     "metadata": {
      "needs_background": "light"
     },
     "output_type": "display_data"
    }
   ],
   "source": [
    "personX = [12, 11, 10, 9, 8, 7, 6, 5, 4, 3, 2, 1]\n",
    "personY = [36, 33, 30, 27, 24, 21, 18, 15, 12, 9, 6, 3]\n",
    "robotX = [16, 15, 14, 13, 12, 11, 10, 9, 8, 7, 6, 5]\n",
    "robotY = [12, 11, 10, 9, 8, 7, 6, 5, 4, 3, 2, 1]\n",
    "\n",
    "plt.figure()\n",
    "plt.grid(\"True\")\n",
    "plt.xlabel(\"X position\")\n",
    "plt.ylabel(\"Y position\")\n",
    "plt.title(\"Data from position\")\n",
    "plt.scatter(personX, personY, label=\"Person\")\n",
    "plt.scatter(robotX, robotY, label=\"Robot\")\n",
    "plt.legend()\n",
    "plt.show()\n",
    "\n",
    "timeBetweenSamples = 0.25\n",
    "\n",
    "robotXCoef, robotXinter = calculatePath (robotX, timeBetweenSamples)\n",
    "robotYCoef, robotYinter = calculatePath (robotY, timeBetweenSamples)\n",
    "\n",
    "personXCoef, personXinter = calculatePath (personX, timeBetweenSamples)\n",
    "personYCoef, personYinter = calculatePath (personY, timeBetweenSamples)\n",
    "\n",
    "predictedRobotX = predictNextPositions (robotX, robotXCoef, robotXinter, timeBetweenSamples, 2)\n",
    "predictedRobotY = predictNextPositions (robotY, robotYCoef, robotYinter, timeBetweenSamples, 2)\n",
    "\n",
    "predictedPersonX = predictNextPositions (personX, personXCoef, personXinter, timeBetweenSamples, 2)\n",
    "predictedPersonY = predictNextPositions (personY, personYCoef, personYinter, timeBetweenSamples, 2)"
   ]
  },
  {
   "cell_type": "code",
   "execution_count": 31,
   "id": "ba54fb1e",
   "metadata": {},
   "outputs": [
    {
     "data": {
      "text/plain": [
       "array([-4.])"
      ]
     },
     "execution_count": 31,
     "metadata": {},
     "output_type": "execute_result"
    }
   ],
   "source": [
    "robotXCoef"
   ]
  },
  {
   "cell_type": "code",
   "execution_count": 32,
   "id": "a75fb1b1",
   "metadata": {},
   "outputs": [
    {
     "data": {
      "text/plain": [
       "15.999999999999996"
      ]
     },
     "execution_count": 32,
     "metadata": {},
     "output_type": "execute_result"
    }
   ],
   "source": [
    "robotXinter"
   ]
  },
  {
   "cell_type": "code",
   "execution_count": 33,
   "id": "c257f2ab",
   "metadata": {},
   "outputs": [
    {
     "data": {
      "text/plain": [
       "array([-4.])"
      ]
     },
     "execution_count": 33,
     "metadata": {},
     "output_type": "execute_result"
    }
   ],
   "source": [
    "robotYCoef"
   ]
  },
  {
   "cell_type": "code",
   "execution_count": 34,
   "id": "00f95621",
   "metadata": {},
   "outputs": [
    {
     "data": {
      "text/plain": [
       "11.999999999999996"
      ]
     },
     "execution_count": 34,
     "metadata": {},
     "output_type": "execute_result"
    }
   ],
   "source": [
    "robotYinter"
   ]
  },
  {
   "cell_type": "code",
   "execution_count": 35,
   "id": "46d5e9f1",
   "metadata": {},
   "outputs": [
    {
     "name": "stdout",
     "output_type": "stream",
     "text": [
      "[4.000000000000002, 3.0000000000000018, 2.0000000000000036, 1.0000000000000036, 3.552713678800501e-15, -0.9999999999999964, -1.9999999999999964, -2.9999999999999964]\n"
     ]
    }
   ],
   "source": [
    "print(predictedRobotX)"
   ]
  },
  {
   "cell_type": "code",
   "execution_count": 36,
   "id": "829b0af2",
   "metadata": {},
   "outputs": [
    {
     "name": "stdout",
     "output_type": "stream",
     "text": [
      "[1.7763568394002505e-15, -0.9999999999999982, -1.9999999999999964, -2.9999999999999964, -3.9999999999999964, -4.9999999999999964, -5.9999999999999964, -6.9999999999999964]\n"
     ]
    }
   ],
   "source": [
    "print(predictedRobotY)"
   ]
  },
  {
   "cell_type": "code",
   "execution_count": 37,
   "id": "0d050d7c",
   "metadata": {},
   "outputs": [
    {
     "name": "stdout",
     "output_type": "stream",
     "text": [
      "[1.7763568394002505e-15, -0.9999999999999982, -1.9999999999999964, -2.9999999999999964, -3.9999999999999964, -4.9999999999999964, -5.9999999999999964, -6.9999999999999964]\n"
     ]
    }
   ],
   "source": [
    "print(predictedPersonX)"
   ]
  },
  {
   "cell_type": "code",
   "execution_count": 38,
   "id": "d335086e",
   "metadata": {},
   "outputs": [
    {
     "name": "stdout",
     "output_type": "stream",
     "text": [
      "[7.105427357601002e-15, -2.999999999999993, -5.999999999999986, -8.999999999999986, -11.999999999999986, -14.999999999999986, -17.999999999999986, -20.99999999999998]\n"
     ]
    }
   ],
   "source": [
    "print(predictedPersonY)"
   ]
  },
  {
   "cell_type": "code",
   "execution_count": 39,
   "id": "d4c9d387",
   "metadata": {},
   "outputs": [],
   "source": [
    "collisionTime = timeToCollision(predictedRobotX, predictedRobotY, predictedPersonX, predictedPersonY, 1, timeBetweenSamples, 1)"
   ]
  },
  {
   "cell_type": "code",
   "execution_count": 40,
   "id": "8f2391c4",
   "metadata": {},
   "outputs": [
    {
     "data": {
      "text/plain": [
       "0.75"
      ]
     },
     "execution_count": 40,
     "metadata": {},
     "output_type": "execute_result"
    }
   ],
   "source": [
    "collisionTime"
   ]
  },
  {
   "cell_type": "code",
   "execution_count": 41,
   "id": "64048903",
   "metadata": {
    "scrolled": false
   },
   "outputs": [
    {
     "data": {
      "image/png": "[encoded data removed]",
      "text/plain": [
       "<Figure size 432x288 with 1 Axes>"
      ]
     },
     "metadata": {
      "needs_background": "light"
     },
     "output_type": "display_data"
    }
   ],
   "source": [
    "plt.figure()\n",
    "plt.grid(\"True\")\n",
    "plt.xlabel(\"X position\")\n",
    "plt.ylabel(\"Y position\")\n",
    "plt.plot(predictedPersonX[0], predictedPersonY[0], label=\"First prediction person\", marker = \"^\", markersize = \"11\")\n",
    "plt.plot(predictedRobotX[0], predictedRobotY[0], label=\"First prediction robot\", marker = \"s\", markersize = \"11\")\n",
    "plt.scatter(predictedPersonX, predictedPersonY, label= \"Person\")\n",
    "plt.scatter(predictedRobotX, predictedRobotY, label= \"Robot\")\n",
    "plt.legend()\n",
    "plt.show()"
   ]
  },
  {
   "cell_type": "markdown",
   "id": "93ff780c",
   "metadata": {},
   "source": [
    "# Test 4:"
   ]
  },
  {
   "cell_type": "code",
   "execution_count": 42,
   "id": "c532e0d2",
   "metadata": {},
   "outputs": [
    {
     "data": {
      "image/png": "[encoded data removed]",
      "text/plain": [
       "<Figure size 432x288 with 1 Axes>"
      ]
     },
     "metadata": {
      "needs_background": "light"
     },
     "output_type": "display_data"
    }
   ],
   "source": [
    "personX = [-8, -7, -6, -5, -4, -3, -2, -1, 0, 1, 2, 3]\n",
    "personY = [-8, -7, -6, -5, -4, -3, -2, -1, 0, 1, 2, 3]\n",
    "robotX = [-11, -10, -9, -8, -7, -6, -5, -4, -3, -2, -1, 0]\n",
    "robotY = [17, 16, 15, 14, 13, 12, 11, 10, 9, 8, 7, 6]\n",
    "\n",
    "plt.figure()\n",
    "plt.grid(\"True\")\n",
    "plt.xlabel(\"X position\")\n",
    "plt.ylabel(\"Y position\")\n",
    "plt.title(\"Data from position\")\n",
    "plt.scatter(personX, personY, label=\"Person\")\n",
    "plt.scatter(robotX, robotY, label=\"Robot\")\n",
    "plt.legend()\n",
    "plt.show()\n",
    "\n",
    "timeBetweenSamples = 0.25\n",
    "\n",
    "robotXCoef, robotXinter = calculatePath (robotX, timeBetweenSamples)\n",
    "robotYCoef, robotYinter = calculatePath (robotY, timeBetweenSamples)\n",
    "\n",
    "personXCoef, personXinter = calculatePath (personX, timeBetweenSamples)\n",
    "personYCoef, personYinter = calculatePath (personY, timeBetweenSamples)\n",
    "\n",
    "predictedRobotX = predictNextPositions (robotX, robotXCoef, robotXinter, timeBetweenSamples, 2)\n",
    "predictedRobotY = predictNextPositions (robotY, robotYCoef, robotYinter, timeBetweenSamples, 2)\n",
    "\n",
    "predictedPersonX = predictNextPositions (personX, personXCoef, personXinter, timeBetweenSamples, 2)\n",
    "predictedPersonY = predictNextPositions (personY, personYCoef, personYinter, timeBetweenSamples, 2)"
   ]
  },
  {
   "cell_type": "code",
   "execution_count": 43,
   "id": "ca508198",
   "metadata": {},
   "outputs": [
    {
     "data": {
      "text/plain": [
       "array([4.])"
      ]
     },
     "execution_count": 43,
     "metadata": {},
     "output_type": "execute_result"
    }
   ],
   "source": [
    "robotXCoef"
   ]
  },
  {
   "cell_type": "code",
   "execution_count": 44,
   "id": "e4ee7331",
   "metadata": {},
   "outputs": [
    {
     "data": {
      "text/plain": [
       "-10.999999999999996"
      ]
     },
     "execution_count": 44,
     "metadata": {},
     "output_type": "execute_result"
    }
   ],
   "source": [
    "robotXinter"
   ]
  },
  {
   "cell_type": "code",
   "execution_count": 45,
   "id": "63895d3a",
   "metadata": {},
   "outputs": [
    {
     "data": {
      "text/plain": [
       "array([-4.])"
      ]
     },
     "execution_count": 45,
     "metadata": {},
     "output_type": "execute_result"
    }
   ],
   "source": [
    "robotYCoef"
   ]
  },
  {
   "cell_type": "code",
   "execution_count": 46,
   "id": "6b8fb2c4",
   "metadata": {},
   "outputs": [
    {
     "data": {
      "text/plain": [
       "16.999999999999996"
      ]
     },
     "execution_count": 46,
     "metadata": {},
     "output_type": "execute_result"
    }
   ],
   "source": [
    "robotYinter"
   ]
  },
  {
   "cell_type": "code",
   "execution_count": 47,
   "id": "e8ba0dac",
   "metadata": {},
   "outputs": [
    {
     "name": "stdout",
     "output_type": "stream",
     "text": [
      "[0.9999999999999982, 1.9999999999999982, 2.9999999999999964, 3.9999999999999964, 4.9999999999999964, 5.9999999999999964, 6.9999999999999964, 7.9999999999999964]\n"
     ]
    }
   ],
   "source": [
    "print(predictedRobotX)"
   ]
  },
  {
   "cell_type": "code",
   "execution_count": 48,
   "id": "78dfdace",
   "metadata": {},
   "outputs": [
    {
     "name": "stdout",
     "output_type": "stream",
     "text": [
      "[5.000000000000002, 4.000000000000002, 3.0000000000000036, 2.0000000000000036, 1.0000000000000036, 3.552713678800501e-15, -0.9999999999999964, -1.9999999999999964]\n"
     ]
    }
   ],
   "source": [
    "print(predictedRobotY)"
   ]
  },
  {
   "cell_type": "code",
   "execution_count": 49,
   "id": "b7586557",
   "metadata": {},
   "outputs": [
    {
     "name": "stdout",
     "output_type": "stream",
     "text": [
      "[3.9999999999999973, 4.999999999999997, 5.999999999999996, 6.999999999999996, 7.999999999999996, 8.999999999999996, 9.999999999999996, 10.999999999999996]\n"
     ]
    }
   ],
   "source": [
    "print(predictedPersonX)"
   ]
  },
  {
   "cell_type": "code",
   "execution_count": 50,
   "id": "5d2bad41",
   "metadata": {},
   "outputs": [
    {
     "name": "stdout",
     "output_type": "stream",
     "text": [
      "[3.9999999999999973, 4.999999999999997, 5.999999999999996, 6.999999999999996, 7.999999999999996, 8.999999999999996, 9.999999999999996, 10.999999999999996]\n"
     ]
    }
   ],
   "source": [
    "print(predictedPersonY)"
   ]
  },
  {
   "cell_type": "code",
   "execution_count": 54,
   "id": "586f9be5",
   "metadata": {},
   "outputs": [],
   "source": [
    "collisionTime = timeToCollision(predictedRobotX, predictedRobotY, predictedPersonX, predictedPersonY, 1, timeBetweenSamples, 2)"
   ]
  },
  {
   "cell_type": "code",
   "execution_count": 55,
   "id": "4ff8cbcf",
   "metadata": {},
   "outputs": [
    {
     "data": {
      "text/plain": [
       "0.25"
      ]
     },
     "execution_count": 55,
     "metadata": {},
     "output_type": "execute_result"
    }
   ],
   "source": [
    "collisionTime"
   ]
  },
  {
   "cell_type": "code",
   "execution_count": 53,
   "id": "66f10dc3",
   "metadata": {
    "scrolled": false
   },
   "outputs": [
    {
     "data": {
      "image/png": "[encoded data removed]",
      "text/plain": [
       "<Figure size 432x288 with 1 Axes>"
      ]
     },
     "metadata": {
      "needs_background": "light"
     },
     "output_type": "display_data"
    }
   ],
   "source": [
    "plt.figure()\n",
    "plt.grid(\"True\")\n",
    "plt.xlabel(\"X position\")\n",
    "plt.ylabel(\"Y position\")\n",
    "plt.plot(predictedPersonX[0], predictedPersonY[0], label=\"First prediction person\", marker = \"^\", markersize = \"11\")\n",
    "plt.plot(predictedRobotX[0], predictedRobotY[0], label=\"First prediction robot\", marker = \"s\", markersize = \"11\")\n",
    "plt.scatter(predictedPersonX, predictedPersonY, label= \"Person\")\n",
    "plt.scatter(predictedRobotX, predictedRobotY, label= \"Robot\")\n",
    "plt.legend()\n",
    "plt.show()"
   ]
  }
 ],
 "metadata": {
  "kernelspec": {
   "display_name": "Python 3 (ipykernel)",
   "language": "python",
   "name": "python3"
  },
  "language_info": {
   "codemirror_mode": {
    "name": "ipython",
    "version": 3
   },
   "file_extension": ".py",
   "mimetype": "text/x-python",
   "name": "python",
   "nbconvert_exporter": "python",
   "pygments_lexer": "ipython3",
   "version": "3.9.12"
  }
 },
 "nbformat": 4,
 "nbformat_minor": 5
}
